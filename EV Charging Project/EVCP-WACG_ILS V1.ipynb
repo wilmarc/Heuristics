{
 "cells": [
  {
   "cell_type": "markdown",
   "metadata": {},
   "source": [
    "# Project: Electric Vehicle Charging Scheduling Problem (EVCS)\n",
    "## Final deliverable\n",
    "## Prescriptive Analytics: Heuristics for Decision Making\n",
    "### Wilmar Calderón - 201630701"
   ]
  },
  {
   "cell_type": "markdown",
   "metadata": {},
   "source": [
    "The Electric Vehicle Charging Scheduling (EVCS) problems aims to determine the optimal sequence of charging $n$ vehicles in $m$ chargers. The EVCS can be formulated with multiple objectives as reducing cost or maximizing the charge, which are the most common objectives for the problem. This implementation describes a constructive Heuristic formulation to obtain an initial and feasible solution for the EVCS. The proposed implementation considers two approaches, first, the Earliest Departure First (EDF) and the First Come First Served (FCFS) approach. the former, prioritizes the vehicles that have the nearest departure time to schedule its charge first, the latter considers that the first vehcile that arrives should be attended. Implementation of the Heuristic is described below."
   ]
  },
  {
   "cell_type": "code",
   "execution_count": 52,
   "metadata": {},
   "outputs": [],
   "source": [
    "import json\n",
    "import pandas as pd\n",
    "from typing import Dict, Tuple\n",
    "import numpy as np\n",
    "import matplotlib.pyplot as plt\n",
    "import matplotlib.cm as cm\n",
    "from matplotlib.colors import Normalize\n",
    "import time\n",
    "import random\n",
    "import copy\n",
    "import optuna\n",
    "from functools import partial"
   ]
  },
  {
   "cell_type": "code",
   "execution_count": 53,
   "metadata": {},
   "outputs": [],
   "source": [
    "# --- Constants and Configuration ---\n",
    "STEP_DURATION = 0.25  # Time spacing: Model parameter (fraction of an hour)\n",
    "seed=10\n",
    "random.seed(seed)\n",
    "np.random.seed(seed)\n",
    "\n",
    "# --- Helper Functions ---\n",
    "\n",
    "#Convert the time to the index\n",
    "def time_to_index(t, delta_t=STEP_DURATION):\n",
    "    \"\"\"Converts time to a slot index.\"\"\"\n",
    "    return int(round(t / delta_t))\n",
    "\n",
    "#Convert the indices to time (fraction of hours)\n",
    "def index_to_time(idx, delta_t=STEP_DURATION):\n",
    "    \"\"\"Converts a slot index back to time.\"\"\"\n",
    "    return round(idx * delta_t, 2) # Keep precision consistent"
   ]
  },
  {
   "cell_type": "code",
   "execution_count": 54,
   "metadata": {},
   "outputs": [],
   "source": [
    "#Loads data from JSON and preprocesses it for ILS. Returns a dictionary of processed data.\"\n",
    "def load_and_preprocess_data(file_path):\n",
    "    #loads the JSON with the instance details\n",
    "    with open(file_path, 'r') as file:\n",
    "        data = json.load(file)\n",
    "\n",
    "    #Dictionary to store the information\n",
    "    processed_data = {}\n",
    "\n",
    "    # Energy Prices\n",
    "    energy_prices_df = pd.DataFrame(data['energy_prices'], columns=['time', 'price'])\n",
    "    processed_data['energy_prices_df'] = energy_prices_df\n",
    "\n",
    "    # EV Arrivals\n",
    "    arrivals_df = pd.DataFrame(data['arrivals'], columns=['id', 'arrival_time', 'departure_time', 'required_energy', 'brand','min_charge_rate', 'max_charge_rate'])\n",
    "    \n",
    "    # Ensure consistent indexing for EVs (0 to N-1)\n",
    "    arrivals_df = arrivals_df.sort_values(by='id').reset_index(drop=True)\n",
    "    arrivals_df['ev_idx'] = arrivals_df.index \n",
    "\n",
    "    #Convert the arrival and departure time to the corresponding indexes in the arrays\n",
    "    arrivals_df['arrival_slot_idx'] = arrivals_df['arrival_time'].apply(lambda t: time_to_index(t, STEP_DURATION))\n",
    "    arrivals_df['departure_slot_idx'] = arrivals_df['departure_time'].apply(lambda t: time_to_index(t, STEP_DURATION))\n",
    "    \n",
    "    #Min/max energy per EV arrival based on rates of the EV\n",
    "    arrivals_df['min_energy_per_slot'] = arrivals_df['min_charge_rate'] * STEP_DURATION\n",
    "    arrivals_df['max_energy_per_slot'] = arrivals_df['max_charge_rate'] * STEP_DURATION\n",
    "\n",
    "    #Stores the information of the EV in the Dictionary that will be returned\n",
    "    processed_data['arrivals_df'] = arrivals_df\n",
    "    processed_data['num_evs'] = len(arrivals_df)\n",
    "\n",
    "    # Chargers\n",
    "    parking_config = data.get('parking_config', {})\n",
    "    chargers_df = pd.DataFrame(parking_config['chargers'], columns=[\"charger_id\", \"power\", \"type\", \"operation_cost_per_hour\", \"compatible_vehicles\"])\n",
    "\n",
    "    # Ensure consistent indexing for chargers (0 to M-1)\n",
    "    chargers_df = chargers_df.sort_values(by='charger_id').reset_index(drop=True)\n",
    "    chargers_df['charger_idx'] = chargers_df.index\n",
    "    #Define the maximum charging rate of each charger\n",
    "    chargers_df['energy_capacity_per_slot'] = chargers_df['power'] * STEP_DURATION\n",
    "\n",
    "\n",
    "    #Stores the information of the Station and the chargers in the Dictionary that will be returned\n",
    "    processed_data['chargers_df'] = chargers_df\n",
    "    processed_data['num_chargers'] = len(chargers_df)\n",
    "\n",
    "    processed_data['transformer_limit_kw'] = parking_config['transformer_limit']\n",
    "    processed_data['transformer_energy_limit_per_slot'] = parking_config['transformer_limit'] * STEP_DURATION\n",
    "    \n",
    "    \n",
    "\n",
    "    # Mapping of the time indices and the price database to store the prices of energy based on the details given in the instance. \n",
    "    # Step of the analysis is not the same as the time definition of the price database, then the indices are adjusted\n",
    "    \n",
    "    # Max time slot\n",
    "    # Ensure max_departure_time is valid before processing\n",
    "    if arrivals_df['departure_time'].empty:\n",
    "        max_departure_time = 0 # Default if no departures\n",
    "    else:\n",
    "        max_departure_time = arrivals_df['departure_time'].max()\n",
    "\n",
    "    #Get the number of indices that the timetable must have\n",
    "    processed_data['num_time_slots'] = time_to_index(max_departure_time, STEP_DURATION) + 1 # Slots are 0-indexed\n",
    "    #Create the list of time indices\n",
    "    time_slots_actual = [index_to_time(i, STEP_DURATION) for i in range(processed_data['num_time_slots'])]\n",
    "    all_slots_df = pd.DataFrame({'time': time_slots_actual})\n",
    "    \n",
    "    if not energy_prices_df.empty:\n",
    "        merged_prices_df = pd.merge_asof(all_slots_df.sort_values('time'), \n",
    "                                         energy_prices_df.sort_values('time'), \n",
    "                                         on='time', \n",
    "                                         direction='backward')\n",
    "        # Forward fill any remaining NaNs (e.g., if first slot is before first price point)\n",
    "        # Then backfill any at the very beginning if still NaN\n",
    "        merged_prices_df['price'] = merged_prices_df['price'].ffill().bfill().fillna(0) \n",
    "        processed_data['energy_prices_at_t_idx'] = merged_prices_df['price'].values\n",
    "    else: # Handle case with no energy prices\n",
    "        processed_data['energy_prices_at_t_idx'] = np.zeros(processed_data['num_time_slots'])\n",
    "\n",
    "\n",
    "    # Charger compatibility matrix A[ev_idx, charger_idx]\n",
    "    # 1 if charger and EV are compatible, 0 otherwise\n",
    "    A = np.zeros((processed_data['num_evs'], processed_data['num_chargers']), dtype=int)\n",
    "    for ev_r_idx, ev_row in arrivals_df.iterrows():\n",
    "        # Extract base brand name (e.g., \"Tesla Model S\" from \"Tesla Model S 100kWh\")\n",
    "        parts = ev_row[\"brand\"].split(' ')\n",
    "        if parts[-1].lower().endswith('kwh'): # Check if last part indicates capacity\n",
    "            ev_brand_base = \" \".join(parts[:-1])\n",
    "        else:\n",
    "            ev_brand_base = ev_row[\"brand\"]\n",
    "        #Iterate over the chargers            \n",
    "        for ch_r_idx, ch_row in chargers_df.iterrows():\n",
    "            if ev_brand_base in ch_row[\"compatible_vehicles\"]:\n",
    "                 A[ev_row['ev_idx'], ch_row['charger_idx']] = 1\n",
    "    processed_data['compatibility_matrix'] = A\n",
    "    \n",
    "    # Penalty for unserved energy\n",
    "    if not energy_prices_df['price'].empty and energy_prices_df['price'].max() > 0 :\n",
    "        processed_data['penalty_unserved_energy'] = energy_prices_df['price'].max() * 10\n",
    "    else:\n",
    "        processed_data['penalty_unserved_energy'] = 1000 # Default if no prices or all prices are zero\n",
    "\n",
    "    return processed_data"
   ]
  },
  {
   "cell_type": "code",
   "execution_count": 55,
   "metadata": {},
   "outputs": [],
   "source": [
    "# --- Objective Function ---\n",
    "#Calculates the objective function. Modeled as a single Objective.\n",
    "def calculate_objective(solution_P_ict, processed_data):\n",
    "    #Extract information from the instance\n",
    "    arrivals_df = processed_data['arrivals_df']\n",
    "    energy_prices_at_t_idx = processed_data['energy_prices_at_t_idx']\n",
    "    lambda_p = processed_data['penalty_unserved_energy']\n",
    "    #Gets the shape of the solution to make the iteration of the charging data\n",
    "    num_evs, num_chargers, num_time_slots = solution_P_ict.shape\n",
    "\n",
    "    total_charging_cost = 0\n",
    "    total_penalty_cost = 0\n",
    "\n",
    "    #Calculates the energy used by each EV at each period\n",
    "    energy_per_slot = np.sum(solution_P_ict, axis=(0, 1)) \n",
    "    #Calculates the total charging cost\n",
    "    total_charging_cost = np.sum(energy_per_slot * energy_prices_at_t_idx)\n",
    "\n",
    "    #itretaes over all the arrivals        \n",
    "    for ev_idx in range(num_evs):\n",
    "        ev_info = arrivals_df.iloc[ev_idx]\n",
    "        required_energy = ev_info['required_energy']\n",
    "        supplied_energy = np.sum(solution_P_ict[ev_idx, :, :]) \n",
    "        #Calculates the energy that wasn't satisfied to be supplied        \n",
    "        unserved_energy = max(0, required_energy - supplied_energy)\n",
    "        #calculates the penalty for unattended energy\n",
    "        total_penalty_cost += lambda_p * unserved_energy\n",
    "        \n",
    "    return total_charging_cost + total_penalty_cost"
   ]
  },
  {
   "cell_type": "code",
   "execution_count": 56,
   "metadata": {},
   "outputs": [],
   "source": [
    "# --- Feasibility Check ---\n",
    "#Checks if the solution P_ict (Power of EV: i, at charger: c at time: t) and the association between charger and EV (ev_to_charger_map) is feasible under the restrictions modeled.\n",
    "def is_solution_feasible(P_ict, ev_to_charger_map, processed_data, verbose=False):\n",
    "    #Extracts information from the instance\n",
    "    arrivals_df = processed_data['arrivals_df']\n",
    "    chargers_df = processed_data['chargers_df']\n",
    "    matrix_a = processed_data['compatibility_matrix']\n",
    "    t_limit = processed_data['transformer_energy_limit_per_slot']\n",
    "    num_evs, num_chargers, num_time_slots = P_ict.shape\n",
    "    epsilon = 1e-6 # Tolerance for float comparisons\n",
    "\n",
    "    #Loop over all time periods\n",
    "    for t_idx in range(num_time_slots):\n",
    "\n",
    "        ## Restriction 2: Transformer Power Limit\n",
    "        current_load = np.sum(P_ict[:, :, t_idx])\n",
    "        if current_load > t_limit + epsilon:\n",
    "            if verbose: print(f\"Feasibility Error: Transformer limit exceeded at t_idx {t_idx}. Load: {current_load:.2f}, Limit: {t_limit:.2f}\")\n",
    "            return False\n",
    "\n",
    "        ## Restriction 3: Charger limit & Restriction 7: Maximum one EV per Charger\n",
    "        # Restriction 1: Respect chargers limit (limited as the iteration of chargers is limited to the Chargers details)\n",
    "        for c_idx in range(num_chargers):\n",
    "            # Restriction 3: Charger limit\n",
    "            charger_info = chargers_df.iloc[c_idx]\n",
    "            current_charger_load = np.sum(P_ict[:, c_idx, t_idx])\n",
    "            if current_charger_load > charger_info['energy_capacity_per_slot'] + epsilon:\n",
    "                if verbose: print(f\"Feasibility Error: Charger {c_idx} capacity exceeded at t_idx {t_idx}. Load: {current_charger_load:.2f}, Capacity: {charger_info['energy_capacity_per_slot']:.2f}\")\n",
    "                return False\n",
    "            # Restriction 7: Maximum one EV per Charger\n",
    "            evs_on_charger = [ev_idx for ev_idx in range(num_evs) if P_ict[ev_idx, c_idx, t_idx] > epsilon]\n",
    "            if len(evs_on_charger) > 1:\n",
    "                if verbose: print(f\"Feasibility Error: Multiple EVs ({evs_on_charger}) on charger {c_idx} at t_idx {t_idx}\")\n",
    "                return False\n",
    "\n",
    "    #Loop over all arrivals (EV)\n",
    "    for ev_idx in range(num_evs):\n",
    "        ev_info = arrivals_df.iloc[ev_idx]\n",
    "        active_chargers_to_ev = [c_idx for c_idx in range(num_chargers) if np.sum(P_ict[ev_idx, c_idx, :]) > epsilon]\n",
    "\n",
    "        #Restriction 6\n",
    "        if len(active_chargers_to_ev) > 1:\n",
    "            if verbose: print(f\"Feasibility Error: EV {ev_idx} receives energy from multiple chargers: {active_chargers_to_ev}\")\n",
    "            return False\n",
    "        \n",
    "        # Identifies the charger that is supplying energy to the EV\n",
    "        current_active_charger = -1\n",
    "        if len(active_chargers_to_ev) == 1:\n",
    "            current_active_charger = active_chargers_to_ev[0]\n",
    "\n",
    "        if current_active_charger != -1: \n",
    "\n",
    "            #Restriction 8: Cars should be charged in compatible chargers\n",
    "            if matrix_a[ev_idx, current_active_charger] == 0:\n",
    "                if verbose: print(f\"Feasibility Error: EV {ev_idx} incompatible with charger {current_active_charger} it's receiving energy from.\")\n",
    "                return False\n",
    "\n",
    "            total_energy_for_ev_calc = 0\n",
    "            for t_idx in range(num_time_slots):\n",
    "                energy_this_slot = P_ict[ev_idx, current_active_charger, t_idx]\n",
    "                total_energy_for_ev_calc += energy_this_slot\n",
    "\n",
    "                if energy_this_slot > epsilon: \n",
    "                    #Restriction 4 & 5: Charging only between arrival and departure time\n",
    "                    if not (ev_info['arrival_slot_idx'] <= t_idx < ev_info['departure_slot_idx']):\n",
    "                        if verbose: print(f\"Feasibility Error: EV {ev_idx} (slots {ev_info['arrival_slot_idx']}-{ev_info['departure_slot_idx']-1}) charging outside window at t_idx {t_idx}\")\n",
    "                        return False\n",
    "\n",
    "                    #Restriction 10: Charging exceeds car charging rate               \n",
    "                    if energy_this_slot > ev_info['max_energy_per_slot'] + epsilon:\n",
    "                        if verbose: print(f\"Feasibility Error: EV {ev_idx} exceeded max_energy_per_slot ({ev_info['max_energy_per_slot']:.2f}) with {energy_this_slot:.2f} at t_idx {t_idx}\")\n",
    "                        return False\n",
    "                    \n",
    "                    # Min energy per slot check: if charging, must be >= min_energy_per_slot,\n",
    "                    # UNLESS it's the last bit of energy needed and that bit is < min_energy_per_slot.\n",
    "                    remaining_needed_for_ev_before_this_slot = ev_info['required_energy'] - (total_energy_for_ev_calc - energy_this_slot)\n",
    "\n",
    "                    #Restriction 9: Charging rate is lower than admissible from the EV               \n",
    "                    if energy_this_slot < ev_info['min_energy_per_slot'] - epsilon and \\\n",
    "                       energy_this_slot < remaining_needed_for_ev_before_this_slot - epsilon:\n",
    "                         if verbose: print(f\"Feasibility Error: EV {ev_idx} below min_energy_per_slot ({ev_info['min_energy_per_slot']:.2f}) with {energy_this_slot:.2f} at t_idx {t_idx} (rem needed before this: {remaining_needed_for_ev_before_this_slot:.2f})\")\n",
    "                         return False \n",
    "    return True"
   ]
  },
  {
   "cell_type": "code",
   "execution_count": 57,
   "metadata": {},
   "outputs": [],
   "source": [
    "# --- Initial Solution Generation (Price-Aware Earliest Departure First) ---\n",
    "def generate_initial_solution_pa_edf(processed_data):\n",
    "    #extracts the information from the instance\n",
    "    arrivals_df = processed_data['arrivals_df'].copy() \n",
    "    chargers_df = processed_data['chargers_df'].copy()\n",
    "    energy_prices_at_t_idx = processed_data['energy_prices_at_t_idx']\n",
    "    matrix_a = processed_data['compatibility_matrix']\n",
    "    t_limit = processed_data['transformer_energy_limit_per_slot']\n",
    "    \n",
    "    num_evs = processed_data['num_evs']\n",
    "    num_chargers = processed_data['num_chargers']\n",
    "    num_time_slots = processed_data['num_time_slots']\n",
    "    epsilon = 1e-6\n",
    "\n",
    "    #Initializes the matrix where Energy assignation will be stored (variable P(n,c,t))\n",
    "    P_ict = np.zeros((num_evs, num_chargers, num_time_slots))\n",
    "    #Initilizes the array where the EV -> charger details will be stored (Variable z(n,c))\n",
    "    ev_to_charger_map = np.full(num_evs, -1, dtype=int)\n",
    "    \n",
    "    #sorts the EV based on the departure time (EDF part)\n",
    "    sorted_evs_df = arrivals_df.sort_values(by='departure_slot_idx')\n",
    "    #sorts the chargers in power order, first, the most powerfull chargers will be assigned, then the others)\n",
    "    sorted_charger_indices = chargers_df.sort_values(by='power', ascending=False)['charger_idx'].tolist()\n",
    "\n",
    "    #Iterates over the EV details\n",
    "    for _, ev_row in sorted_evs_df.iterrows():\n",
    "        #extracts EV details\n",
    "        ev_idx = ev_row['ev_idx']\n",
    "        required_energy = ev_row['required_energy']\n",
    "        min_energy_per_slot_ev = ev_row['min_energy_per_slot']\n",
    "        max_energy_per_slot_ev = ev_row['max_energy_per_slot']\n",
    "        arrival_slot = ev_row['arrival_slot_idx']\n",
    "        departure_slot = ev_row['departure_slot_idx'] \n",
    "\n",
    "        #Iterates over the chargers to start assignation\n",
    "        for charger_idx in sorted_charger_indices:\n",
    "            #If the EV selected has already one assignation, break as assignation is already made\n",
    "            if ev_to_charger_map[ev_idx] != -1: break\n",
    "            # If the charger is not comaptible with the EV: check other chargers\n",
    "            if matrix_a[ev_idx, charger_idx] == 0:\n",
    "                continue \n",
    "\n",
    "            #Extract charger information\n",
    "            charger_info = chargers_df.iloc[charger_idx]\n",
    "            charger_capacity_per_slot = charger_info['energy_capacity_per_slot']\n",
    "            \n",
    "            # Check if this charger can accommodate this EV\n",
    "            charger_available = True\n",
    "            for t_check in range(arrival_slot, departure_slot):\n",
    "                if np.sum(P_ict[:, charger_idx, t_check]) > epsilon: # If any *other* EV is on this charger\n",
    "                    charger_available = False\n",
    "                    break\n",
    "            #If the charger is used by another EV at the time (between arrival and departure) search for other charger\n",
    "            if not charger_available:\n",
    "                continue\n",
    "\n",
    "            # Try to schedule this EV on this charger\n",
    "            P_ict_val = 0\n",
    "            energy_for_ev = np.zeros(num_time_slots)\n",
    "\n",
    "            #Create the energy price list (for the periods between arrival and departure time)\n",
    "            price_slot_pairs = []\n",
    "            for t_schedule in range(arrival_slot, departure_slot):\n",
    "                 price_slot_pairs.append((energy_prices_at_t_idx[t_schedule], t_schedule))\n",
    "\n",
    "            #Sort the assignation time based on price (Price Awaring)            \n",
    "            sorted_price_slots_for_ev = sorted(price_slot_pairs, key=lambda x: x[0])\n",
    "\n",
    "            #Time index to review theassign the energy. First, assign the slots with lowest price\n",
    "            for price, t_idx in sorted_price_slots_for_ev:\n",
    "                #If total energy supplied (P_ict_val) is more than the assigned, break\n",
    "                if P_ict_val >= required_energy - epsilon:\n",
    "                    break \n",
    "\n",
    "                # Max energy we can assign in this slot\n",
    "                energy_needed = required_energy - P_ict_val\n",
    "                \n",
    "                #Restrictions checking\n",
    "                can_assign = energy_needed\n",
    "                can_assign = min(can_assign, max_energy_per_slot_ev) #less than the EV max charging rate\n",
    "                can_assign = max(can_assign,min_energy_per_slot_ev) #more than the EV min charging rate\n",
    "                can_assign = min(can_assign, charger_capacity_per_slot) # Limit of the charger\n",
    "                can_assign = min(can_assign, t_limit - np.sum(P_ict[:, :, t_idx])) # Limit of the available energy in the transformer\n",
    "                can_assign = max(0, can_assign) # Ensure non-negative\n",
    "\n",
    "                #Energy Assignation. Checking if the minimum charging rate is respected. If not, only assign 0 in this period\n",
    "                actual_assigned_this_slot = 0\n",
    "                if can_assign >= min_energy_per_slot_ev - epsilon:\n",
    "                    actual_assigned_this_slot = can_assign\n",
    "                elif can_assign > epsilon and can_assign >= energy_needed - epsilon: # If less than min_rate, but it's the remainder, assign the remaineder as it should not take all the step\n",
    "                    actual_assigned_this_slot = can_assign\n",
    "                \n",
    "                #IF energy assignation is proposed, update the energy assigned for each time slot and the total energy supplied (P_ict_val)\n",
    "                if actual_assigned_this_slot > epsilon:\n",
    "                    energy_for_ev[t_idx] = actual_assigned_this_slot\n",
    "                    P_ict_val += actual_assigned_this_slot\n",
    "            \n",
    "            # If any energy was scheduled for this EV on this charger\n",
    "            if P_ict_val > epsilon: \n",
    "                # Assign the charging schedule to global P_ict and make the assignation EV -> charger\n",
    "                P_ict[ev_idx, charger_idx, :] = energy_for_ev[:]\n",
    "                ev_to_charger_map[ev_idx] = charger_idx\n",
    "                break # As EV is assigned, move to next EV\n",
    "    \n",
    "    #calculate objective and return solution (P_ict, ev_to_charger_map, objective)\n",
    "    objective_val = calculate_objective(P_ict, processed_data)\n",
    "    return {'P_ict': P_ict, 'ev_to_charger_map': ev_to_charger_map, 'objective': objective_val}\n"
   ]
  },
  {
   "cell_type": "code",
   "execution_count": 58,
   "metadata": {},
   "outputs": [],
   "source": [
    "#Generates an initial solution using a Slack-Aware First Come First Served heuristic.\n",
    "# 1 EVs sorted by FCFS (arrival), then by lower slack.\n",
    "# 2 Low slack EVs charge earliest possible slots.\n",
    "# 3 High slack EVs charge cheapest possible slots.\n",
    "def generate_initial_solution_sa_fcfs(processed_data, low_slack_threshold_hours=1.0):\n",
    "    #Retrieves the information from the instance file\n",
    "    arrivals_df = processed_data['arrivals_df'].copy() \n",
    "    chargers_df = processed_data['chargers_df'].copy()\n",
    "    energy_prices_at_t_idx = processed_data['energy_prices_at_t_idx']\n",
    "    matrix_a = processed_data['compatibility_matrix']\n",
    "    t_limit = processed_data['transformer_energy_limit_per_slot']\n",
    "    \n",
    "    num_evs = processed_data['num_evs']\n",
    "    num_chargers = processed_data['num_chargers']\n",
    "    num_time_slots = processed_data['num_time_slots']\n",
    "    epsilon = 1e-6\n",
    "\n",
    "    #Initilizes the dataframes to store the solutions\n",
    "    P_ict = np.zeros((num_evs, num_chargers, num_time_slots))\n",
    "    ev_to_charger_map = np.full(num_evs, -1, dtype=int)\n",
    "\n",
    "    #Calculate Slack for each EV\n",
    "    if chargers_df.empty:\n",
    "        min_system_charger_power = 7.0*STEP_DURATION # Default if no chargers (sets the slack in the same terms as the dataframe is)\n",
    "    else:\n",
    "        min_system_charger_power = chargers_df['power'].min()\n",
    "        if min_system_charger_power <= epsilon: # Avoid division by zero if slowest charger has 0 power\n",
    "             min_system_charger_power = 1.0*STEP_DURATION\n",
    "\n",
    "    #stores the slack time for charging (differnece between stay duration and the time needed to charge)\n",
    "    slacks = []\n",
    "    for idx, ev_row in arrivals_df.iterrows():\n",
    "        effective_rate = min(ev_row['max_charge_rate'], min_system_charger_power)\n",
    "        if effective_rate <= epsilon:\n",
    "            estimated_min = float('inf') # Effectively zero slack\n",
    "        else:\n",
    "            estimated_min = ev_row['required_energy'] / effective_rate\n",
    "        #calculate stay time\n",
    "        stay_duration_hours = ev_row['departure_time'] - ev_row['arrival_time']\n",
    "        #Calculate the slack (stay-estimated_min)\n",
    "        ev_slack_hours = stay_duration_hours - estimated_min\n",
    "        slacks.append(ev_slack_hours)\n",
    "    \n",
    "    #adds the slack time to the data\n",
    "    arrivals_df['ev_slack_hours'] = slacks\n",
    "\n",
    "    #Sorts the information\n",
    "    #First by arrival time, then by slack time (in ascending order)\n",
    "    sorted_evs_df = arrivals_df.sort_values(by=['arrival_slot_idx', 'ev_slack_hours'])\n",
    "    #sort the chargers based on power\n",
    "    sorted_charger_indices = chargers_df.sort_values(by='power', ascending=False)['charger_idx'].tolist()\n",
    "\n",
    "    #Iterates over the EV details\n",
    "    for _, ev_row in sorted_evs_df.iterrows():\n",
    "        #extracts EV details\n",
    "        ev_idx = ev_row['ev_idx']\n",
    "        required_energy = ev_row['required_energy']\n",
    "        min_energy_per_slot_ev = ev_row['min_energy_per_slot']\n",
    "        max_energy_per_slot_ev = ev_row['max_energy_per_slot']\n",
    "        arrival_slot = ev_row['arrival_slot_idx']\n",
    "        departure_slot = ev_row['departure_slot_idx'] \n",
    "\n",
    "        #Iterates over the chargers to start assignation\n",
    "        for charger_idx in sorted_charger_indices:\n",
    "            #If the EV selected has already one assignation, break as assignation is already made\n",
    "            if ev_to_charger_map[ev_idx] != -1: break\n",
    "            # If the charger is not comaptible with the EV: check other chargers\n",
    "            if matrix_a[ev_idx, charger_idx] == 0:\n",
    "                continue \n",
    "\n",
    "            #Extract charger information\n",
    "            charger_info = chargers_df.iloc[charger_idx]\n",
    "            charger_capacity_per_slot = charger_info['energy_capacity_per_slot']\n",
    "            \n",
    "            # Check if this charger can accommodate this EV\n",
    "            charger_available = True\n",
    "            for t_check in range(arrival_slot, departure_slot):\n",
    "                if np.sum(P_ict[:, charger_idx, t_check]) > epsilon: # If any *other* EV is on this charger\n",
    "                    charger_available = False\n",
    "                    break\n",
    "            #If the charger is used by another EV at the time (between arrival and departure) search for other charger\n",
    "            if not charger_available:\n",
    "                continue\n",
    "\n",
    "            # Try to schedule this EV on this charger\n",
    "            P_ict_val = 0\n",
    "            energy_for_ev = np.zeros(num_time_slots)\n",
    "\n",
    "            #Create the energy price list (for the periods between arrival and departure time)\n",
    "            price_slot_pairs = []\n",
    "            for t_schedule in range(arrival_slot, departure_slot):\n",
    "                 price_slot_pairs.append((energy_prices_at_t_idx[t_schedule], t_schedule))\n",
    "\n",
    "            #Sort the assignation time based on price (Price Awaring)            \n",
    "            sorted_price_slots_for_ev = sorted(price_slot_pairs, key=lambda x: x[0])\n",
    "\n",
    "            #Time index to review theassign the energy. First, assign the slots with lowest price\n",
    "            for price, t_idx in sorted_price_slots_for_ev:\n",
    "                #If total energy supplied (P_ict_val) is more than the assigned, break\n",
    "                if P_ict_val >= required_energy - epsilon:\n",
    "                    break \n",
    "\n",
    "                # Max energy we can assign in this slot\n",
    "                energy_needed = required_energy - P_ict_val\n",
    "                \n",
    "                #Restrictions checking\n",
    "                can_assign = energy_needed\n",
    "                can_assign = min(can_assign, max_energy_per_slot_ev) #less than the EV max charging rate\n",
    "                can_assign = max(can_assign,min_energy_per_slot_ev) #more than the EV min charging rate\n",
    "                can_assign = min(can_assign, charger_capacity_per_slot) # Limit of the charger\n",
    "                can_assign = min(can_assign, t_limit - np.sum(P_ict[:, :, t_idx])) # Limit of the available energy in the transformer\n",
    "                can_assign = max(0, can_assign) # Ensure non-negative\n",
    "\n",
    "                #Energy Assignation. Checking if the minimum charging rate is respected. If not, only assign 0 in this period\n",
    "                actual_assigned_this_slot = 0\n",
    "                if can_assign >= min_energy_per_slot_ev - epsilon:\n",
    "                    actual_assigned_this_slot = can_assign\n",
    "                elif can_assign > epsilon and can_assign >= energy_needed - epsilon: # If less than min_rate, but it's the remainder, assign the remaineder as it should not take all the step\n",
    "                    actual_assigned_this_slot = can_assign\n",
    "                \n",
    "                #IF energy assignation is proposed, update the energy assigned for each time slot and the total energy supplied (P_ict_val)\n",
    "                if actual_assigned_this_slot > epsilon:\n",
    "                    energy_for_ev[t_idx] = actual_assigned_this_slot\n",
    "                    P_ict_val += actual_assigned_this_slot\n",
    "            \n",
    "            # If any energy was scheduled for this EV on this charger\n",
    "            if P_ict_val > epsilon: \n",
    "                # Assign the charging schedule to global P_ict and make the assignation EV -> charger\n",
    "                P_ict[ev_idx, charger_idx, :] = energy_for_ev[:]\n",
    "                ev_to_charger_map[ev_idx] = charger_idx\n",
    "                break # As EV is assigned, move to next EV\n",
    "    \n",
    "    #calculate objective and return solution (P_ict, ev_to_charger_map, objective)\n",
    "    objective_val = calculate_objective(P_ict, processed_data)\n",
    "    return {'P_ict': P_ict, 'ev_to_charger_map': ev_to_charger_map, 'objective': objective_val}"
   ]
  },
  {
   "cell_type": "code",
   "execution_count": 59,
   "metadata": {},
   "outputs": [],
   "source": [
    "# --- Neighbourhood Search Operator ---\n",
    "#Executes the neighbourhood search.\n",
    "#Will shift energy of ONE EV to try to reduce the cost, respecting the major restrictions\n",
    "def neighbourhood_search(P_ict, ev_map, ev_idx, processed_data):\n",
    "    #retrieves the information from the instance\n",
    "    ev_info = processed_data['arrivals_df'].iloc[ev_idx]\n",
    "    #Retrieves the charger that is assigned to the EV\n",
    "    charger_idx = ev_map[ev_idx]\n",
    "    epsilon = 1e-6\n",
    "\n",
    "    #If the EV is not assigend to any charger, the local search will not return an improvement\n",
    "    if charger_idx == -1: return False\n",
    "\n",
    "    #Retrieves charger and Energy Information\n",
    "    energy_prices = processed_data['energy_prices_at_t_idx']\n",
    "    \n",
    "    #Creates a list with the information of the scheduled charge for the EV. Contains: time, energy and price\n",
    "    ev_schedule = [] \n",
    "    for t_idx in range(ev_info['arrival_slot_idx'], ev_info['departure_slot_idx']):\n",
    "        if P_ict[ev_idx, charger_idx, t_idx] > epsilon:\n",
    "            ev_schedule.append({'t_idx': t_idx, \n",
    "                                           'energy': P_ict[ev_idx, charger_idx, t_idx], \n",
    "                                           'price': energy_prices[t_idx]})\n",
    "    \n",
    "    #If the charger has no assigned power, local search will not improve\n",
    "    if not ev_schedule: return False\n",
    "\n",
    "    # sorts the charging sequence based on the price\n",
    "    slots_to_shift= sorted(ev_schedule, key=lambda x: x['price'], reverse=True)\n",
    "    \n",
    "    #Flag to check if solution created is better (and the local search was successful)\n",
    "    search_overall = False\n",
    "\n",
    "    #Iterates over all the time slots of the EV stay (between arrival and departure)\n",
    "    for from_slot_data in slots_to_shift:\n",
    "\n",
    "        #extracts the time index that will be analyzed: index to change\n",
    "        from_t_idx = from_slot_data['t_idx']\n",
    "        \n",
    "        # Potential slots to shift to (must be cheaper and within EV's window)\n",
    "        potential_to_slots = []\n",
    "        for t_idx_to_check in range(ev_info['arrival_slot_idx'], ev_info['departure_slot_idx']):\n",
    "            if t_idx_to_check == from_t_idx: continue\n",
    "            if energy_prices[t_idx_to_check] < from_slot_data['price'] - epsilon:\n",
    "                 potential_to_slots.append({'t_idx': t_idx_to_check, \n",
    "                                            'price': energy_prices[t_idx_to_check]})\n",
    "\n",
    "        #The potential slots are stored: Potential = slots with lower price than the assigned        \n",
    "        sorted_potential_to_slots = sorted(potential_to_slots, key=lambda x: x['price'])\n",
    "\n",
    "        #check all the slots with assignation potential and check where the energy can be optimized to be assigned\n",
    "        for to_slot_data in sorted_potential_to_slots:\n",
    "            \n",
    "            #extracts the time index that will be analyzed: objective index\n",
    "            to_t_idx = to_slot_data['t_idx']\n",
    "            \n",
    "            # Energy available to move from 'from_t_idx' for this EV\n",
    "            energy_at_from_slot_ev = P_ict[ev_idx, charger_idx, from_t_idx]\n",
    "            if energy_at_from_slot_ev < epsilon: continue # Nothing left to move from this source\n",
    "\n",
    "            # Capacity at 'to_t_idx' (objective new assignation restrictions review)\n",
    "            # 1. EV max rate\n",
    "            capacity_to_slot_ev_max_rate = ev_info['max_energy_per_slot'] - P_ict[ev_idx, charger_idx, to_t_idx] \n",
    "            # 2. Transformer capacity\n",
    "            transformer_load_others_to_slot = np.sum(P_ict[:, :, to_t_idx]) - P_ict[ev_idx, charger_idx, to_t_idx] # Available energy at time t, respecting other assignations\n",
    "            capacity_to_slot_transformer = processed_data['transformer_energy_limit_per_slot'] - transformer_load_others_to_slot\n",
    "\n",
    "                        \n",
    "            #Assign energy within tolerable limits\n",
    "            max_can_receive_in_to_slot = min(capacity_to_slot_ev_max_rate, capacity_to_slot_transformer)\n",
    "            max_can_receive_in_to_slot = max(0, max_can_receive_in_to_slot)\n",
    "\n",
    "            amount_to_move = min(energy_at_from_slot_ev, max_can_receive_in_to_slot)\n",
    "\n",
    "            #if a new assignation is proposed (energy>0):\n",
    "            if amount_to_move > epsilon:\n",
    "                # Tentative move\n",
    "                new_energy_at_from = P_ict[ev_idx, charger_idx, from_t_idx] - amount_to_move\n",
    "                new_energy_at_to = P_ict[ev_idx, charger_idx, to_t_idx] + amount_to_move\n",
    "\n",
    "                valid_move = True\n",
    "                # Check min energy constraints if slots are still active\n",
    "                if new_energy_at_from > epsilon and new_energy_at_from < ev_info['min_energy_per_slot'] - epsilon:\n",
    "                    valid_move = False\n",
    "                #Updates the solution dataframe to consider the neighbouhood search\n",
    "                if valid_move:\n",
    "                    P_ict[ev_idx, charger_idx, from_t_idx] = new_energy_at_from\n",
    "                    P_ict[ev_idx, charger_idx, to_t_idx] = new_energy_at_to\n",
    "                    search_overall = True\n",
    "\n",
    "    #Inplace modification of dataframes and returns a binary if the operator found a solution\n",
    "    return search_overall\n"
   ]
  },
  {
   "cell_type": "code",
   "execution_count": 60,
   "metadata": {},
   "outputs": [],
   "source": [
    "# --- Local Search ---\n",
    "#Executes the local search to improve a solution based on the neighbourhood search.\n",
    "#Exploits the current solution\n",
    "def local_search(current_solution, processed_data, max_ls_iters):\n",
    "    #copies the current solution\n",
    "    best_solution_ls = copy.deepcopy(current_solution) \n",
    "    #For the number of iterations set (max_ls_iters)    \n",
    "    for _ in range(max_ls_iters):\n",
    "        #binary to store if a search was performed\n",
    "        accepted_in_this_pass = False\n",
    "        #Get the EV indices\n",
    "        ev_indices = list(range(processed_data['num_evs']))\n",
    "        #Shuffle the EV indices to randome improve EV's assignation\n",
    "        random.shuffle(ev_indices)\n",
    "\n",
    "        #For each EV in the sorted EV list, make the neighbourhood search\n",
    "        for ev_idx in ev_indices:\n",
    "            # Neighbourhood Search Operator: Shift energy for this EV on its current charger\n",
    "            if neighbourhood_search(best_solution_ls['P_ict'], best_solution_ls['ev_to_charger_map'], ev_idx, processed_data):\n",
    "                #if the neighbourchood search for the EV was succesful (at least in one)\n",
    "                accepted_in_this_pass = True\n",
    "        #If the search was done, calculate objective.         \n",
    "        if accepted_in_this_pass:\n",
    "            best_solution_ls['objective'] = calculate_objective(best_solution_ls['P_ict'], processed_data)\n",
    "        else: # No improvement in a full pass over all EVs for this operator\n",
    "            break \n",
    "    #Update th solution objective (even if the improvement wasn't done, update to have the latest information)        \n",
    "    best_solution_ls['objective'] = calculate_objective(best_solution_ls['P_ict'], processed_data)\n",
    "    #returns a dictionary with: P_ict, ev_to_chargers, objective, of the improved solution by local search\n",
    "    return best_solution_ls"
   ]
  },
  {
   "cell_type": "code",
   "execution_count": 61,
   "metadata": {},
   "outputs": [],
   "source": [
    "# --- Perturbation Operator ---\n",
    "# Perturbs the current solution to start exploration.\n",
    "def perturb_solution(solution_to_perturb, processed_data, perturbation_strength):\n",
    "    #copies the input solution to modify a copy of the current solution\n",
    "    s_perturbedolution = copy.deepcopy(solution_to_perturb)\n",
    "    P_ict = s_perturbedolution['P_ict']\n",
    "    ev_to_charger_map = s_perturbedolution['ev_to_charger_map'] \n",
    "    #extracts the information from the instance\n",
    "    num_evs = processed_data['num_evs']\n",
    "    arrivals_df = processed_data['arrivals_df']\n",
    "    chargers_df = processed_data['chargers_df']\n",
    "    matrix_a = processed_data['compatibility_matrix']\n",
    "    energy_prices_at_t_idx = processed_data['energy_prices_at_t_idx']\n",
    "    t_limit = processed_data['transformer_energy_limit_per_slot']\n",
    "    epsilon = 1e-6\n",
    "\n",
    "    #Defines the number of EV to modify to make the perturbation (based on the Perturbation strength)\n",
    "    perturb_n = max(1, int(num_evs * perturbation_strength)) \n",
    "\n",
    "    #Creates the list of EV (index 1:num_ev)   \n",
    "    ev_indices_all = list(range(num_evs))\n",
    "    random.shuffle(ev_indices_all) #Shuffles the list\n",
    "    #Selects the first n_perturb EV that will be changed\n",
    "    evs_to_perturb_indices = ev_indices_all[:perturb_n]\n",
    "\n",
    "    #For the EV that will be perturbed, remove the charger selection and start the process or reinserting them\n",
    "    for ev_idx in evs_to_perturb_indices:\n",
    "        assigned_charger = ev_to_charger_map[ev_idx]\n",
    "        if assigned_charger != -1:\n",
    "            P_ict[ev_idx, assigned_charger, :] = 0 \n",
    "        ev_to_charger_map[ev_idx] = -1 \n",
    "\n",
    "    # Sort Chargers based on the power\n",
    "    sorted_charger_indices = chargers_df.sort_values(by='power', ascending=False)['charger_idx'].tolist()\n",
    "\n",
    "    #Reassign the EV that were perturbed\n",
    "    for ev_idx in evs_to_perturb_indices: \n",
    "        #Extract the information fo the EV ev_idx taht will be reallocated\n",
    "        ev_info = arrivals_df.iloc[ev_idx]\n",
    "        required_energy = ev_info['required_energy']\n",
    "        min_energy_per_slot_ev = ev_info['min_energy_per_slot']\n",
    "        max_energy_per_slot_ev = ev_info['max_energy_per_slot']\n",
    "        arrival_slot = ev_info['arrival_slot_idx']\n",
    "        departure_slot = ev_info['departure_slot_idx']\n",
    "\n",
    "        #initilize the variables to reinsert the EV to the charging sequence\n",
    "        best_charger_found_for_reinsert = -1\n",
    "        best_schedule_for_reinsert = np.zeros(processed_data['num_time_slots'])\n",
    "        max_energy_reinserted = 0\n",
    "\n",
    "        #Loop through the chargers list to make the reinsertion\n",
    "        for charger_idx in sorted_charger_indices:\n",
    "            #Review if charger and EV are compatible, if not, check other charger\n",
    "            if matrix_a[ev_idx, charger_idx] == 0:\n",
    "                continue\n",
    "\n",
    "\n",
    "            #Initilize the list and energy variables to review the potential assignation for the ev_idx in charger_idx locatiomn            \n",
    "            current_try_schedule = np.zeros(processed_data['num_time_slots'])\n",
    "            current_try_energy = 0\n",
    "\n",
    "            #For the times between arrival and departure, retrieve the price information\n",
    "            price_slot_pairs = []\n",
    "            for t_schedule in range(arrival_slot, departure_slot):\n",
    "                 price_slot_pairs.append((energy_prices_at_t_idx[t_schedule], t_schedule))\n",
    "            #Sort the price/time dataset \n",
    "            sorted_price_slots_for_ev = sorted(price_slot_pairs, key=lambda x: x[0])\n",
    "\n",
    "            #Start the energy assignation based on the energy sorting\n",
    "            for price, t_idx in sorted_price_slots_for_ev:\n",
    "                #If the total proposed energy is more than the required, break \n",
    "                if current_try_energy >= required_energy - epsilon:\n",
    "                    break\n",
    "\n",
    "                #Calculate the needed energy as: required energy of the current EV-assigned energy\n",
    "                energy_still_needed = required_energy - current_try_energy\n",
    "                             \n",
    "                # Check existing load on transformer from *other* EVs/chargers\n",
    "                load_on_transformer_others = np.sum(P_ict[:, :, t_idx])\n",
    "\n",
    "                # Starts verifying the assignation limits\n",
    "                can_assign = energy_still_needed\n",
    "                can_assign = min(can_assign, max_energy_per_slot_ev) #limit based on the max charging rate of the EV\n",
    "                can_assign = min(can_assign, t_limit - load_on_transformer_others) #Limit based on the transformer\n",
    "                can_assign = max(0, can_assign)\n",
    "\n",
    "                #Starts the assignation of energy (considering the previopus checked limits) (if the assignation proposed is 0, keeps 0 as assigned value)\n",
    "                actual_assigned_this_slot = 0\n",
    "                if can_assign >= min_energy_per_slot_ev - epsilon:\n",
    "                    actual_assigned_this_slot = can_assign\n",
    "                elif can_assign > epsilon and can_assign >= energy_still_needed - epsilon:\n",
    "                    actual_assigned_this_slot = can_assign\n",
    "                \n",
    "                # Assigns the value to the solution proposal\n",
    "                if actual_assigned_this_slot > epsilon:\n",
    "                    current_try_schedule[t_idx] = actual_assigned_this_slot\n",
    "                    current_try_energy += actual_assigned_this_slot\n",
    "\n",
    "            #If the new charging proposal charges more thn the previous alternative, update the information\n",
    "            if current_try_energy > max_energy_reinserted: \n",
    "                max_energy_reinserted = current_try_energy\n",
    "                best_charger_found_for_reinsert = charger_idx\n",
    "                best_schedule_for_reinsert = current_try_schedule.copy()\n",
    "            # If the total proposed energy for assignation is more than the required, break            \n",
    "            if max_energy_reinserted >= required_energy - epsilon:\n",
    "                break # Fully satisfied this EV\n",
    "        #If a solution is found (and best charger is identified), perturbed solution P_ict and ev_to_charger datasets are updated.\n",
    "        if best_charger_found_for_reinsert != -1 and max_energy_reinserted > epsilon:\n",
    "            P_ict[ev_idx, best_charger_found_for_reinsert, :] = best_schedule_for_reinsert[:]\n",
    "            ev_to_charger_map[ev_idx] = best_charger_found_for_reinsert\n",
    "\n",
    "    #return a dictionary with the updated information (updated: P_ict, ev_to_charger and fitness value)\n",
    "    s_perturbedolution['objective'] = calculate_objective(P_ict, processed_data)\n",
    "    return s_perturbedolution"
   ]
  },
  {
   "cell_type": "code",
   "execution_count": 62,
   "metadata": {},
   "outputs": [],
   "source": [
    "# --- Repair Operator ---\n",
    "# Takes one unfeasible solution and adjusts it to make it feasible under the restrictions modelled.\n",
    "# Considers the following adjustments:\n",
    "#   1. One EV per charger per time slot.\n",
    "#   2. Transformer and Charger load limits.\n",
    "#   3. EV maximum charge rate per slot.\n",
    "#   4. EV minimum charge rate per slot (if charging).\n",
    "\n",
    "def repair_solution(solution, processed_data):\n",
    "    #Gets the unfeasible solution\n",
    "    P_ict = solution['P_ict']\n",
    "\n",
    "    #Gets the instance details    \n",
    "    arrivals_df = processed_data['arrivals_df']\n",
    "    chargers_df = processed_data['chargers_df']\n",
    "    t_limit = processed_data['transformer_energy_limit_per_slot']\n",
    "    epsilon = 1e-6\n",
    "    #Defines the instance size\n",
    "    num_evs, num_chargers, num_time_slots = P_ict.shape\n",
    "\n",
    "    #Iterate through each time slot to fix load and rate unfeasibilities\n",
    "    for t_idx in range(num_time_slots):\n",
    "        \n",
    "        #Enforce Charger & EV Max Rate Constraints\n",
    "        for c_idx in range(num_chargers):\n",
    "            charger_limit = chargers_df.iloc[c_idx]['energy_capacity_per_slot']\n",
    "            \n",
    "            # Find all EVs trying to charge on this charger at this time\n",
    "            evs_on_charger = [ev_idx for ev_idx in range(num_evs) if P_ict[ev_idx, c_idx, t_idx] > epsilon]\n",
    "            \n",
    "            #Enforce EV max rate for each EV individually\n",
    "            for ev_idx in evs_on_charger:\n",
    "                ev_max_rate = arrivals_df.iloc[ev_idx]['max_energy_per_slot']\n",
    "                if P_ict[ev_idx, c_idx, t_idx] > ev_max_rate:\n",
    "                    P_ict[ev_idx, c_idx, t_idx] = ev_max_rate # If the rate is morhe than the maximu, set the maximum\n",
    "            \n",
    "            #Enforce one-EV-per-charger and charger capacity\n",
    "            # If more than one EV is on the charger, all but one will be removed. Only the one with the largest energy requirement is kept\n",
    "            if len(evs_on_charger) > 1:\n",
    "                ev_energies = {ev_idx: arrivals_df.iloc[ev_idx]['required_energy'] for ev_idx in evs_on_charger}\n",
    "                survivor_ev_idx = max(ev_energies, key=ev_energies.get)\n",
    "                for ev_idx in evs_on_charger:\n",
    "                    if ev_idx != survivor_ev_idx:\n",
    "                        P_ict[ev_idx, c_idx, t_idx] = 0 # Remove charge of all the EV's except the one selected\n",
    "\n",
    "            #Enforce Charging capcity of the charger. Should only count One charger at this time\n",
    "            charger_load = np.sum(P_ict[:, c_idx, t_idx])\n",
    "            if charger_load > charger_limit:\n",
    "                 for ev_idx in range(num_evs):\n",
    "                     if P_ict[ev_idx, c_idx, t_idx] > epsilon:\n",
    "                         P_ict[ev_idx, c_idx, t_idx] = charger_limit #Set maximum the charger limit\n",
    "                         break\n",
    "\n",
    "        #Enforce Transformer Load Restriction\n",
    "        # Calculate the total load\n",
    "        total_load = np.sum(P_ict[:, :, t_idx])\n",
    "        #If the load is above the transformer limit, do:\n",
    "        if total_load > t_limit:\n",
    "            #Calculate the excess load to be removed\n",
    "            excess_load = total_load - t_limit\n",
    "            \n",
    "            # Reduction will be done proportional across all charging EVs in this slot\n",
    "            contributors = []\n",
    "            for ev_idx in range(num_evs):\n",
    "                for c_idx in range(num_chargers):\n",
    "                    if P_ict[ev_idx, c_idx, t_idx] > epsilon:\n",
    "                        contributors.append((ev_idx, c_idx)) #Stores the EV/Charger pairs that are connected at this time step\n",
    "            #if the size of the connected are more than 0, do:\n",
    "            if contributors:\n",
    "                for ev_idx, c_idx in contributors:\n",
    "                    reduction = (P_ict[ev_idx, c_idx, t_idx] / total_load) * excess_load #Calculate the reduction needed based on a proportional rate for all EV's\n",
    "                    P_ict[ev_idx, c_idx, t_idx] -= reduction #Update the solution P_ict\n",
    "\n",
    "    #Enforce EV Minimum Rate (checking for all EV's after the adjustments. Iteration over EV indices and not time)\n",
    "    for ev_idx in range(num_evs):\n",
    "        #Get the minimum energy for each EV\n",
    "        min_energy = arrivals_df.iloc[ev_idx]['min_energy_per_slot']\n",
    "        for c_idx in range(num_chargers):\n",
    "            for t_idx in range(num_time_slots):\n",
    "                energy = P_ict[ev_idx, c_idx, t_idx]\n",
    "                # If energy is greater than zero but less than the minimum required, the charger will be \"unplugged\" to avoid checking again for transformer and charger limits\n",
    "                if 0 < energy < min_energy - epsilon:\n",
    "                    P_ict[ev_idx, c_idx, t_idx] = 0 #\"Unplugged\" when charging is lower than limit\n",
    "    \n",
    "    # After all repairs, update ev_to_charger based on the updated P_ict\n",
    "    solution['ev_to_charger_map'] = np.full(num_evs, -1, dtype=int)\n",
    "    for ev_idx in range(num_evs):\n",
    "        for c_idx in range(num_chargers):\n",
    "            if np.sum(P_ict[ev_idx, c_idx, :]) > epsilon:\n",
    "                solution['ev_to_charger_map'][ev_idx] = c_idx\n",
    "                break # Found the assigned charger for this EV\n",
    "\n",
    "    # Finally, recalculate the objective for the now-feasible solution\n",
    "    solution['objective'] = calculate_objective(P_ict, processed_data)\n",
    "\n",
    "    #return a dictionary with the updated information (updated: P_ict, ev_to_charger and fitness value)\n",
    "    return solution"
   ]
  },
  {
   "cell_type": "code",
   "execution_count": 63,
   "metadata": {},
   "outputs": [],
   "source": [
    "# --- Iterated Local Search Algorithm ---\n",
    "#Creates the ILS: Input(Parameters) -> Constructive heuristic -> Loop (Local Search --> Perturbation) -> Output\n",
    "def iterated_local_search(processed_data, max_iterations, max_no_improvement_ils,initial_heuristic_type, max_ls_iters_per_call,perturbation_strength):\n",
    "    #Starts the timer to evalaute model performance\n",
    "    start_time_ils = time.time()\n",
    "\n",
    "    #Creates the initial/constructive solution\n",
    "    #s_0\n",
    "    if initial_heuristic_type == 'pa_edf':\n",
    "        s_0 = generate_initial_solution_pa_edf(processed_data)\n",
    "    elif initial_heuristic_type == 'sa_fcfs':\n",
    "        s_0 = generate_initial_solution_sa_fcfs(processed_data)\n",
    "    else: \n",
    "        print(f\"Warning: Unknown initial_heuristic_type '{initial_heuristic_type}'. Using PA-EDF.\")\n",
    "        s_0 = generate_initial_solution_pa_edf(processed_data)\n",
    "\n",
    "    # if not is_solution_feasible(s_0['P_ict'], s_0['ev_to_charger_map'], processed_data, verbose=True):\n",
    "    #      print(\"ERROR: Initial solution for ILS is infeasible. Aborting.\")\n",
    "    #      return None \n",
    "\n",
    "\n",
    "    #Performs the Local Search in the initial set\n",
    "    #Initializes the global best Solution\n",
    "    #s*\n",
    "    s_best = local_search(s_0, processed_data, max_ls_iters_per_call)\n",
    "\n",
    "    if not is_solution_feasible(s_best['P_ict'], s_best['ev_to_charger_map'], processed_data, verbose=False):\n",
    "        # print(\"ERROR: Solution after initial local search is infeasible. Using original initial solution as current best.\")\n",
    "        s_best = copy.deepcopy(s_0) # Start with constructive heuristic\n",
    "\n",
    "\n",
    "    #starts the counter to evaluate the nomber of iterations without improvement\n",
    "    iterations_without_improvement_count = 0\n",
    "\n",
    "    #Copies the best solution until now to start the perturbation (and don't modify the global best)\n",
    "    # copy(s*)\n",
    "    s_best_i = copy.deepcopy(s_best) \n",
    "\n",
    "    #Main Loop for the ILS. Stopping criteria: Based on maximum number of iterations and iterations without improvement\n",
    "    for i in range(max_iterations):\n",
    "        if i%10 ==0 and i>0:\n",
    "            print(f\"\\nILS Iteration: {i} out of: {max_iterations}\")\n",
    "        \n",
    "        #Performs the Perturbation of the Solution\n",
    "        #s' = perturbation (s*)\n",
    "        s_perturbed = perturb_solution(s_best_i, processed_data, perturbation_strength)\n",
    "        \n",
    "        #Check if the perturbation solution is feasible or not\n",
    "        is_perturbed_feasible = is_solution_feasible(s_perturbed['P_ict'], s_perturbed['ev_to_charger_map'], processed_data, verbose=False)\n",
    "        if not is_perturbed_feasible:\n",
    "            #repair solution\n",
    "            s_perturbed = repair_solution(s_perturbed, processed_data)\n",
    "        \n",
    "        #perform the local search of the perturbed solution\n",
    "        # s*'=LocalSearch(s')\n",
    "        candidate_s = local_search(s_perturbed, processed_data, max_ls_iters=max_ls_iters_per_call)\n",
    "\n",
    "        is_candidate_feasible = is_solution_feasible(candidate_s['P_ict'], candidate_s['ev_to_charger_map'], processed_data, verbose=False)\n",
    "        # If result of local search is not feasible, adjust\n",
    "        if is_candidate_feasible==False:\n",
    "            #Repair candidate solution\n",
    "            candidate_s = repair_solution(candidate_s, processed_data)\n",
    "            #Only If the repair of the localsearch does not improve the perturbed solution, adjust and keep the perturbed\n",
    "            if s_perturbed['objective']<candidate_s['objective']:\n",
    "                candidate_s=s_perturbed\n",
    "\n",
    "        #Confirm feasibility\n",
    "        is_candidate_feasible = is_solution_feasible(candidate_s['P_ict'], candidate_s['ev_to_charger_map'], processed_data, verbose=False)       \n",
    "\n",
    "        #If the solution s*' is feasible, enter to the acceptance criterion\n",
    "        if is_candidate_feasible and candidate_s['objective'] < s_best_i['objective']:\n",
    "            #s*\n",
    "            s_best_i = copy.deepcopy(candidate_s)\n",
    "            iterations_without_improvement_count = 0 \n",
    "            #If cost(s*)<cost(s*'), update the global best\n",
    "            if s_best_i['objective'] < s_best['objective']:\n",
    "                s_best = copy.deepcopy(s_best_i)\n",
    "                # print(f\"ILS: New GLOBAL BEST solution: {s_best['objective']:.2f}\")\n",
    "\n",
    "        #Else, if the solution is unfeasible, or if there is no impreovement, update the number of iterations without improvement\n",
    "        else:\n",
    "            iterations_without_improvement_count += 1\n",
    "            # print(f\"ILS: Iterations without improvement in current run: {iterations_without_improvement_count}\")\n",
    "\n",
    "        #If the number of iterations without improvement is more than the maximum 8early stopping) criteria, break the loop\n",
    "        if iterations_without_improvement_count >= max_no_improvement_ils:\n",
    "            # print(f\"ILS: Stopping early due to {max_no_improvement_ils} iterations without improvement in current run.\")\n",
    "            break\n",
    "            \n",
    "    end_time_ils = time.time()\n",
    "\n",
    "    print(f\"\\nILS finished in {end_time_ils - start_time_ils:.2f} seconds.\")\n",
    "    print(f\"Final best objective found by ILS: {s_best['objective']:.2f}\")\n",
    " \n",
    "    return s_best\n"
   ]
  },
  {
   "cell_type": "code",
   "execution_count": 64,
   "metadata": {},
   "outputs": [
    {
     "name": "stdout",
     "output_type": "stream",
     "text": [
      "\n",
      "Starting Iterated Local Search...\n",
      "\n",
      "ILS finished in 1.52 seconds.\n",
      "Final best objective found by ILS: 1307521.04\n",
      "\n",
      "--- Final ILS Solution Summary ---\n",
      "Best Objective Value: 1,307,521\n",
      "la solución es factible?: True\n",
      "Total Energy Supplied in Final Solution: 799.94 kWh\n",
      "Total Energy Cost: $23,933 \n"
     ]
    }
   ],
   "source": [
    "# Execution for 1 instance with static hyperparameters\n",
    "if __name__ == '__main__':\n",
    "\n",
    "    file_path = 'test_system_1.json' \n",
    "    processed_data = load_and_preprocess_data(file_path)\n",
    "\n",
    "    # ILS Parameters (you'll need to tune these)\n",
    "    max_iterations = 5     # Total number of ILS iterations\n",
    "    max_no_improvement_ils = 5    # Stop if no improvement for this many ILS iterations in a row\n",
    "    constructive_type = 'pa_edf' #sa_fcfs,pa_edf\n",
    "    max_iters_ES = 5     # Max passes for each call to local_search\n",
    "    p_strength = 0.20  # Fraction of EVs to perturb (e.g., 20%)\n",
    "    \n",
    "    print(\"\\nStarting Iterated Local Search...\")\n",
    "    final_solution = iterated_local_search(processed_data,max_iterations,max_no_improvement_ils,constructive_type,max_iters_ES,p_strength)\n",
    "\n",
    "    if final_solution:\n",
    "        print(\"\\n--- Final ILS Solution Summary ---\")\n",
    "        print(f\"Best Objective Value: {final_solution['objective']:,.0f}\")\n",
    "        boolean_s=is_solution_feasible(final_solution['P_ict'], final_solution['ev_to_charger_map'], processed_data, verbose=False)\n",
    "\n",
    "        print(f'la solución es factible?: {boolean_s}')\n",
    "        total_energy_supplied_final = np.sum(final_solution['P_ict'])\n",
    "        print(f\"Total Energy Supplied in Final Solution: {total_energy_supplied_final:.2f} kWh\")\n",
    "\n",
    "        energy_prices_at_t_idx = processed_data['energy_prices_at_t_idx']\n",
    "        total_charging_cost = 0\n",
    "        total_penalty_cost = 0\n",
    "\n",
    "        #Calculates the energy used by each EV at each period\n",
    "        energy_per_slot = np.sum(final_solution['P_ict'], axis=(0, 1)) \n",
    "        #Calculates the total charging cost\n",
    "        total_charging_cost = np.sum(energy_per_slot * energy_prices_at_t_idx)\n",
    "\n",
    "        print(f\"Total Energy Cost: ${total_charging_cost:,.0f} \")\n"
   ]
  },
  {
   "cell_type": "code",
   "execution_count": 65,
   "metadata": {},
   "outputs": [],
   "source": [
    "#Function to call Optuna to optimize Hyper parameters (For one instance)\n",
    "def optuna_objective_for_ils(trial, data_for_ils): # Pass processed_data here\n",
    "    # Hyperparameters for the ILS algorithm\n",
    "    ils_max_iterations = trial.suggest_int('MAX_ILS_ITERATIONS', 50, 1000)\n",
    "    ils_max_no_improvement = trial.suggest_int('MAX_NO_IMPROVEMENT_ILS', 1, 100)\n",
    "    ls_max_iters_per_call = trial.suggest_int('MAX_LS_ITERS_PER_CALL', 5, 50)\n",
    "    perturbation_strength = trial.suggest_float('PERTURBATION_STRENGTH', 0.1, 0.4)\n",
    "    initial_heuristic = trial.suggest_categorical('INITIAL_HEURISTIC', ['pa_edf', 'sa_fcfs'])\n",
    "\n",
    "    print(f\"\\nOptuna Trial {trial.number}: Running ILS with params: MaxIter={ils_max_iterations}, NoImprove={ils_max_no_improvement}, LS_Iter={ls_max_iters_per_call}, PerturbStr={perturbation_strength:.2f}, initial heuristic={initial_heuristic}\")\n",
    "\n",
    "    # Run ILS algorithm with these suggested hyperparameters\n",
    "    solution_dict = iterated_local_search(\n",
    "        data_for_ils, # Pass the preloaded problem data\n",
    "        max_iterations=ils_max_iterations,\n",
    "        max_no_improvement_ils=ils_max_no_improvement,\n",
    "        initial_heuristic_type=initial_heuristic,\n",
    "        max_ls_iters_per_call=ls_max_iters_per_call,\n",
    "        perturbation_strength=perturbation_strength\n",
    "    )\n",
    "\n",
    "    #Return the objective value for Optuna to minimize\n",
    "    if solution_dict is None:\n",
    "        print(f\"Optuna Trial {trial.number}: ILS returned None. Reporting high objective.\")\n",
    "        return float('inf') \n",
    "    \n",
    "    print(f\"Optuna Trial {trial.number}: ILS finished. Objective: {solution_dict['objective']:.2f}\")\n",
    "    return solution_dict['objective']"
   ]
  },
  {
   "cell_type": "code",
   "execution_count": 66,
   "metadata": {},
   "outputs": [],
   "source": [
    "# #Create the conditions to run the test in Optuna (considering only One instance)\n",
    "\n",
    "\n",
    "# file_path = 'test_system_1.json' \n",
    "# processed_data = load_and_preprocess_data(file_path)\n",
    "\n",
    "# # Create a study object. 'minimize' because ILS objective is a cost.\n",
    "# study = optuna.create_study(direction='minimize',sampler=optuna.samplers.TPESampler(seed=seed))\n",
    "\n",
    "# # Use a lambda or functools.partial to pass 'processed_data' to the objective function\n",
    "# objective_func_with_data = partial(optuna_objective_for_ils, data_for_ils=processed_data)\n",
    "\n",
    "# # Start the optimization. 'n_trials' is how many different hyperparameter sets Optuna will try.\n",
    "# n_t=2\n",
    "\n",
    "# try:\n",
    "#     study.optimize(objective_func_with_data, n_trials=n_t)\n",
    "# except KeyboardInterrupt:\n",
    "#     print(\"Optuna study interrupted by user.\")\n",
    "# except Exception as e:\n",
    "#     print(f\"An error occurred during Optuna optimization: {e}\")\n",
    "#     import traceback\n",
    "#     traceback.print_exc()\n",
    "\n",
    "# # Print the best results\n",
    "# print(\"\\nOptuna Study Summary:\")\n",
    "# print(f\"Number of finished trials: {len(study.trials)}\")\n",
    "\n",
    "# if study.best_trial:\n",
    "#     print(\"Best trial:\")\n",
    "#     best_trial = study.best_trial\n",
    "#     print(f\"  Objective Value: {best_trial.value}\") # This is the minimized ILS objective\n",
    "#     print(\"  Best Hyperparameters:\")\n",
    "#     for key, value in best_trial.params.items():\n",
    "#         print(f\"{key}:{value}\")\n",
    "# else:\n",
    "#     print(\"No successful trials completed.\")\n",
    "\n",
    "# # You can also explore other Optuna features like visualization:\n",
    "# if optuna.visualization.is_available():\n",
    "#     fig = optuna.visualization.plot_optimization_history(study)\n",
    "#     fig.show()\n",
    "#     fig_params = optuna.visualization.plot_param_importances(study)\n",
    "#     fig_params.show()"
   ]
  },
  {
   "cell_type": "code",
   "execution_count": 67,
   "metadata": {},
   "outputs": [
    {
     "name": "stdout",
     "output_type": "stream",
     "text": [
      "Loading all problem instances for Optuna tuning...\n",
      "  Loading instance 1: test_system_1.json\n",
      "  Loading instance 2: test_system_2.json\n",
      "  Loading instance 3: test_system_3.json\n",
      "  Loading instance 4: test_system_4.json\n",
      "  Loading instance 5: test_system_5.json\n",
      "  Loading instance 6: test_system_6.json\n",
      "  Loading instance 7: test_system_7.json\n",
      "Successfully loaded 7 instances.\n"
     ]
    }
   ],
   "source": [
    "#Loading all the instance files\n",
    "\n",
    "instance_files = [\n",
    "    'test_system_1.json', \n",
    "    'test_system_2.json', \n",
    "    'test_system_3.json', \n",
    "    'test_system_4.json', \n",
    "    'test_system_5.json', \n",
    "    'test_system_6.json', \n",
    "    'test_system_7.json'\n",
    "]\n",
    "\n",
    "# instance_files=random.sample(instance_files,int(0.6*len(instance_files)))\n",
    "\n",
    "all_problem_instances_data = []\n",
    "print(\"Loading all problem instances for Optuna tuning...\")\n",
    "for i, file_path in enumerate(instance_files):\n",
    "    try:\n",
    "        print(f\"  Loading instance {i+1}: {file_path}\")\n",
    "        data = load_and_preprocess_data(file_path) # Your existing function\n",
    "        all_problem_instances_data.append(data)\n",
    "    except FileNotFoundError:\n",
    "        print(f\"    ERROR: File not found - {file_path}. Skipping.\")\n",
    "    except Exception as e:\n",
    "        print(f\"    ERROR: Could not load or process {file_path}: {e}. Skipping.\")\n",
    "\n",
    "if not all_problem_instances_data:\n",
    "    print(\"No problem instances loaded. Optuna tuning cannot proceed.\")\n",
    "    exit()\n",
    "print(f\"Successfully loaded {len(all_problem_instances_data)} instances.\")\n",
    "\n"
   ]
  },
  {
   "cell_type": "code",
   "execution_count": 68,
   "metadata": {},
   "outputs": [],
   "source": [
    "# optuna_objective_for_ils function. Consdiders loading several data files\n",
    "def optuna_objective_for_ils(trial, list_of_problem_data_sets):\n",
    "    # Hyperparameters for the ILS algorithm (same as before)\n",
    "    ils_max_iterations = trial.suggest_int('MAX_ILS_ITERATIONS', 50, 500)\n",
    "    ils_max_no_improvement = trial.suggest_int('MAX_NO_IMPROVEMENT_ILS', 1, 50)\n",
    "    ls_max_iters_per_call = trial.suggest_int('MAX_LS_ITERS_PER_CALL', 5, 50)\n",
    "    perturbation_strength = trial.suggest_float('PERTURBATION_STRENGTH', 0.1, 0.4)\n",
    "    initial_heuristic = trial.suggest_categorical('INITIAL_HEURISTIC', ['pa_edf', 'sa_fcfs'])\n",
    "\n",
    "    print(f\"\\nOptuna Trial {trial.number}: Params: MaxIter={ils_max_iterations}, NoImprove={ils_max_no_improvement}, LS_Iter={ls_max_iters_per_call}, PerturbStr={perturbation_strength:.2f}\")\n",
    "\n",
    "    sum_of_objectives = 0.0\n",
    "    successful_runs = 0\n",
    "\n",
    "    #Iteration over all he loaded instances\n",
    "    for i, current_instance_data in enumerate(list_of_problem_data_sets):\n",
    "        print(f\"  Running ILS on instance {i+1}/{len(list_of_problem_data_sets)}...\")\n",
    "\n",
    "        # ILS algorithm with suggested hyperparameters on the current instance\n",
    "        solution_dict = iterated_local_search(\n",
    "            current_instance_data,\n",
    "            max_iterations=ils_max_iterations,\n",
    "            max_no_improvement_ils=ils_max_no_improvement,\n",
    "            initial_heuristic_type=initial_heuristic, \n",
    "            max_ls_iters_per_call=ls_max_iters_per_call,\n",
    "            perturbation_strength=perturbation_strength\n",
    "        )\n",
    "\n",
    "        #Evaluation of the solution results\n",
    "        if solution_dict is not None and solution_dict['objective'] is not None and solution_dict['objective'] != float('inf'):\n",
    "            sum_of_objectives += solution_dict['objective']\n",
    "            successful_runs += 1\n",
    "            print(f\"    Instance {i+1} Objective: {solution_dict['objective']:.2f}\")\n",
    "        else:\n",
    "            print(f\"    Instance {i+1} ILS run failed or returned an invalid objective. Penalizing trial.\")\n",
    "            # If any instance fails for a set of parameters, that set is likely bad.\n",
    "            # You can return float('inf') immediately to heavily penalize this trial.\n",
    "            return float('inf') \n",
    "\n",
    "    if successful_runs == 0: # Should not happen if the above immediate return is used for failures\n",
    "        print(f\"Optuna Trial {trial.number}: No successful ILS runs across instances.\")\n",
    "        return float('inf')\n",
    "\n",
    "    # Calculate the average objective value\n",
    "    average_objective = sum_of_objectives / successful_runs\n",
    "    print(f\"Optuna Trial {trial.number}: Average Objective across {successful_runs} instances: {average_objective:.2f}\")\n",
    "\n",
    "    return average_objective"
   ]
  },
  {
   "cell_type": "code",
   "execution_count": 69,
   "metadata": {},
   "outputs": [],
   "source": [
    "#Gather the KPI of the best performing set\n",
    "def run_ils_and_collect_kpis(list_of_problem_data_sets, best_hyperparams, instance_filenames,flag=0):\n",
    "    total_objective_from_rerun = 0.0\n",
    "    total_energy_supplied_all_instances = 0.0\n",
    "    total_execution_time = 0.0\n",
    "    num_successful_runs = 0\n",
    "    \n",
    "    detailed_instance_kpis = {}\n",
    "\n",
    "    for i, current_instance_data in enumerate(list_of_problem_data_sets):\n",
    "        instance_name = instance_filenames[i] if i < len(instance_filenames) else f\"Instance_{i+1}\"\n",
    "        print(f\"  Re-running ILS on instance: {instance_name} with best hyperparameters...\")\n",
    "        \n",
    "        start_time_instance = time.time()\n",
    "        solution_dict = iterated_local_search(\n",
    "            current_instance_data,\n",
    "            max_iterations=best_hyperparams['MAX_ILS_ITERATIONS'],\n",
    "            max_no_improvement_ils=best_hyperparams['MAX_NO_IMPROVEMENT_ILS'],\n",
    "            initial_heuristic_type=best_hyperparams['INITIAL_HEURISTIC'],\n",
    "            max_ls_iters_per_call=best_hyperparams['MAX_LS_ITERS_PER_CALL'],\n",
    "            perturbation_strength=best_hyperparams['PERTURBATION_STRENGTH']\n",
    "        )\n",
    "        end_time_instance = time.time()\n",
    "        instance_time = end_time_instance - start_time_instance\n",
    "        total_execution_time += instance_time\n",
    "\n",
    "        if solution_dict and solution_dict['objective'] is not None and solution_dict['objective'] != float('inf'):\n",
    "            num_successful_runs += 1\n",
    "            total_objective_from_rerun += solution_dict['objective']\n",
    "            \n",
    "            P_ict = solution_dict['P_ict']\n",
    "            instance_energy_supplied = np.sum(P_ict)\n",
    "\n",
    "            total_energy_supplied_all_instances += instance_energy_supplied\n",
    "            \n",
    "            arrivals_df = current_instance_data['arrivals_df']\n",
    "            energy_prices_at_t_idx = current_instance_data['energy_prices_at_t_idx']\n",
    "            e_req=arrivals_df['required_energy']\n",
    "            t_limit = current_instance_data['transformer_energy_limit_per_slot']/STEP_DURATION\n",
    "            T_max=max(arrivals_df[\"departure_time\"]) #Detail of the last departure\n",
    "\n",
    "            kpi1=0 #Provided Total Energy\n",
    "            kpi2=0 # Total Charging Cost\n",
    "            kpi_l={} #Dict for the dissatisfied users to calculate KPI 3 and 4\n",
    "            kpi_a={} #Dict for the dissatisfied users to calculate KPI 5 and 6\n",
    "            admissible=0.5\n",
    "\n",
    "            # Collect energy supplied per EV for this instance\n",
    "            num_evs_instance = P_ict.shape[0]\n",
    "            num_chargers= P_ict.shape[1]\n",
    "            num_t_idx= P_ict.shape[2]\n",
    "\n",
    "            for ev_idx in range(num_evs_instance):\n",
    "                e_req_n=e_req[ev_idx]\n",
    "                aux=0 #auxilliary variable to get: sum(P_{n,c,t} if P_{n,c,t}>0)\n",
    "                for t in range(num_t_idx):\n",
    "                    val=np.sum(P_ict[ev_idx,:,t])\n",
    "                    if val > 0:\n",
    "                        kpi1+=val\n",
    "                        aux+=val\n",
    "                        kpi2+=val*energy_prices_at_t_idx[t]\n",
    "                if aux>0:\n",
    "                    kpi_a[ev_idx]=aux\n",
    "                if aux<e_req_n*admissible:\n",
    "                    kpi_l[ev_idx]=(e_req_n-aux)/e_req_n\n",
    "\n",
    "            kpi3=np.std(list(kpi_a.values()))\n",
    "            kpi4=np.mean(list(kpi_a.values()))\n",
    "            kpi5=min(list(kpi_a.values()))\n",
    "            kpi6=len(kpi_l)\n",
    "            kpi7=len(kpi_a)\n",
    "\n",
    "            T=list(np.round(np.arange(0,T_max+STEP_DURATION,STEP_DURATION),2)) #List of the time periods analyzed\n",
    "            N=arrivals_df[\"id\"].tolist()\n",
    "            hours=14\n",
    "            total_power_per_hour = []\n",
    "            for i_t in range(1,hours+1,1):\n",
    "                total_power=0\n",
    "                for t_idx,t in enumerate(T):\n",
    "                    if i_t-1<t<=i_t:\n",
    "                        total_power+=np.sum(P_ict[:,:,t_idx])\n",
    "                total_power_per_hour.append(total_power)  \n",
    "\n",
    "            diffs = [t_limit - hc for hc in total_power_per_hour]\n",
    "            kpi8 = np.mean(total_power_per_hour)\n",
    "            kpi9 = np.mean(diffs)\n",
    "            kpi10 = np.std(diffs)\n",
    "            \n",
    "\n",
    "\n",
    "            detailed_instance_kpis[instance_name]={\n",
    "            \"Number of Chargers\":num_chargers,\n",
    "            \"Number of EV\":num_evs_instance,\n",
    "            \"Requested Energy (kWh)\":sum(e_req),\n",
    "            \"Station Capacity\":t_limit*T_max,\n",
    "            \"Provided Energy (kWh)\":kpi1,\n",
    "            \"Provided/requested ratio (%)\": kpi1/sum(e_req)*100,\n",
    "            \"Total Charging Cost ($)\":kpi2,\n",
    "            \"Standard Deviation of Energy (KWh)\":round(kpi3,3),\n",
    "            \"Mean supplied energy (kWh)\":round(kpi4,3),\n",
    "            \"Minimum charge (kWh)\":round(kpi5,2),\n",
    "            \"Satisfaction Threshold (%)\":admissible,\n",
    "            \"Dissatisfied Users\":kpi6,\n",
    "            \"Total attended users\":kpi7,\n",
    "            \"Mean hourly charge\":kpi8,\n",
    "            \"Mean difference to transformer limit\":kpi9,\n",
    "            \"Std deviation of that difference\":kpi10,           \n",
    "            \"Total time (s)\":instance_time\n",
    "            }\n",
    "\n",
    "            if flag==1:\n",
    "                #Stores the charging sequence in an Excel File\n",
    "                        results = pd.DataFrame(index=T, columns=N)\n",
    "                        for n in N:\n",
    "                            for t_idx, t in enumerate(T):\n",
    "                                results.loc[t, n] = np.sum(P_ict[n,:,t_idx]) if np.sum(P_ict[n,:,t_idx]) > 0 else 0\n",
    "\n",
    "                        export_file=\"EVCP_ILS_instance_\"+str(i)+\".xlsx\"\n",
    "                        results.to_excel(export_file)\n",
    "\n",
    "            print(f\"    Instance {instance_name} Objective: {solution_dict['objective']:,.2f}, Energy: {instance_energy_supplied:.2f} kWh, Time: {instance_time:.2f}s\")\n",
    "\n",
    "\n",
    "    final_kpis = {\n",
    "        \"total_execution_time_seconds\": total_execution_time,\n",
    "        \"average_objective_on_rerun\": (total_objective_from_rerun / num_successful_runs) if num_successful_runs > 0 else float('inf'),\n",
    "        \"total_energy_supplied_kwh_all_instances\": total_energy_supplied_all_instances,\n",
    "        \"number_of_instances_processed\": len(list_of_problem_data_sets),\n",
    "        \"number_of_successful_runs\": num_successful_runs,\n",
    "        \"per_instance_details\": detailed_instance_kpis # Adding detailed breakdown\n",
    "    }\n",
    "    \n",
    "    return final_kpis"
   ]
  },
  {
   "cell_type": "code",
   "execution_count": 70,
   "metadata": {},
   "outputs": [
    {
     "name": "stdout",
     "output_type": "stream",
     "text": [
      "  Re-running ILS on instance: test_system_1.json with best hyperparameters...\n",
      "\n",
      "ILS Iteration: 10 out of: 435\n",
      "\n",
      "ILS finished in 2.72 seconds.\n",
      "Final best objective found by ILS: 1295549.34\n",
      "    Instance test_system_1.json Objective: 1,295,549.34, Energy: 826.29 kWh, Time: 2.72s\n",
      "  Re-running ILS on instance: test_system_2.json with best hyperparameters...\n",
      "\n",
      "ILS Iteration: 10 out of: 435\n",
      "\n",
      "ILS finished in 6.10 seconds.\n",
      "Final best objective found by ILS: 2256390.94\n",
      "    Instance test_system_2.json Objective: 2,256,390.94, Energy: 1647.27 kWh, Time: 6.10s\n",
      "  Re-running ILS on instance: test_system_3.json with best hyperparameters...\n",
      "\n",
      "ILS Iteration: 10 out of: 435\n",
      "\n",
      "ILS finished in 10.79 seconds.\n",
      "Final best objective found by ILS: 2637814.79\n",
      "    Instance test_system_3.json Objective: 2,637,814.79, Energy: 2613.06 kWh, Time: 10.79s\n",
      "  Re-running ILS on instance: test_system_4.json with best hyperparameters...\n",
      "\n",
      "ILS Iteration: 10 out of: 435\n",
      "\n",
      "ILS Iteration: 20 out of: 435\n",
      "\n",
      "ILS finished in 32.10 seconds.\n",
      "Final best objective found by ILS: 3457316.61\n",
      "    Instance test_system_4.json Objective: 3,457,316.61, Energy: 4004.83 kWh, Time: 32.11s\n",
      "  Re-running ILS on instance: test_system_5.json with best hyperparameters...\n",
      "\n",
      "ILS Iteration: 10 out of: 435\n",
      "\n",
      "ILS finished in 37.48 seconds.\n",
      "Final best objective found by ILS: 3779940.44\n",
      "    Instance test_system_5.json Objective: 3,779,940.44, Energy: 5937.99 kWh, Time: 37.48s\n",
      "  Re-running ILS on instance: test_system_6.json with best hyperparameters...\n",
      "\n",
      "ILS Iteration: 10 out of: 435\n",
      "\n",
      "ILS finished in 83.07 seconds.\n",
      "Final best objective found by ILS: 3914916.71\n",
      "    Instance test_system_6.json Objective: 3,914,916.71, Energy: 7795.42 kWh, Time: 83.08s\n",
      "  Re-running ILS on instance: test_system_7.json with best hyperparameters...\n",
      "\n",
      "ILS Iteration: 10 out of: 435\n",
      "\n",
      "ILS finished in 303.26 seconds.\n",
      "Final best objective found by ILS: 4338061.72\n",
      "    Instance test_system_7.json Objective: 4,338,061.72, Energy: 11899.36 kWh, Time: 303.26s\n",
      "\n",
      "Successfully saved results and KPIs to results_and_kpis_final_ILS_iter_withdrawe.json\n"
     ]
    }
   ],
   "source": [
    "best_hyperparams={}\n",
    "best_hyperparams['MAX_ILS_ITERATIONS']=435\n",
    "best_hyperparams['MAX_NO_IMPROVEMENT_ILS']=13\n",
    "best_hyperparams['INITIAL_HEURISTIC']=\"sa_fcfs\"\n",
    "best_hyperparams['MAX_LS_ITERS_PER_CALL']=5\n",
    "best_hyperparams['PERTURBATION_STRENGTH']=0.15570058557209682\n",
    "\n",
    "# best_hyperparams={}\n",
    "# best_hyperparams['MAX_ILS_ITERATIONS']=100\n",
    "# best_hyperparams['MAX_NO_IMPROVEMENT_ILS']=10\n",
    "# best_hyperparams['INITIAL_HEURISTIC']=\"sa_fcfs\"\n",
    "# best_hyperparams['MAX_LS_ITERS_PER_CALL']=5\n",
    "# best_hyperparams['PERTURBATION_STRENGTH']=0.15570058557209682\n",
    "\n",
    "final_run_kpis = run_ils_and_collect_kpis(all_problem_instances_data, best_hyperparams, instance_files,flag=1)\n",
    "\n",
    "# Store in a JSON file\n",
    "output_filename = \"results_and_kpis_final_ILS_iter_withdrawe.json\"\n",
    "try:\n",
    "    with open(output_filename, 'w') as f:\n",
    "        json.dump(final_run_kpis, f, indent=4)\n",
    "    print(f\"\\nSuccessfully saved results and KPIs to {output_filename}\")\n",
    "except Exception as e:\n",
    "    print(f\"Error saving results to JSON: {e}\")"
   ]
  },
  {
   "cell_type": "code",
   "execution_count": 71,
   "metadata": {},
   "outputs": [
    {
     "name": "stdout",
     "output_type": "stream",
     "text": [
      "  Re-running ILS on instance: test_system_1.json with best hyperparameters...\n",
      "    Instance test_system_1.json Objective: 1,295,549.34, Energy: 826.29 kWh, Time: 0.18s\n",
      "  Re-running ILS on instance: test_system_2.json with best hyperparameters...\n",
      "    Instance test_system_2.json Objective: 2,310,507.43, Energy: 1547.64 kWh, Time: 0.44s\n",
      "  Re-running ILS on instance: test_system_3.json with best hyperparameters...\n",
      "    Instance test_system_3.json Objective: 2,674,602.73, Energy: 2556.07 kWh, Time: 0.48s\n",
      "  Re-running ILS on instance: test_system_4.json with best hyperparameters...\n",
      "    Instance test_system_4.json Objective: 3,457,845.43, Energy: 4001.92 kWh, Time: 0.88s\n",
      "  Re-running ILS on instance: test_system_5.json with best hyperparameters...\n",
      "    Instance test_system_5.json Objective: 3,779,940.44, Energy: 5937.99 kWh, Time: 1.35s\n",
      "  Re-running ILS on instance: test_system_6.json with best hyperparameters...\n",
      "    Instance test_system_6.json Objective: 3,914,916.71, Energy: 7795.42 kWh, Time: 3.02s\n",
      "  Re-running ILS on instance: test_system_7.json with best hyperparameters...\n",
      "    Instance test_system_7.json Objective: 4,338,061.72, Energy: 11899.36 kWh, Time: 5.67s\n",
      "\n",
      "Successfully saved results and KPIs to results_and_kpis_final_SA-FCFS.json\n"
     ]
    }
   ],
   "source": [
    "#Gather the KPI\n",
    "def run_fcfs_and_collect_kpis(list_of_problem_data_sets, instance_filenames,flag=0):\n",
    "    total_objective_from_rerun = 0.0\n",
    "    total_energy_supplied_all_instances = 0.0\n",
    "    total_execution_time = 0.0\n",
    "    num_successful_runs = 0\n",
    "    \n",
    "    detailed_instance_kpis = {}\n",
    "\n",
    "    for i, current_instance_data in enumerate(list_of_problem_data_sets):\n",
    "        instance_name = instance_filenames[i] if i < len(instance_filenames) else f\"Instance_{i+1}\"\n",
    "        print(f\"  Re-running ILS on instance: {instance_name} with best hyperparameters...\")\n",
    "        \n",
    "        start_time_instance = time.time()\n",
    "        solution_dict = generate_initial_solution_sa_fcfs(current_instance_data)\n",
    "        end_time_instance = time.time()\n",
    "        instance_time = end_time_instance - start_time_instance\n",
    "        total_execution_time += instance_time\n",
    "\n",
    "        if solution_dict and solution_dict['objective'] is not None and solution_dict['objective'] != float('inf'):\n",
    "            num_successful_runs += 1\n",
    "            total_objective_from_rerun += solution_dict['objective']\n",
    "            \n",
    "            P_ict = solution_dict['P_ict']\n",
    "            instance_energy_supplied = np.sum(P_ict)\n",
    "\n",
    "            total_energy_supplied_all_instances += instance_energy_supplied\n",
    "            \n",
    "            arrivals_df = current_instance_data['arrivals_df']\n",
    "            energy_prices_at_t_idx = current_instance_data['energy_prices_at_t_idx']\n",
    "            e_req=arrivals_df['required_energy']\n",
    "            t_limit = current_instance_data['transformer_energy_limit_per_slot']/STEP_DURATION\n",
    "            T_max=max(arrivals_df[\"departure_time\"]) #Detail of the last departure\n",
    "\n",
    "            kpi1=0 #Provided Total Energy\n",
    "            kpi2=0 # Total Charging Cost\n",
    "            kpi_l={} #Dict for the dissatisfied users to calculate KPI 3 and 4\n",
    "            kpi_a={} #Dict for the dissatisfied users to calculate KPI 5 and 6\n",
    "            admissible=0.5\n",
    "\n",
    "            # Collect energy supplied per EV for this instance\n",
    "            num_evs_instance = P_ict.shape[0]\n",
    "            num_chargers= P_ict.shape[1]\n",
    "            num_t_idx= P_ict.shape[2]\n",
    "\n",
    "            for ev_idx in range(num_evs_instance):\n",
    "                e_req_n=e_req[ev_idx]\n",
    "                aux=0 #auxilliary variable to get: sum(P_{n,c,t} if P_{n,c,t}>0)\n",
    "                for t in range(num_t_idx):\n",
    "                    val=np.sum(P_ict[ev_idx,:,t])\n",
    "                    if val > 0:\n",
    "                        kpi1+=val\n",
    "                        aux+=val\n",
    "                        kpi2+=val*energy_prices_at_t_idx[t]\n",
    "                if aux>0:\n",
    "                    kpi_a[ev_idx]=aux\n",
    "                if aux<e_req_n*admissible:\n",
    "                    kpi_l[ev_idx]=(e_req_n-aux)/e_req_n\n",
    "\n",
    "            kpi3=np.std(list(kpi_a.values()))\n",
    "            kpi4=np.mean(list(kpi_a.values()))\n",
    "            kpi5=min(list(kpi_a.values()))\n",
    "            kpi6=len(kpi_l)\n",
    "            kpi7=len(kpi_a)\n",
    "\n",
    "            T=list(np.round(np.arange(0,T_max+STEP_DURATION,STEP_DURATION),2)) #List of the time periods analyzed\n",
    "            N=arrivals_df[\"id\"].tolist()\n",
    "            hours=14\n",
    "            total_power_per_hour = []\n",
    "            for i in range(1,hours+1,1):\n",
    "                total_power=0\n",
    "                for t_idx,t in enumerate(T):\n",
    "                    if i-1<t<=i:\n",
    "                        total_power+=np.sum(P_ict[:,:,t_idx])\n",
    "                total_power_per_hour.append(total_power)  \n",
    "\n",
    "            diffs = [t_limit - hc for hc in total_power_per_hour]\n",
    "            kpi8 = np.mean(total_power_per_hour)\n",
    "            kpi9 = np.mean(diffs)\n",
    "            kpi10 = np.std(diffs)\n",
    "            \n",
    "\n",
    "\n",
    "            detailed_instance_kpis[instance_name]={\n",
    "            \"Number of Chargers\":num_chargers,\n",
    "            \"Number of EV\":num_evs_instance,\n",
    "            \"Requested Energy (kWh)\":sum(e_req),\n",
    "            \"Station Capacity\":t_limit*T_max,\n",
    "            \"Provided Energy (kWh)\":kpi1,\n",
    "            \"Provided/requested ratio (%)\": kpi1/sum(e_req)*100,\n",
    "            \"Total Charging Cost ($)\":kpi2,\n",
    "            \"Standard Deviation of Energy (KWh)\":round(kpi3,3),\n",
    "            \"Mean supplied energy (kWh)\":round(kpi4,3),\n",
    "            \"Minimum charge (kWh)\":round(kpi5,2),\n",
    "            \"Satisfaction Threshold (%)\":admissible,\n",
    "            \"Dissatisfied Users\":kpi6,\n",
    "            \"Total attended users\":kpi7,\n",
    "            \"Mean hourly charge\":kpi8,\n",
    "            \"Mean difference to transformer limit\":kpi9,\n",
    "            \"Std deviation of that difference\":kpi10,           \n",
    "            \"Total time (s)\":instance_time\n",
    "            }\n",
    "\n",
    "            if flag==1:\n",
    "                #Stores the charging sequence in an Excel File\n",
    "                        results = pd.DataFrame(index=T, columns=N)\n",
    "                        for n in N:\n",
    "                            for t_idx, t in enumerate(T):\n",
    "                                results.loc[t, n] = np.sum(P_ict[n,:,t_idx]) if np.sum(P_ict[n,:,t_idx]) > 0 else 0\n",
    "\n",
    "                        export_file=\"EVCP_SA-FCFS_instance_\"+str(i)+\".xlsx\"\n",
    "                        results.to_excel(export_file)\n",
    "\n",
    "            print(f\"    Instance {instance_name} Objective: {solution_dict['objective']:,.2f}, Energy: {instance_energy_supplied:.2f} kWh, Time: {instance_time:.2f}s\")\n",
    "\n",
    "\n",
    "    final_kpis = {\n",
    "        \"total_execution_time_seconds\": total_execution_time,\n",
    "        \"average_objective_on_rerun\": (total_objective_from_rerun / num_successful_runs) if num_successful_runs > 0 else float('inf'),\n",
    "        \"total_energy_supplied_kwh_all_instances\": total_energy_supplied_all_instances,\n",
    "        \"number_of_instances_processed\": len(list_of_problem_data_sets),\n",
    "        \"number_of_successful_runs\": num_successful_runs,\n",
    "        \"per_instance_details\": detailed_instance_kpis # Adding detailed breakdown\n",
    "    }\n",
    "    \n",
    "    return final_kpis\n",
    "\n",
    "final_run_kpis = run_fcfs_and_collect_kpis(all_problem_instances_data, instance_files)\n",
    "\n",
    "# Store in a JSON file\n",
    "output_filename = \"results_and_kpis_final_SA-FCFS.json\"\n",
    "try:\n",
    "    with open(output_filename, 'w') as f:\n",
    "        json.dump(final_run_kpis, f, indent=4)\n",
    "    print(f\"\\nSuccessfully saved results and KPIs to {output_filename}\")\n",
    "except Exception as e:\n",
    "    print(f\"Error saving results to JSON: {e}\")"
   ]
  },
  {
   "cell_type": "code",
   "execution_count": null,
   "metadata": {},
   "outputs": [
    {
     "name": "stdout",
     "output_type": "stream",
     "text": [
      "  Re-running ILS on instance: test_system_1.json with best hyperparameters...\n",
      "    Instance test_system_1.json Objective: 1,295,549.34, Energy: 826.29 kWh, Time: 0.11s\n",
      "  Re-running ILS on instance: test_system_2.json with best hyperparameters...\n",
      "    Instance test_system_2.json Objective: 2,310,507.43, Energy: 1547.64 kWh, Time: 0.27s\n",
      "  Re-running ILS on instance: test_system_3.json with best hyperparameters...\n",
      "    Instance test_system_3.json Objective: 2,674,602.73, Energy: 2556.07 kWh, Time: 0.43s\n",
      "  Re-running ILS on instance: test_system_4.json with best hyperparameters...\n",
      "    Instance test_system_4.json Objective: 3,457,845.43, Energy: 4001.92 kWh, Time: 0.83s\n",
      "  Re-running ILS on instance: test_system_5.json with best hyperparameters...\n",
      "    Instance test_system_5.json Objective: 3,779,940.44, Energy: 5937.99 kWh, Time: 1.61s\n",
      "  Re-running ILS on instance: test_system_6.json with best hyperparameters...\n",
      "    Instance test_system_6.json Objective: 3,914,916.71, Energy: 7795.42 kWh, Time: 2.90s\n",
      "  Re-running ILS on instance: test_system_7.json with best hyperparameters...\n",
      "    Instance test_system_7.json Objective: 4,338,061.72, Energy: 11899.36 kWh, Time: 7.05s\n",
      "\n",
      "Successfully saved results and KPIs to results_and_kpis_final_SA-FCFS.json\n"
     ]
    }
   ],
   "source": [
    "#Gather the KPI\n",
    "def run_edf_and_collect_kpis(list_of_problem_data_sets, instance_filenames,flag=0):\n",
    "    total_objective_from_rerun = 0.0\n",
    "    total_energy_supplied_all_instances = 0.0\n",
    "    total_execution_time = 0.0\n",
    "    num_successful_runs = 0\n",
    "    \n",
    "    detailed_instance_kpis = {}\n",
    "\n",
    "    for i, current_instance_data in enumerate(list_of_problem_data_sets):\n",
    "        instance_name = instance_filenames[i] if i < len(instance_filenames) else f\"Instance_{i+1}\"\n",
    "        print(f\"  Re-running ILS on instance: {instance_name} with best hyperparameters...\")\n",
    "        \n",
    "        start_time_instance = time.time()\n",
    "        solution_dict = generate_initial_solution_pa_edf(current_instance_data)\n",
    "        end_time_instance = time.time()\n",
    "        instance_time = end_time_instance - start_time_instance\n",
    "        total_execution_time += instance_time\n",
    "\n",
    "        if solution_dict and solution_dict['objective'] is not None and solution_dict['objective'] != float('inf'):\n",
    "            num_successful_runs += 1\n",
    "            total_objective_from_rerun += solution_dict['objective']\n",
    "            \n",
    "            P_ict = solution_dict['P_ict']\n",
    "            instance_energy_supplied = np.sum(P_ict)\n",
    "\n",
    "            total_energy_supplied_all_instances += instance_energy_supplied\n",
    "            \n",
    "            arrivals_df = current_instance_data['arrivals_df']\n",
    "            energy_prices_at_t_idx = current_instance_data['energy_prices_at_t_idx']\n",
    "            e_req=arrivals_df['required_energy']\n",
    "            t_limit = current_instance_data['transformer_energy_limit_per_slot']/STEP_DURATION\n",
    "            T_max=max(arrivals_df[\"departure_time\"]) #Detail of the last departure\n",
    "\n",
    "            kpi1=0 #Provided Total Energy\n",
    "            kpi2=0 # Total Charging Cost\n",
    "            kpi_l={} #Dict for the dissatisfied users to calculate KPI 3 and 4\n",
    "            kpi_a={} #Dict for the dissatisfied users to calculate KPI 5 and 6\n",
    "            admissible=0.5\n",
    "\n",
    "            # Collect energy supplied per EV for this instance\n",
    "            num_evs_instance = P_ict.shape[0]\n",
    "            num_chargers= P_ict.shape[1]\n",
    "            num_t_idx= P_ict.shape[2]\n",
    "\n",
    "            for ev_idx in range(num_evs_instance):\n",
    "                e_req_n=e_req[ev_idx]\n",
    "                aux=0 #auxilliary variable to get: sum(P_{n,c,t} if P_{n,c,t}>0)\n",
    "                for t in range(num_t_idx):\n",
    "                    val=np.sum(P_ict[ev_idx,:,t])\n",
    "                    if val > 0:\n",
    "                        kpi1+=val\n",
    "                        aux+=val\n",
    "                        kpi2+=val*energy_prices_at_t_idx[t]\n",
    "                if aux>0:\n",
    "                    kpi_a[ev_idx]=aux\n",
    "                if aux<e_req_n*admissible:\n",
    "                    kpi_l[ev_idx]=(e_req_n-aux)/e_req_n\n",
    "\n",
    "            kpi3=np.std(list(kpi_a.values()))\n",
    "            kpi4=np.mean(list(kpi_a.values()))\n",
    "            kpi5=min(list(kpi_a.values()))\n",
    "            kpi6=len(kpi_l)\n",
    "            kpi7=len(kpi_a)\n",
    "\n",
    "            T=list(np.round(np.arange(0,T_max+STEP_DURATION,STEP_DURATION),2)) #List of the time periods analyzed\n",
    "            N=arrivals_df[\"id\"].tolist()\n",
    "            hours=14\n",
    "            total_power_per_hour = []\n",
    "            for i in range(1,hours+1,1):\n",
    "                total_power=0\n",
    "                for t_idx,t in enumerate(T):\n",
    "                    if i-1<t<=i:\n",
    "                        total_power+=np.sum(P_ict[:,:,t_idx])\n",
    "                total_power_per_hour.append(total_power)  \n",
    "\n",
    "            diffs = [t_limit - hc for hc in total_power_per_hour]\n",
    "            kpi8 = np.mean(total_power_per_hour)\n",
    "            kpi9 = np.mean(diffs)\n",
    "            kpi10 = np.std(diffs)\n",
    "            \n",
    "\n",
    "\n",
    "            detailed_instance_kpis[instance_name]={\n",
    "            \"Number of Chargers\":num_chargers,\n",
    "            \"Number of EV\":num_evs_instance,\n",
    "            \"Requested Energy (kWh)\":sum(e_req),\n",
    "            \"Station Capacity\":t_limit*T_max,\n",
    "            \"Provided Energy (kWh)\":kpi1,\n",
    "            \"Provided/requested ratio (%)\": kpi1/sum(e_req)*100,\n",
    "            \"Total Charging Cost ($)\":kpi2,\n",
    "            \"Standard Deviation of Energy (KWh)\":round(kpi3,3),\n",
    "            \"Mean supplied energy (kWh)\":round(kpi4,3),\n",
    "            \"Minimum charge (kWh)\":round(kpi5,2),\n",
    "            \"Satisfaction Threshold (%)\":admissible,\n",
    "            \"Dissatisfied Users\":kpi6,\n",
    "            \"Total attended users\":kpi7,\n",
    "            \"Mean hourly charge\":kpi8,\n",
    "            \"Mean difference to transformer limit\":kpi9,\n",
    "            \"Std deviation of that difference\":kpi10,           \n",
    "            \"Total time (s)\":instance_time\n",
    "            }\n",
    "\n",
    "            if flag==1:\n",
    "                #Stores the charging sequence in an Excel File\n",
    "                        results = pd.DataFrame(index=T, columns=N)\n",
    "                        for n in N:\n",
    "                            for t_idx, t in enumerate(T):\n",
    "                                results.loc[t, n] = np.sum(P_ict[n,:,t_idx]) if np.sum(P_ict[n,:,t_idx]) > 0 else 0\n",
    "\n",
    "                        export_file=\"EVCP_SA_FCFS_instance_\"+str(i)+\".xlsx\"\n",
    "                        results.to_excel(export_file)\n",
    "\n",
    "            print(f\"    Instance {instance_name} Objective: {solution_dict['objective']:,.2f}, Energy: {instance_energy_supplied:.2f} kWh, Time: {instance_time:.2f}s\")\n",
    "\n",
    "\n",
    "    final_kpis = {\n",
    "        \"total_execution_time_seconds\": total_execution_time,\n",
    "        \"average_objective_on_rerun\": (total_objective_from_rerun / num_successful_runs) if num_successful_runs > 0 else float('inf'),\n",
    "        \"total_energy_supplied_kwh_all_instances\": total_energy_supplied_all_instances,\n",
    "        \"number_of_instances_processed\": len(list_of_problem_data_sets),\n",
    "        \"number_of_successful_runs\": num_successful_runs,\n",
    "        \"per_instance_details\": detailed_instance_kpis # Adding detailed breakdown\n",
    "    }\n",
    "    \n",
    "    return final_kpis\n",
    "\n",
    "final_run_kpis = run_edf_and_collect_kpis(all_problem_instances_data, instance_files)\n",
    "\n",
    "# Store in a JSON file\n",
    "output_filename = \"results_and_kpis_final_SA-FCFS.json\"\n",
    "try:\n",
    "    with open(output_filename, 'w') as f:\n",
    "        json.dump(final_run_kpis, f, indent=4)\n",
    "    print(f\"\\nSuccessfully saved results and KPIs to {output_filename}\")\n",
    "except Exception as e:\n",
    "    print(f\"Error saving results to JSON: {e}\")"
   ]
  },
  {
   "cell_type": "code",
   "execution_count": null,
   "metadata": {},
   "outputs": [],
   "source": [
    "# --- Iterated Local Search Algorithm ---\n",
    "#Creates the ILS: Input(Parameters) -> Constructive heuristic -> Loop (Local Search --> Perturbation) -> Output\n",
    "def iterated_local_search_vis(processed_data, max_iterations, max_no_improvement_ils,initial_heuristic_type, max_ls_iters_per_call,perturbation_strength):\n",
    "    #Starts the timer to evalaute model performance\n",
    "    start_time_ils = time.time()\n",
    "\n",
    "    cost={}\n",
    "    #Creates the initial/constructive solution\n",
    "    #s_0\n",
    "    if initial_heuristic_type == 'pa_edf':\n",
    "        s_0 = generate_initial_solution_pa_edf(processed_data)\n",
    "    elif initial_heuristic_type == 'sa_fcfs':\n",
    "        s_0 = generate_initial_solution_sa_fcfs(processed_data)\n",
    "    else: \n",
    "        print(f\"Warning: Unknown initial_heuristic_type '{initial_heuristic_type}'. Using PA-EDF.\")\n",
    "        s_0 = generate_initial_solution_pa_edf(processed_data)\n",
    "    cost[0]=s_0['objective']\n",
    "    # if not is_solution_feasible(s_0['P_ict'], s_0['ev_to_charger_map'], processed_data, verbose=True):\n",
    "    #      print(\"ERROR: Initial solution for ILS is infeasible. Aborting.\")\n",
    "    #      return None \n",
    "\n",
    "\n",
    "    #Performs the Local Search in the initial set\n",
    "    #Initializes the global best Solution\n",
    "    #s*\n",
    "    s_best = local_search(s_0, processed_data, max_ls_iters_per_call)\n",
    "\n",
    "    if not is_solution_feasible(s_best['P_ict'], s_best['ev_to_charger_map'], processed_data, verbose=False):\n",
    "        # print(\"ERROR: Solution after initial local search is infeasible. Using original initial solution as current best.\")\n",
    "        s_best = copy.deepcopy(s_0) # Start with constructive heuristic\n",
    "\n",
    "\n",
    "    #starts the counter to evaluate the nomber of iterations without improvement\n",
    "    iterations_without_improvement_count = 0\n",
    "\n",
    "    #Copies the best solution until now to start the perturbation (and don't modify the global best)\n",
    "    # copy(s*)\n",
    "    s_best_i = copy.deepcopy(s_best) \n",
    "\n",
    "    cost[1]=s_best['objective']\n",
    "    #Main Loop for the ILS. Stopping criteria: Based on maximum number of iterations and iterations without improvement\n",
    "    for i in range(2,max_iterations+2):\n",
    "        if i%10 ==0 and i>0:\n",
    "            print(f\"\\nILS Iteration: {i} out of: {max_iterations}\")\n",
    "        \n",
    "        #Performs the Perturbation of the Solution\n",
    "        #s' = perturbation (s*)\n",
    "        s_perturbed = perturb_solution(s_best_i, processed_data, perturbation_strength)\n",
    "        \n",
    "        #Check if the perturbation solution is feasible or not\n",
    "        is_perturbed_feasible = is_solution_feasible(s_perturbed['P_ict'], s_perturbed['ev_to_charger_map'], processed_data, verbose=False)\n",
    "        if not is_perturbed_feasible:\n",
    "            #repair solution\n",
    "            s_perturbed = repair_solution(s_perturbed, processed_data)\n",
    "        \n",
    "        #perform the local search of the perturbed solution\n",
    "        # s*'=LocalSearch(s')\n",
    "        candidate_s = local_search(s_perturbed, processed_data, max_ls_iters=max_ls_iters_per_call)\n",
    "\n",
    "        is_candidate_feasible = is_solution_feasible(candidate_s['P_ict'], candidate_s['ev_to_charger_map'], processed_data, verbose=False)\n",
    "        # If result of local search is not feasible, adjust\n",
    "        if is_candidate_feasible==False:\n",
    "            #Repair candidate solution\n",
    "            candidate_s = repair_solution(candidate_s, processed_data)\n",
    "            #Only If the repair of the localsearch does not improve the perturbed solution, adjust and keep the perturbed\n",
    "            if s_perturbed['objective']<candidate_s['objective']:\n",
    "                candidate_s=s_perturbed\n",
    "\n",
    "        #Confirm feasibility\n",
    "        is_candidate_feasible = is_solution_feasible(candidate_s['P_ict'], candidate_s['ev_to_charger_map'], processed_data, verbose=False)       \n",
    "\n",
    "        #If the solution s*' is feasible, enter to the acceptance criterion\n",
    "        if is_candidate_feasible and candidate_s['objective'] < s_best_i['objective']:\n",
    "            #s*\n",
    "            s_best_i = copy.deepcopy(candidate_s)\n",
    "            iterations_without_improvement_count = 0 \n",
    "            #If cost(s*)<cost(s*'), update the global best\n",
    "            if s_best_i['objective'] < s_best['objective']:\n",
    "                s_best = copy.deepcopy(s_best_i)\n",
    "                # print(f\"ILS: New GLOBAL BEST solution: {s_best['objective']:.2f}\")\n",
    "\n",
    "        #Else, if the solution is unfeasible, or if there is no impreovement, update the number of iterations without improvement\n",
    "        else:\n",
    "            iterations_without_improvement_count += 1\n",
    "            # print(f\"ILS: Iterations without improvement in current run: {iterations_without_improvement_count}\")\n",
    "\n",
    "        cost[i]=s_best['objective']\n",
    "        #If the number of iterations without improvement is more than the maximum 8early stopping) criteria, break the loop\n",
    "        if iterations_without_improvement_count >= max_no_improvement_ils:\n",
    "            # print(f\"ILS: Stopping early due to {max_no_improvement_ils} iterations without improvement in current run.\")\n",
    "            break\n",
    "            \n",
    "    end_time_ils = time.time()\n",
    "\n",
    "    print(f\"\\nILS finished in {end_time_ils - start_time_ils:.2f} seconds.\")\n",
    "    print(f\"Final best objective found by ILS: {s_best['objective']:.2f}\")\n",
    " \n",
    "    return s_best,cost\n"
   ]
  },
  {
   "cell_type": "code",
   "execution_count": null,
   "metadata": {},
   "outputs": [
    {
     "name": "stdout",
     "output_type": "stream",
     "text": [
      "\n",
      "ILS Iteration: 10 out of: 200\n",
      "\n",
      "ILS Iteration: 20 out of: 200\n",
      "\n",
      "ILS Iteration: 30 out of: 200\n",
      "\n",
      "ILS Iteration: 40 out of: 200\n",
      "\n",
      "ILS Iteration: 50 out of: 200\n",
      "\n",
      "ILS Iteration: 60 out of: 200\n",
      "\n",
      "ILS Iteration: 70 out of: 200\n",
      "\n",
      "ILS Iteration: 80 out of: 200\n",
      "\n",
      "ILS Iteration: 90 out of: 200\n",
      "\n",
      "ILS Iteration: 100 out of: 200\n",
      "\n",
      "ILS Iteration: 110 out of: 200\n",
      "\n",
      "ILS Iteration: 120 out of: 200\n",
      "\n",
      "ILS Iteration: 130 out of: 200\n",
      "\n",
      "ILS finished in 241.13 seconds.\n",
      "Final best objective found by ILS: 3392986.02\n"
     ]
    },
    {
     "data": {
      "image/png": "[encoded data removed]",
      "text/plain": [
       "<Figure size 640x480 with 1 Axes>"
      ]
     },
     "metadata": {},
     "output_type": "display_data"
    }
   ],
   "source": [
    "best_hyperparams={}\n",
    "best_hyperparams['MAX_ILS_ITERATIONS']=200\n",
    "best_hyperparams['MAX_NO_IMPROVEMENT_ILS']=100\n",
    "best_hyperparams['INITIAL_HEURISTIC']=\"sa_fcfs\"\n",
    "best_hyperparams['MAX_LS_ITERS_PER_CALL']=20\n",
    "best_hyperparams['PERTURBATION_STRENGTH']=0.2\n",
    "\n",
    "file_path=\"test_system_4.json\"\n",
    "processed_data=load_and_preprocess_data(file_path) \n",
    "\n",
    "\n",
    "s_best,cost=iterated_local_search_vis(processed_data, best_hyperparams['MAX_ILS_ITERATIONS'], \n",
    "                                      best_hyperparams['MAX_NO_IMPROVEMENT_ILS'],\n",
    "                                      best_hyperparams['INITIAL_HEURISTIC'], \n",
    "                                      best_hyperparams['MAX_LS_ITERS_PER_CALL'],\n",
    "                                      best_hyperparams['PERTURBATION_STRENGTH'])\n",
    "\n",
    "\n",
    "df_cost=pd.DataFrame.from_dict(cost, orient='index', columns=['Objective Function'])\n",
    "df_cost.reset_index(drop=True, inplace=True)\n",
    "\n",
    "\n",
    "\n",
    "from matplotlib.ticker import FuncFormatter\n",
    "\n",
    "\n",
    "fig, ax = plt.subplots()\n",
    "df_cost.plot(y='Objective Function', ax=ax)\n",
    "formatter = FuncFormatter(lambda x, pos: f'{x*1e-6:.2f}M')\n",
    "ax.yaxis.set_major_formatter(formatter)\n",
    "ax.set_ylabel('Objective Function (Millions)')\n",
    "ax.set_xlabel('Iteration')\n",
    "ax.grid(True,alpha=0.6)\n",
    "plt.tight_layout()\n",
    "plt.show()"
   ]
  },
  {
   "cell_type": "code",
   "execution_count": null,
   "metadata": {},
   "outputs": [],
   "source": []
  },
  {
   "cell_type": "code",
   "execution_count": null,
   "metadata": {},
   "outputs": [
    {
     "ename": "NameError",
     "evalue": "name 'wilmar' is not defined",
     "output_type": "error",
     "traceback": [
      "\u001b[1;31m---------------------------------------------------------------------------\u001b[0m",
      "\u001b[1;31mNameError\u001b[0m                                 Traceback (most recent call last)",
      "Cell \u001b[1;32mIn[22], line 1\u001b[0m\n\u001b[1;32m----> 1\u001b[0m \u001b[38;5;28mprint\u001b[39m(\u001b[43mwilmar\u001b[49m)\n",
      "\u001b[1;31mNameError\u001b[0m: name 'wilmar' is not defined"
     ]
    }
   ],
   "source": []
  },
  {
   "cell_type": "code",
   "execution_count": null,
   "metadata": {},
   "outputs": [
    {
     "name": "stderr",
     "output_type": "stream",
     "text": [
      "[I 2025-05-31 13:35:13,716] A new study created in memory with name: no-name-35a22577-5f5f-4c03-9a94-d4fb998852e8\n"
     ]
    },
    {
     "name": "stdout",
     "output_type": "stream",
     "text": [
      "\n",
      "Optuna Trial 0: Params: MaxIter=397, NoImprove=2, LS_Iter=34, PerturbStr=0.32\n",
      "  Running ILS on instance 1/7...\n",
      "\n",
      "ILS finished in 0.69 seconds.\n",
      "Final best objective found by ILS: 1307521.04\n",
      "    Instance 1 Objective: 1307521.04\n",
      "  Running ILS on instance 2/7...\n",
      "\n",
      "ILS finished in 1.72 seconds.\n",
      "Final best objective found by ILS: 2455146.18\n",
      "    Instance 2 Objective: 2455146.18\n",
      "  Running ILS on instance 3/7...\n",
      "\n",
      "ILS finished in 3.72 seconds.\n",
      "Final best objective found by ILS: 2766948.46\n",
      "    Instance 3 Objective: 2766948.46\n",
      "  Running ILS on instance 4/7...\n",
      "\n",
      "ILS finished in 4.80 seconds.\n",
      "Final best objective found by ILS: 4071034.92\n",
      "    Instance 4 Objective: 4071034.92\n",
      "  Running ILS on instance 5/7...\n",
      "\n",
      "ILS finished in 12.50 seconds.\n",
      "Final best objective found by ILS: 3932988.53\n",
      "    Instance 5 Objective: 3932988.53\n",
      "  Running ILS on instance 6/7...\n",
      "\n",
      "ILS finished in 25.51 seconds.\n",
      "Final best objective found by ILS: 4262781.95\n",
      "    Instance 6 Objective: 4262781.95\n",
      "  Running ILS on instance 7/7...\n"
     ]
    },
    {
     "name": "stderr",
     "output_type": "stream",
     "text": [
      "[I 2025-05-31 13:36:59,124] Trial 0 finished with value: 3436112.9561864384 and parameters: {'MAX_ILS_ITERATIONS': 397, 'MAX_NO_IMPROVEMENT_ILS': 2, 'MAX_LS_ITERS_PER_CALL': 34, 'PERTURBATION_STRENGTH': 0.32464116476158356, 'INITIAL_HEURISTIC': 'pa_edf'}. Best is trial 0 with value: 3436112.9561864384.\n"
     ]
    },
    {
     "name": "stdout",
     "output_type": "stream",
     "text": [
      "\n",
      "ILS finished in 56.46 seconds.\n",
      "Final best objective found by ILS: 5256369.61\n",
      "    Instance 7 Objective: 5256369.61\n",
      "Optuna Trial 0: Average Objective across 7 instances: 3436112.96\n",
      "\n",
      "Optuna Trial 1: Params: MaxIter=139, NoImprove=39, LS_Iter=12, PerturbStr=0.13\n",
      "  Running ILS on instance 1/7...\n",
      "\n",
      "ILS Iteration: 10 out of: 139\n",
      "\n",
      "ILS Iteration: 20 out of: 139\n",
      "\n",
      "ILS Iteration: 30 out of: 139\n",
      "\n",
      "ILS finished in 10.00 seconds.\n",
      "Final best objective found by ILS: 1295549.34\n",
      "    Instance 1 Objective: 1295549.34\n",
      "  Running ILS on instance 2/7...\n",
      "\n",
      "ILS Iteration: 10 out of: 139\n",
      "\n",
      "ILS Iteration: 20 out of: 139\n",
      "\n",
      "ILS Iteration: 30 out of: 139\n",
      "\n",
      "ILS Iteration: 40 out of: 139\n",
      "\n",
      "ILS finished in 22.74 seconds.\n",
      "Final best objective found by ILS: 2271239.32\n",
      "    Instance 2 Objective: 2271239.32\n",
      "  Running ILS on instance 3/7...\n",
      "\n",
      "ILS Iteration: 10 out of: 139\n",
      "\n",
      "ILS Iteration: 20 out of: 139\n",
      "\n",
      "ILS Iteration: 30 out of: 139\n",
      "\n",
      "ILS Iteration: 40 out of: 139\n",
      "\n",
      "ILS finished in 30.61 seconds.\n",
      "Final best objective found by ILS: 2643066.29\n",
      "    Instance 3 Objective: 2643066.29\n",
      "  Running ILS on instance 4/7...\n",
      "\n",
      "ILS Iteration: 10 out of: 139\n",
      "\n",
      "ILS Iteration: 20 out of: 139\n",
      "\n",
      "ILS Iteration: 30 out of: 139\n",
      "\n",
      "ILS Iteration: 40 out of: 139\n",
      "\n",
      "ILS finished in 71.98 seconds.\n",
      "Final best objective found by ILS: 3417788.90\n",
      "    Instance 4 Objective: 3417788.90\n",
      "  Running ILS on instance 5/7...\n",
      "\n",
      "ILS Iteration: 10 out of: 139\n",
      "\n",
      "ILS Iteration: 20 out of: 139\n",
      "\n",
      "ILS Iteration: 30 out of: 139\n",
      "\n",
      "ILS Iteration: 40 out of: 139\n",
      "\n",
      "ILS finished in 137.80 seconds.\n",
      "Final best objective found by ILS: 3757673.99\n",
      "    Instance 5 Objective: 3757673.99\n",
      "  Running ILS on instance 6/7...\n",
      "\n",
      "ILS Iteration: 10 out of: 139\n",
      "\n",
      "ILS Iteration: 20 out of: 139\n",
      "\n",
      "ILS Iteration: 30 out of: 139\n",
      "\n",
      "ILS Iteration: 40 out of: 139\n",
      "\n",
      "ILS finished in 342.84 seconds.\n",
      "Final best objective found by ILS: 3890422.39\n",
      "    Instance 6 Objective: 3890422.39\n",
      "  Running ILS on instance 7/7...\n",
      "\n",
      "ILS Iteration: 10 out of: 139\n",
      "\n",
      "ILS Iteration: 20 out of: 139\n",
      "\n",
      "ILS Iteration: 30 out of: 139\n"
     ]
    },
    {
     "name": "stderr",
     "output_type": "stream",
     "text": [
      "[I 2025-05-31 14:02:42,366] Trial 1 finished with value: 3087685.9946853956 and parameters: {'MAX_ILS_ITERATIONS': 139, 'MAX_NO_IMPROVEMENT_ILS': 39, 'MAX_LS_ITERS_PER_CALL': 12, 'PERTURBATION_STRENGTH': 0.1265019442522031, 'INITIAL_HEURISTIC': 'sa_fcfs'}. Best is trial 1 with value: 3087685.9946853956.\n"
     ]
    },
    {
     "name": "stdout",
     "output_type": "stream",
     "text": [
      "\n",
      "ILS finished in 927.23 seconds.\n",
      "Final best objective found by ILS: 4338061.72\n",
      "    Instance 7 Objective: 4338061.72\n",
      "Optuna Trial 1: Average Objective across 7 instances: 3087685.99\n",
      "\n",
      "Optuna Trial 2: Params: MaxIter=51, NoImprove=26, LS_Iter=42, PerturbStr=0.28\n",
      "  Running ILS on instance 1/7...\n",
      "\n",
      "ILS Iteration: 10 out of: 51\n",
      "\n",
      "ILS Iteration: 20 out of: 51\n",
      "\n",
      "ILS finished in 10.45 seconds.\n",
      "Final best objective found by ILS: 1307521.04\n",
      "    Instance 1 Objective: 1307521.04\n",
      "  Running ILS on instance 2/7...\n",
      "\n",
      "ILS Iteration: 10 out of: 51\n",
      "\n",
      "ILS Iteration: 20 out of: 51\n",
      "\n",
      "ILS finished in 15.82 seconds.\n",
      "Final best objective found by ILS: 2405732.40\n",
      "    Instance 2 Objective: 2405732.40\n",
      "  Running ILS on instance 3/7...\n",
      "\n",
      "ILS Iteration: 10 out of: 51\n",
      "\n",
      "ILS Iteration: 20 out of: 51\n",
      "\n",
      "ILS finished in 25.03 seconds.\n",
      "Final best objective found by ILS: 2671861.74\n",
      "    Instance 3 Objective: 2671861.74\n",
      "  Running ILS on instance 4/7...\n",
      "\n",
      "ILS Iteration: 10 out of: 51\n",
      "\n",
      "ILS Iteration: 20 out of: 51\n",
      "\n",
      "ILS finished in 40.18 seconds.\n",
      "Final best objective found by ILS: 4051100.48\n",
      "    Instance 4 Objective: 4051100.48\n",
      "  Running ILS on instance 5/7...\n",
      "\n",
      "ILS Iteration: 10 out of: 51\n",
      "\n",
      "ILS Iteration: 20 out of: 51\n",
      "\n",
      "ILS finished in 137.73 seconds.\n",
      "Final best objective found by ILS: 3932988.53\n",
      "    Instance 5 Objective: 3932988.53\n",
      "  Running ILS on instance 6/7...\n",
      "\n",
      "ILS Iteration: 10 out of: 51\n",
      "\n",
      "ILS Iteration: 20 out of: 51\n",
      "\n",
      "ILS finished in 290.24 seconds.\n",
      "Final best objective found by ILS: 4262781.95\n",
      "    Instance 6 Objective: 4262781.95\n",
      "  Running ILS on instance 7/7...\n",
      "\n",
      "ILS Iteration: 10 out of: 51\n",
      "\n",
      "ILS Iteration: 20 out of: 51\n"
     ]
    },
    {
     "name": "stderr",
     "output_type": "stream",
     "text": [
      "[I 2025-05-31 14:23:43,878] Trial 2 finished with value: 3412622.250742341 and parameters: {'MAX_ILS_ITERATIONS': 51, 'MAX_NO_IMPROVEMENT_ILS': 26, 'MAX_LS_ITERS_PER_CALL': 42, 'PERTURBATION_STRENGTH': 0.28375782004881644, 'INITIAL_HEURISTIC': 'pa_edf'}. Best is trial 1 with value: 3087685.9946853956.\n"
     ]
    },
    {
     "name": "stdout",
     "output_type": "stream",
     "text": [
      "\n",
      "ILS finished in 742.03 seconds.\n",
      "Final best objective found by ILS: 5256369.61\n",
      "    Instance 7 Objective: 5256369.61\n",
      "Optuna Trial 2: Average Objective across 7 instances: 3412622.25\n",
      "\n",
      "Optuna Trial 3: Params: MaxIter=463, NoImprove=36, LS_Iter=29, PerturbStr=0.14\n",
      "  Running ILS on instance 1/7...\n",
      "\n",
      "ILS Iteration: 10 out of: 463\n",
      "\n",
      "ILS Iteration: 20 out of: 463\n",
      "\n",
      "ILS Iteration: 30 out of: 463\n",
      "\n",
      "ILS finished in 12.96 seconds.\n",
      "Final best objective found by ILS: 1295549.34\n",
      "    Instance 1 Objective: 1295549.34\n",
      "  Running ILS on instance 2/7...\n",
      "\n",
      "ILS Iteration: 10 out of: 463\n",
      "\n",
      "ILS Iteration: 20 out of: 463\n",
      "\n",
      "ILS Iteration: 30 out of: 463\n",
      "\n",
      "ILS Iteration: 40 out of: 463\n",
      "\n",
      "ILS Iteration: 50 out of: 463\n",
      "\n",
      "ILS finished in 34.24 seconds.\n",
      "Final best objective found by ILS: 2297679.14\n",
      "    Instance 2 Objective: 2297679.14\n",
      "  Running ILS on instance 3/7...\n",
      "\n",
      "ILS Iteration: 10 out of: 463\n",
      "\n",
      "ILS Iteration: 20 out of: 463\n",
      "\n",
      "ILS Iteration: 30 out of: 463\n",
      "\n",
      "ILS finished in 38.38 seconds.\n",
      "Final best objective found by ILS: 2646916.26\n",
      "    Instance 3 Objective: 2646916.26\n",
      "  Running ILS on instance 4/7...\n",
      "\n",
      "ILS Iteration: 10 out of: 463\n",
      "\n",
      "ILS Iteration: 20 out of: 463\n",
      "\n",
      "ILS Iteration: 30 out of: 463\n",
      "\n",
      "ILS Iteration: 40 out of: 463\n",
      "\n",
      "ILS Iteration: 50 out of: 463\n",
      "\n",
      "ILS Iteration: 60 out of: 463\n",
      "\n",
      "ILS Iteration: 70 out of: 463\n",
      "\n",
      "ILS finished in 148.01 seconds.\n",
      "Final best objective found by ILS: 3441873.31\n",
      "    Instance 4 Objective: 3441873.31\n",
      "  Running ILS on instance 5/7...\n",
      "\n",
      "ILS Iteration: 10 out of: 463\n",
      "\n",
      "ILS Iteration: 20 out of: 463\n",
      "\n",
      "ILS Iteration: 30 out of: 463\n",
      "\n",
      "ILS finished in 188.63 seconds.\n",
      "Final best objective found by ILS: 3705971.18\n",
      "    Instance 5 Objective: 3705971.18\n",
      "  Running ILS on instance 6/7...\n",
      "\n",
      "ILS Iteration: 10 out of: 463\n",
      "\n",
      "ILS Iteration: 20 out of: 463\n",
      "\n",
      "ILS Iteration: 30 out of: 463\n",
      "\n",
      "ILS Iteration: 40 out of: 463\n",
      "\n",
      "ILS Iteration: 50 out of: 463\n",
      "\n",
      "ILS finished in 642.38 seconds.\n",
      "Final best objective found by ILS: 3848904.00\n",
      "    Instance 6 Objective: 3848904.00\n",
      "  Running ILS on instance 7/7...\n",
      "\n",
      "ILS Iteration: 10 out of: 463\n",
      "\n",
      "ILS Iteration: 20 out of: 463\n",
      "\n",
      "ILS Iteration: 30 out of: 463\n"
     ]
    },
    {
     "name": "stderr",
     "output_type": "stream",
     "text": [
      "[I 2025-05-31 15:05:01,121] Trial 3 finished with value: 3082136.4229613286 and parameters: {'MAX_ILS_ITERATIONS': 463, 'MAX_NO_IMPROVEMENT_ILS': 36, 'MAX_LS_ITERS_PER_CALL': 29, 'PERTURBATION_STRENGTH': 0.1426510142804581, 'INITIAL_HEURISTIC': 'sa_fcfs'}. Best is trial 3 with value: 3082136.4229613286.\n"
     ]
    },
    {
     "name": "stdout",
     "output_type": "stream",
     "text": [
      "\n",
      "ILS finished in 1412.65 seconds.\n",
      "Final best objective found by ILS: 4338061.72\n",
      "    Instance 7 Objective: 4338061.72\n",
      "Optuna Trial 3: Average Objective across 7 instances: 3082136.42\n",
      "\n",
      "Optuna Trial 4: Params: MaxIter=249, NoImprove=22, LS_Iter=33, PerturbStr=0.25\n",
      "  Running ILS on instance 1/7...\n",
      "\n",
      "ILS Iteration: 10 out of: 249\n",
      "\n",
      "ILS Iteration: 20 out of: 249\n",
      "\n",
      "ILS finished in 7.43 seconds.\n",
      "Final best objective found by ILS: 1307521.04\n",
      "    Instance 1 Objective: 1307521.04\n",
      "  Running ILS on instance 2/7...\n",
      "\n",
      "ILS Iteration: 10 out of: 249\n",
      "\n",
      "ILS Iteration: 20 out of: 249\n",
      "\n",
      "ILS finished in 12.42 seconds.\n",
      "Final best objective found by ILS: 2445828.27\n",
      "    Instance 2 Objective: 2445828.27\n",
      "  Running ILS on instance 3/7...\n",
      "\n",
      "ILS Iteration: 10 out of: 249\n",
      "\n",
      "ILS Iteration: 20 out of: 249\n",
      "\n",
      "ILS finished in 23.73 seconds.\n",
      "Final best objective found by ILS: 2774915.68\n",
      "    Instance 3 Objective: 2774915.68\n",
      "  Running ILS on instance 4/7...\n",
      "\n",
      "ILS Iteration: 10 out of: 249\n",
      "\n",
      "ILS Iteration: 20 out of: 249\n",
      "\n",
      "ILS finished in 36.45 seconds.\n",
      "Final best objective found by ILS: 4002375.38\n",
      "    Instance 4 Objective: 4002375.38\n",
      "  Running ILS on instance 5/7...\n",
      "\n",
      "ILS Iteration: 10 out of: 249\n",
      "\n",
      "ILS Iteration: 20 out of: 249\n",
      "\n",
      "ILS finished in 96.85 seconds.\n",
      "Final best objective found by ILS: 3932988.53\n",
      "    Instance 5 Objective: 3932988.53\n",
      "  Running ILS on instance 6/7...\n",
      "\n",
      "ILS Iteration: 10 out of: 249\n",
      "\n",
      "ILS Iteration: 20 out of: 249\n",
      "\n",
      "ILS finished in 233.22 seconds.\n",
      "Final best objective found by ILS: 4238946.89\n",
      "    Instance 6 Objective: 4238946.89\n",
      "  Running ILS on instance 7/7...\n",
      "\n",
      "ILS Iteration: 10 out of: 249\n",
      "\n",
      "ILS Iteration: 20 out of: 249\n"
     ]
    },
    {
     "name": "stderr",
     "output_type": "stream",
     "text": [
      "[I 2025-05-31 15:21:49,744] Trial 4 finished with value: 3422706.4860996464 and parameters: {'MAX_ILS_ITERATIONS': 249, 'MAX_NO_IMPROVEMENT_ILS': 22, 'MAX_LS_ITERS_PER_CALL': 33, 'PERTURBATION_STRENGTH': 0.2539414727663173, 'INITIAL_HEURISTIC': 'pa_edf'}. Best is trial 3 with value: 3082136.4229613286.\n"
     ]
    },
    {
     "name": "stdout",
     "output_type": "stream",
     "text": [
      "\n",
      "ILS finished in 598.52 seconds.\n",
      "Final best objective found by ILS: 5256369.61\n",
      "    Instance 7 Objective: 5256369.61\n",
      "Optuna Trial 4: Average Objective across 7 instances: 3422706.49\n",
      "\n",
      "Optuna Trial 5: Params: MaxIter=413, NoImprove=27, LS_Iter=46, PerturbStr=0.20\n",
      "  Running ILS on instance 1/7...\n",
      "\n",
      "ILS Iteration: 10 out of: 413\n",
      "\n",
      "ILS Iteration: 20 out of: 413\n",
      "\n",
      "ILS finished in 10.89 seconds.\n",
      "Final best objective found by ILS: 1295549.34\n",
      "    Instance 1 Objective: 1295549.34\n",
      "  Running ILS on instance 2/7...\n",
      "\n",
      "ILS Iteration: 10 out of: 413\n",
      "\n",
      "ILS Iteration: 20 out of: 413\n",
      "\n",
      "ILS finished in 16.90 seconds.\n",
      "Final best objective found by ILS: 2307104.97\n",
      "    Instance 2 Objective: 2307104.97\n",
      "  Running ILS on instance 3/7...\n",
      "\n",
      "ILS Iteration: 10 out of: 413\n",
      "\n",
      "ILS Iteration: 20 out of: 413\n",
      "\n",
      "ILS finished in 37.68 seconds.\n",
      "Final best objective found by ILS: 2567834.48\n",
      "    Instance 3 Objective: 2567834.48\n",
      "  Running ILS on instance 4/7...\n",
      "\n",
      "ILS Iteration: 10 out of: 413\n",
      "\n",
      "ILS Iteration: 20 out of: 413\n",
      "\n",
      "ILS finished in 65.55 seconds.\n",
      "Final best objective found by ILS: 3457845.43\n",
      "    Instance 4 Objective: 3457845.43\n",
      "  Running ILS on instance 5/7...\n",
      "\n",
      "ILS Iteration: 10 out of: 413\n",
      "\n",
      "ILS Iteration: 20 out of: 413\n",
      "\n",
      "ILS Iteration: 30 out of: 413\n",
      "\n",
      "ILS Iteration: 40 out of: 413\n",
      "\n",
      "ILS Iteration: 50 out of: 413\n",
      "\n",
      "ILS finished in 260.97 seconds.\n",
      "Final best objective found by ILS: 3758274.25\n",
      "    Instance 5 Objective: 3758274.25\n",
      "  Running ILS on instance 6/7...\n",
      "\n",
      "ILS Iteration: 10 out of: 413\n",
      "\n",
      "ILS Iteration: 20 out of: 413\n",
      "\n",
      "ILS finished in 411.79 seconds.\n",
      "Final best objective found by ILS: 3914916.71\n",
      "    Instance 6 Objective: 3914916.71\n",
      "  Running ILS on instance 7/7...\n",
      "\n",
      "ILS Iteration: 10 out of: 413\n",
      "\n",
      "ILS Iteration: 20 out of: 413\n"
     ]
    },
    {
     "name": "stderr",
     "output_type": "stream",
     "text": [
      "[I 2025-05-31 15:55:15,367] Trial 5 finished with value: 3091369.5570286927 and parameters: {'MAX_ILS_ITERATIONS': 413, 'MAX_NO_IMPROVEMENT_ILS': 27, 'MAX_LS_ITERS_PER_CALL': 46, 'PERTURBATION_STRENGTH': 0.1957708266965636, 'INITIAL_HEURISTIC': 'sa_fcfs'}. Best is trial 3 with value: 3082136.4229613286.\n"
     ]
    },
    {
     "name": "stdout",
     "output_type": "stream",
     "text": [
      "\n",
      "ILS finished in 1201.83 seconds.\n",
      "Final best objective found by ILS: 4338061.72\n",
      "    Instance 7 Objective: 4338061.72\n",
      "Optuna Trial 5: Average Objective across 7 instances: 3091369.56\n",
      "\n",
      "Optuna Trial 6: Params: MaxIter=101, NoImprove=42, LS_Iter=7, PerturbStr=0.29\n",
      "  Running ILS on instance 1/7...\n",
      "\n",
      "ILS Iteration: 10 out of: 101\n",
      "\n",
      "ILS Iteration: 20 out of: 101\n",
      "\n",
      "ILS Iteration: 30 out of: 101\n",
      "\n",
      "ILS Iteration: 40 out of: 101\n",
      "\n",
      "ILS finished in 8.48 seconds.\n",
      "Final best objective found by ILS: 1295549.34\n",
      "    Instance 1 Objective: 1295549.34\n",
      "  Running ILS on instance 2/7...\n",
      "\n",
      "ILS Iteration: 10 out of: 101\n",
      "\n",
      "ILS Iteration: 20 out of: 101\n",
      "\n",
      "ILS Iteration: 30 out of: 101\n",
      "\n",
      "ILS Iteration: 40 out of: 101\n",
      "\n",
      "ILS finished in 17.95 seconds.\n",
      "Final best objective found by ILS: 2306457.18\n",
      "    Instance 2 Objective: 2306457.18\n",
      "  Running ILS on instance 3/7...\n",
      "\n",
      "ILS Iteration: 10 out of: 101\n",
      "\n",
      "ILS Iteration: 20 out of: 101\n",
      "\n",
      "ILS Iteration: 30 out of: 101\n",
      "\n",
      "ILS Iteration: 40 out of: 101\n",
      "\n",
      "ILS finished in 25.70 seconds.\n",
      "Final best objective found by ILS: 2628266.00\n",
      "    Instance 3 Objective: 2628266.00\n",
      "  Running ILS on instance 4/7...\n",
      "\n",
      "ILS Iteration: 10 out of: 101\n",
      "\n",
      "ILS Iteration: 20 out of: 101\n",
      "\n",
      "ILS Iteration: 30 out of: 101\n",
      "\n",
      "ILS Iteration: 40 out of: 101\n",
      "\n",
      "ILS finished in 50.43 seconds.\n",
      "Final best objective found by ILS: 3457845.43\n",
      "    Instance 4 Objective: 3457845.43\n",
      "  Running ILS on instance 5/7...\n",
      "\n",
      "ILS Iteration: 10 out of: 101\n",
      "\n",
      "ILS Iteration: 20 out of: 101\n",
      "\n",
      "ILS Iteration: 30 out of: 101\n",
      "\n",
      "ILS Iteration: 40 out of: 101\n",
      "\n",
      "ILS finished in 106.76 seconds.\n",
      "Final best objective found by ILS: 3779940.44\n",
      "    Instance 5 Objective: 3779940.44\n",
      "  Running ILS on instance 6/7...\n",
      "\n",
      "ILS Iteration: 10 out of: 101\n",
      "\n",
      "ILS Iteration: 20 out of: 101\n",
      "\n",
      "ILS Iteration: 30 out of: 101\n",
      "\n",
      "ILS Iteration: 40 out of: 101\n",
      "\n",
      "ILS finished in 239.14 seconds.\n",
      "Final best objective found by ILS: 3914916.71\n",
      "    Instance 6 Objective: 3914916.71\n",
      "  Running ILS on instance 7/7...\n",
      "\n",
      "ILS Iteration: 10 out of: 101\n",
      "\n",
      "ILS Iteration: 20 out of: 101\n",
      "\n",
      "ILS Iteration: 30 out of: 101\n",
      "\n",
      "ILS Iteration: 40 out of: 101\n"
     ]
    },
    {
     "name": "stderr",
     "output_type": "stream",
     "text": [
      "[I 2025-05-31 16:12:34,148] Trial 6 finished with value: 3103005.2593983794 and parameters: {'MAX_ILS_ITERATIONS': 101, 'MAX_NO_IMPROVEMENT_ILS': 42, 'MAX_LS_ITERS_PER_CALL': 7, 'PERTURBATION_STRENGTH': 0.28788614449341776, 'INITIAL_HEURISTIC': 'sa_fcfs'}. Best is trial 3 with value: 3082136.4229613286.\n"
     ]
    },
    {
     "name": "stdout",
     "output_type": "stream",
     "text": [
      "\n",
      "ILS finished in 590.28 seconds.\n",
      "Final best objective found by ILS: 4338061.72\n",
      "    Instance 7 Objective: 4338061.72\n",
      "Optuna Trial 6: Average Objective across 7 instances: 3103005.26\n",
      "\n",
      "Optuna Trial 7: Params: MaxIter=139, NoImprove=43, LS_Iter=21, PerturbStr=0.33\n",
      "  Running ILS on instance 1/7...\n",
      "\n",
      "ILS Iteration: 10 out of: 139\n",
      "\n",
      "ILS Iteration: 20 out of: 139\n",
      "\n",
      "ILS Iteration: 30 out of: 139\n",
      "\n",
      "ILS Iteration: 40 out of: 139\n",
      "\n",
      "ILS finished in 12.13 seconds.\n",
      "Final best objective found by ILS: 1295549.34\n",
      "    Instance 1 Objective: 1295549.34\n",
      "  Running ILS on instance 2/7...\n",
      "\n",
      "ILS Iteration: 10 out of: 139\n",
      "\n",
      "ILS Iteration: 20 out of: 139\n",
      "\n",
      "ILS Iteration: 30 out of: 139\n",
      "\n",
      "ILS Iteration: 40 out of: 139\n",
      "\n",
      "ILS Iteration: 50 out of: 139\n",
      "\n",
      "ILS Iteration: 60 out of: 139\n",
      "\n",
      "ILS finished in 36.42 seconds.\n",
      "Final best objective found by ILS: 2269003.52\n",
      "    Instance 2 Objective: 2269003.52\n",
      "  Running ILS on instance 3/7...\n",
      "\n",
      "ILS Iteration: 10 out of: 139\n",
      "\n",
      "ILS Iteration: 20 out of: 139\n",
      "\n",
      "ILS Iteration: 30 out of: 139\n",
      "\n",
      "ILS Iteration: 40 out of: 139\n",
      "\n",
      "ILS finished in 33.71 seconds.\n",
      "Final best objective found by ILS: 2670049.58\n",
      "    Instance 3 Objective: 2670049.58\n",
      "  Running ILS on instance 4/7...\n",
      "\n",
      "ILS Iteration: 10 out of: 139\n",
      "\n",
      "ILS Iteration: 20 out of: 139\n",
      "\n",
      "ILS Iteration: 30 out of: 139\n",
      "\n",
      "ILS Iteration: 40 out of: 139\n",
      "\n",
      "ILS finished in 73.61 seconds.\n",
      "Final best objective found by ILS: 3457845.43\n",
      "    Instance 4 Objective: 3457845.43\n",
      "  Running ILS on instance 5/7...\n",
      "\n",
      "ILS Iteration: 10 out of: 139\n",
      "\n",
      "ILS Iteration: 20 out of: 139\n",
      "\n",
      "ILS Iteration: 30 out of: 139\n",
      "\n",
      "ILS Iteration: 40 out of: 139\n",
      "\n",
      "ILS finished in 163.18 seconds.\n",
      "Final best objective found by ILS: 3779940.44\n",
      "    Instance 5 Objective: 3779940.44\n",
      "  Running ILS on instance 6/7...\n",
      "\n",
      "ILS Iteration: 10 out of: 139\n",
      "\n",
      "ILS Iteration: 20 out of: 139\n",
      "\n",
      "ILS Iteration: 30 out of: 139\n",
      "\n",
      "ILS Iteration: 40 out of: 139\n",
      "\n",
      "ILS finished in 392.20 seconds.\n",
      "Final best objective found by ILS: 3914916.71\n",
      "    Instance 6 Objective: 3914916.71\n",
      "  Running ILS on instance 7/7...\n",
      "\n",
      "ILS Iteration: 10 out of: 139\n",
      "\n",
      "ILS Iteration: 20 out of: 139\n",
      "\n",
      "ILS Iteration: 30 out of: 139\n",
      "\n",
      "ILS Iteration: 40 out of: 139\n"
     ]
    },
    {
     "name": "stderr",
     "output_type": "stream",
     "text": [
      "[I 2025-05-31 16:41:20,869] Trial 7 finished with value: 3103623.820918508 and parameters: {'MAX_ILS_ITERATIONS': 139, 'MAX_NO_IMPROVEMENT_ILS': 43, 'MAX_LS_ITERS_PER_CALL': 21, 'PERTURBATION_STRENGTH': 0.3263943074589572, 'INITIAL_HEURISTIC': 'sa_fcfs'}. Best is trial 3 with value: 3082136.4229613286.\n"
     ]
    },
    {
     "name": "stdout",
     "output_type": "stream",
     "text": [
      "\n",
      "ILS finished in 1015.45 seconds.\n",
      "Final best objective found by ILS: 4338061.72\n",
      "    Instance 7 Objective: 4338061.72\n",
      "Optuna Trial 7: Average Objective across 7 instances: 3103623.82\n",
      "\n",
      "Optuna Trial 8: Params: MaxIter=196, NoImprove=9, LS_Iter=23, PerturbStr=0.13\n",
      "  Running ILS on instance 1/7...\n",
      "\n",
      "ILS finished in 2.86 seconds.\n",
      "Final best objective found by ILS: 1307521.04\n",
      "    Instance 1 Objective: 1307521.04\n",
      "  Running ILS on instance 2/7...\n",
      "\n",
      "ILS Iteration: 10 out of: 196\n",
      "\n",
      "ILS finished in 8.36 seconds.\n",
      "Final best objective found by ILS: 2421527.25\n",
      "    Instance 2 Objective: 2421527.25\n",
      "  Running ILS on instance 3/7...\n",
      "\n",
      "ILS Iteration: 10 out of: 196\n",
      "\n",
      "ILS Iteration: 20 out of: 196\n",
      "\n",
      "ILS finished in 16.50 seconds.\n",
      "Final best objective found by ILS: 2767444.40\n",
      "    Instance 3 Objective: 2767444.40\n",
      "  Running ILS on instance 4/7...\n",
      "\n",
      "ILS finished in 15.72 seconds.\n",
      "Final best objective found by ILS: 4030436.42\n",
      "    Instance 4 Objective: 4030436.42\n",
      "  Running ILS on instance 5/7...\n",
      "\n",
      "ILS Iteration: 10 out of: 196\n",
      "\n",
      "ILS finished in 61.60 seconds.\n",
      "Final best objective found by ILS: 3876320.86\n",
      "    Instance 5 Objective: 3876320.86\n",
      "  Running ILS on instance 6/7...\n",
      "\n",
      "ILS finished in 94.29 seconds.\n",
      "Final best objective found by ILS: 4252290.78\n",
      "    Instance 6 Objective: 4252290.78\n",
      "  Running ILS on instance 7/7...\n"
     ]
    },
    {
     "name": "stderr",
     "output_type": "stream",
     "text": [
      "[I 2025-05-31 16:48:58,401] Trial 8 finished with value: 3415987.1950994073 and parameters: {'MAX_ILS_ITERATIONS': 196, 'MAX_NO_IMPROVEMENT_ILS': 9, 'MAX_LS_ITERS_PER_CALL': 23, 'PERTURBATION_STRENGTH': 0.1280381123675951, 'INITIAL_HEURISTIC': 'pa_edf'}. Best is trial 3 with value: 3082136.4229613286.\n"
     ]
    },
    {
     "name": "stdout",
     "output_type": "stream",
     "text": [
      "\n",
      "ILS finished in 258.17 seconds.\n",
      "Final best objective found by ILS: 5256369.61\n",
      "    Instance 7 Objective: 5256369.61\n",
      "Optuna Trial 8: Average Objective across 7 instances: 3415987.20\n",
      "\n",
      "Optuna Trial 9: Params: MaxIter=223, NoImprove=48, LS_Iter=50, PerturbStr=0.24\n",
      "  Running ILS on instance 1/7...\n",
      "\n",
      "ILS Iteration: 10 out of: 223\n",
      "\n",
      "ILS Iteration: 20 out of: 223\n",
      "\n",
      "ILS Iteration: 30 out of: 223\n",
      "\n",
      "ILS Iteration: 40 out of: 223\n",
      "\n",
      "ILS finished in 21.09 seconds.\n",
      "Final best objective found by ILS: 1307521.04\n",
      "    Instance 1 Objective: 1307521.04\n",
      "  Running ILS on instance 2/7...\n",
      "\n",
      "ILS Iteration: 10 out of: 223\n",
      "\n",
      "ILS Iteration: 20 out of: 223\n",
      "\n",
      "ILS Iteration: 30 out of: 223\n",
      "\n",
      "ILS Iteration: 40 out of: 223\n",
      "\n",
      "ILS finished in 32.31 seconds.\n",
      "Final best objective found by ILS: 2432241.28\n",
      "    Instance 2 Objective: 2432241.28\n",
      "  Running ILS on instance 3/7...\n",
      "\n",
      "ILS Iteration: 10 out of: 223\n",
      "\n",
      "ILS Iteration: 20 out of: 223\n",
      "\n",
      "ILS Iteration: 30 out of: 223\n",
      "\n",
      "ILS Iteration: 40 out of: 223\n",
      "\n",
      "ILS Iteration: 50 out of: 223\n",
      "\n",
      "ILS Iteration: 60 out of: 223\n",
      "\n",
      "ILS Iteration: 70 out of: 223\n",
      "\n",
      "ILS Iteration: 80 out of: 223\n",
      "\n",
      "ILS Iteration: 90 out of: 223\n",
      "\n",
      "ILS finished in 86.92 seconds.\n",
      "Final best objective found by ILS: 2777673.75\n",
      "    Instance 3 Objective: 2777673.75\n",
      "  Running ILS on instance 4/7...\n",
      "\n",
      "ILS Iteration: 10 out of: 223\n",
      "\n",
      "ILS Iteration: 20 out of: 223\n",
      "\n",
      "ILS Iteration: 30 out of: 223\n",
      "\n",
      "ILS Iteration: 40 out of: 223\n",
      "\n",
      "ILS finished in 86.31 seconds.\n",
      "Final best objective found by ILS: 4057959.28\n",
      "    Instance 4 Objective: 4057959.28\n",
      "  Running ILS on instance 5/7...\n",
      "\n",
      "ILS Iteration: 10 out of: 223\n",
      "\n",
      "ILS Iteration: 20 out of: 223\n",
      "\n",
      "ILS Iteration: 30 out of: 223\n",
      "\n",
      "ILS Iteration: 40 out of: 223\n",
      "\n",
      "ILS Iteration: 50 out of: 223\n",
      "\n",
      "ILS finished in 262.74 seconds.\n",
      "Final best objective found by ILS: 3906531.02\n",
      "    Instance 5 Objective: 3906531.02\n",
      "  Running ILS on instance 6/7...\n",
      "\n",
      "ILS Iteration: 10 out of: 223\n",
      "\n",
      "ILS Iteration: 20 out of: 223\n",
      "\n",
      "ILS Iteration: 30 out of: 223\n",
      "\n",
      "ILS Iteration: 40 out of: 223\n",
      "\n",
      "ILS finished in 668.53 seconds.\n",
      "Final best objective found by ILS: 4262781.95\n",
      "    Instance 6 Objective: 4262781.95\n",
      "  Running ILS on instance 7/7...\n",
      "\n",
      "ILS Iteration: 10 out of: 223\n",
      "\n",
      "ILS Iteration: 20 out of: 223\n",
      "\n",
      "ILS Iteration: 30 out of: 223\n",
      "\n",
      "ILS Iteration: 40 out of: 223\n"
     ]
    },
    {
     "name": "stderr",
     "output_type": "stream",
     "text": [
      "[I 2025-05-31 17:31:37,975] Trial 9 finished with value: 3428725.419769732 and parameters: {'MAX_ILS_ITERATIONS': 223, 'MAX_NO_IMPROVEMENT_ILS': 48, 'MAX_LS_ITERS_PER_CALL': 50, 'PERTURBATION_STRENGTH': 0.23689136412843526, 'INITIAL_HEURISTIC': 'pa_edf'}. Best is trial 3 with value: 3082136.4229613286.\n"
     ]
    },
    {
     "name": "stdout",
     "output_type": "stream",
     "text": [
      "\n",
      "ILS finished in 1401.65 seconds.\n",
      "Final best objective found by ILS: 5256369.61\n",
      "    Instance 7 Objective: 5256369.61\n",
      "Optuna Trial 9: Average Objective across 7 instances: 3428725.42\n",
      "\n",
      "Optuna Trial 10: Params: MaxIter=476, NoImprove=33, LS_Iter=17, PerturbStr=0.18\n",
      "  Running ILS on instance 1/7...\n",
      "\n",
      "ILS Iteration: 10 out of: 476\n",
      "\n",
      "ILS Iteration: 20 out of: 476\n",
      "\n",
      "ILS Iteration: 30 out of: 476\n",
      "\n",
      "ILS finished in 8.84 seconds.\n",
      "Final best objective found by ILS: 1295549.34\n",
      "    Instance 1 Objective: 1295549.34\n",
      "  Running ILS on instance 2/7...\n",
      "\n",
      "ILS Iteration: 10 out of: 476\n",
      "\n",
      "ILS Iteration: 20 out of: 476\n",
      "\n",
      "ILS Iteration: 30 out of: 476\n",
      "\n",
      "ILS finished in 18.32 seconds.\n",
      "Final best objective found by ILS: 2286323.29\n",
      "    Instance 2 Objective: 2286323.29\n",
      "  Running ILS on instance 3/7...\n",
      "\n",
      "ILS Iteration: 10 out of: 476\n",
      "\n",
      "ILS Iteration: 20 out of: 476\n",
      "\n",
      "ILS Iteration: 30 out of: 476\n",
      "\n",
      "ILS Iteration: 40 out of: 476\n",
      "\n",
      "ILS Iteration: 50 out of: 476\n",
      "\n",
      "ILS finished in 47.26 seconds.\n",
      "Final best objective found by ILS: 2605051.08\n",
      "    Instance 3 Objective: 2605051.08\n",
      "  Running ILS on instance 4/7...\n",
      "\n",
      "ILS Iteration: 10 out of: 476\n",
      "\n",
      "ILS Iteration: 20 out of: 476\n",
      "\n",
      "ILS Iteration: 30 out of: 476\n",
      "\n",
      "ILS finished in 62.14 seconds.\n",
      "Final best objective found by ILS: 3385687.32\n",
      "    Instance 4 Objective: 3385687.32\n",
      "  Running ILS on instance 5/7...\n",
      "\n",
      "ILS Iteration: 10 out of: 476\n",
      "\n",
      "ILS Iteration: 20 out of: 476\n",
      "\n",
      "ILS Iteration: 30 out of: 476\n",
      "\n",
      "ILS finished in 123.46 seconds.\n",
      "Final best objective found by ILS: 3743518.01\n",
      "    Instance 5 Objective: 3743518.01\n",
      "  Running ILS on instance 6/7...\n",
      "\n",
      "ILS Iteration: 10 out of: 476\n",
      "\n",
      "ILS Iteration: 20 out of: 476\n",
      "\n",
      "ILS Iteration: 30 out of: 476\n",
      "\n",
      "ILS finished in 327.55 seconds.\n",
      "Final best objective found by ILS: 3914916.71\n",
      "    Instance 6 Objective: 3914916.71\n",
      "  Running ILS on instance 7/7...\n",
      "\n",
      "ILS Iteration: 10 out of: 476\n",
      "\n",
      "ILS Iteration: 20 out of: 476\n",
      "\n",
      "ILS Iteration: 30 out of: 476\n"
     ]
    },
    {
     "name": "stderr",
     "output_type": "stream",
     "text": [
      "[I 2025-05-31 17:56:05,716] Trial 10 finished with value: 3081301.0674915365 and parameters: {'MAX_ILS_ITERATIONS': 476, 'MAX_NO_IMPROVEMENT_ILS': 33, 'MAX_LS_ITERS_PER_CALL': 17, 'PERTURBATION_STRENGTH': 0.18132481460771827, 'INITIAL_HEURISTIC': 'sa_fcfs'}. Best is trial 10 with value: 3081301.0674915365.\n"
     ]
    },
    {
     "name": "stdout",
     "output_type": "stream",
     "text": [
      "\n",
      "ILS finished in 880.12 seconds.\n",
      "Final best objective found by ILS: 4338061.72\n",
      "    Instance 7 Objective: 4338061.72\n",
      "Optuna Trial 10: Average Objective across 7 instances: 3081301.07\n",
      "\n",
      "Optuna Trial 11: Params: MaxIter=494, NoImprove=33, LS_Iter=16, PerturbStr=0.18\n",
      "  Running ILS on instance 1/7...\n",
      "\n",
      "ILS Iteration: 10 out of: 494\n",
      "\n",
      "ILS Iteration: 20 out of: 494\n",
      "\n",
      "ILS Iteration: 30 out of: 494\n",
      "\n",
      "ILS finished in 8.64 seconds.\n",
      "Final best objective found by ILS: 1295549.34\n",
      "    Instance 1 Objective: 1295549.34\n",
      "  Running ILS on instance 2/7...\n",
      "\n",
      "ILS Iteration: 10 out of: 494\n",
      "\n",
      "ILS Iteration: 20 out of: 494\n",
      "\n",
      "ILS Iteration: 30 out of: 494\n",
      "\n",
      "ILS finished in 17.25 seconds.\n",
      "Final best objective found by ILS: 2249192.56\n",
      "    Instance 2 Objective: 2249192.56\n",
      "  Running ILS on instance 3/7...\n",
      "\n",
      "ILS Iteration: 10 out of: 494\n",
      "\n",
      "ILS Iteration: 20 out of: 494\n",
      "\n",
      "ILS Iteration: 30 out of: 494\n",
      "\n",
      "ILS finished in 26.04 seconds.\n",
      "Final best objective found by ILS: 2660623.35\n",
      "    Instance 3 Objective: 2660623.35\n",
      "  Running ILS on instance 4/7...\n",
      "\n",
      "ILS Iteration: 10 out of: 494\n",
      "\n",
      "ILS Iteration: 20 out of: 494\n",
      "\n",
      "ILS Iteration: 30 out of: 494\n",
      "\n",
      "ILS finished in 57.48 seconds.\n",
      "Final best objective found by ILS: 3403870.20\n",
      "    Instance 4 Objective: 3403870.20\n",
      "  Running ILS on instance 5/7...\n",
      "\n",
      "ILS Iteration: 10 out of: 494\n",
      "\n",
      "ILS Iteration: 20 out of: 494\n",
      "\n",
      "ILS Iteration: 30 out of: 494\n",
      "\n",
      "ILS finished in 121.03 seconds.\n",
      "Final best objective found by ILS: 3779940.44\n",
      "    Instance 5 Objective: 3779940.44\n",
      "  Running ILS on instance 6/7...\n",
      "\n",
      "ILS Iteration: 10 out of: 494\n",
      "\n",
      "ILS Iteration: 20 out of: 494\n",
      "\n",
      "ILS Iteration: 30 out of: 494\n",
      "\n",
      "ILS finished in 308.38 seconds.\n",
      "Final best objective found by ILS: 3914916.71\n",
      "    Instance 6 Objective: 3914916.71\n",
      "  Running ILS on instance 7/7...\n",
      "\n",
      "ILS Iteration: 10 out of: 494\n",
      "\n",
      "ILS Iteration: 20 out of: 494\n",
      "\n",
      "ILS Iteration: 30 out of: 494\n"
     ]
    },
    {
     "name": "stderr",
     "output_type": "stream",
     "text": [
      "[I 2025-05-31 18:19:36,037] Trial 11 finished with value: 3091736.3312146985 and parameters: {'MAX_ILS_ITERATIONS': 494, 'MAX_NO_IMPROVEMENT_ILS': 33, 'MAX_LS_ITERS_PER_CALL': 16, 'PERTURBATION_STRENGTH': 0.17743176455838375, 'INITIAL_HEURISTIC': 'sa_fcfs'}. Best is trial 10 with value: 3081301.0674915365.\n"
     ]
    },
    {
     "name": "stdout",
     "output_type": "stream",
     "text": [
      "\n",
      "ILS finished in 871.47 seconds.\n",
      "Final best objective found by ILS: 4338061.72\n",
      "    Instance 7 Objective: 4338061.72\n",
      "Optuna Trial 11: Average Objective across 7 instances: 3091736.33\n",
      "\n",
      "Optuna Trial 12: Params: MaxIter=349, NoImprove=18, LS_Iter=29, PerturbStr=0.18\n",
      "  Running ILS on instance 1/7...\n",
      "\n",
      "ILS Iteration: 10 out of: 349\n",
      "\n",
      "ILS finished in 6.55 seconds.\n",
      "Final best objective found by ILS: 1295549.34\n",
      "    Instance 1 Objective: 1295549.34\n",
      "  Running ILS on instance 2/7...\n",
      "\n",
      "ILS Iteration: 10 out of: 349\n",
      "\n",
      "ILS finished in 10.35 seconds.\n",
      "Final best objective found by ILS: 2295731.68\n",
      "    Instance 2 Objective: 2295731.68\n",
      "  Running ILS on instance 3/7...\n",
      "\n",
      "ILS Iteration: 10 out of: 349\n",
      "\n",
      "ILS finished in 16.30 seconds.\n",
      "Final best objective found by ILS: 2647060.19\n",
      "    Instance 3 Objective: 2647060.19\n",
      "  Running ILS on instance 4/7...\n",
      "\n",
      "ILS Iteration: 10 out of: 349\n",
      "\n",
      "ILS finished in 37.94 seconds.\n",
      "Final best objective found by ILS: 3457845.43\n",
      "    Instance 4 Objective: 3457845.43\n",
      "  Running ILS on instance 5/7...\n",
      "\n",
      "ILS Iteration: 10 out of: 349\n",
      "\n",
      "ILS finished in 86.71 seconds.\n",
      "Final best objective found by ILS: 3779940.44\n",
      "    Instance 5 Objective: 3779940.44\n",
      "  Running ILS on instance 6/7...\n",
      "\n",
      "ILS Iteration: 10 out of: 349\n",
      "\n",
      "ILS finished in 237.21 seconds.\n",
      "Final best objective found by ILS: 3914916.71\n",
      "    Instance 6 Objective: 3914916.71\n",
      "  Running ILS on instance 7/7...\n",
      "\n",
      "ILS Iteration: 10 out of: 349\n"
     ]
    },
    {
     "name": "stderr",
     "output_type": "stream",
     "text": [
      "[I 2025-05-31 18:37:30,516] Trial 12 finished with value: 3104157.931448261 and parameters: {'MAX_ILS_ITERATIONS': 349, 'MAX_NO_IMPROVEMENT_ILS': 18, 'MAX_LS_ITERS_PER_CALL': 29, 'PERTURBATION_STRENGTH': 0.1832894331869776, 'INITIAL_HEURISTIC': 'sa_fcfs'}. Best is trial 10 with value: 3081301.0674915365.\n"
     ]
    },
    {
     "name": "stdout",
     "output_type": "stream",
     "text": [
      "\n",
      "ILS finished in 679.39 seconds.\n",
      "Final best objective found by ILS: 4338061.72\n",
      "    Instance 7 Objective: 4338061.72\n",
      "Optuna Trial 12: Average Objective across 7 instances: 3104157.93\n",
      "\n",
      "Optuna Trial 13: Params: MaxIter=492, NoImprove=34, LS_Iter=18, PerturbStr=0.40\n",
      "  Running ILS on instance 1/7...\n",
      "\n",
      "ILS Iteration: 10 out of: 492\n",
      "\n",
      "ILS Iteration: 20 out of: 492\n",
      "\n",
      "ILS Iteration: 30 out of: 492\n",
      "\n",
      "ILS finished in 8.90 seconds.\n",
      "Final best objective found by ILS: 1295549.34\n",
      "    Instance 1 Objective: 1295549.34\n",
      "  Running ILS on instance 2/7...\n",
      "\n",
      "ILS Iteration: 10 out of: 492\n",
      "\n",
      "ILS Iteration: 20 out of: 492\n",
      "\n",
      "ILS Iteration: 30 out of: 492\n",
      "\n",
      "ILS finished in 16.62 seconds.\n",
      "Final best objective found by ILS: 2310507.43\n",
      "    Instance 2 Objective: 2310507.43\n",
      "  Running ILS on instance 3/7...\n",
      "\n",
      "ILS Iteration: 10 out of: 492\n",
      "\n",
      "ILS Iteration: 20 out of: 492\n",
      "\n",
      "ILS Iteration: 30 out of: 492\n",
      "\n",
      "ILS finished in 28.39 seconds.\n",
      "Final best objective found by ILS: 2661252.61\n",
      "    Instance 3 Objective: 2661252.61\n",
      "  Running ILS on instance 4/7...\n",
      "\n",
      "ILS Iteration: 10 out of: 492\n",
      "\n",
      "ILS Iteration: 20 out of: 492\n",
      "\n",
      "ILS Iteration: 30 out of: 492\n",
      "\n",
      "ILS finished in 54.64 seconds.\n",
      "Final best objective found by ILS: 3457845.43\n",
      "    Instance 4 Objective: 3457845.43\n",
      "  Running ILS on instance 5/7...\n",
      "\n",
      "ILS Iteration: 10 out of: 492\n",
      "\n",
      "ILS Iteration: 20 out of: 492\n",
      "\n",
      "ILS Iteration: 30 out of: 492\n",
      "\n",
      "ILS finished in 113.48 seconds.\n",
      "Final best objective found by ILS: 3779940.44\n",
      "    Instance 5 Objective: 3779940.44\n",
      "  Running ILS on instance 6/7...\n",
      "\n",
      "ILS Iteration: 10 out of: 492\n",
      "\n",
      "ILS Iteration: 20 out of: 492\n",
      "\n",
      "ILS Iteration: 30 out of: 492\n",
      "\n",
      "ILS finished in 265.07 seconds.\n",
      "Final best objective found by ILS: 3914916.71\n",
      "    Instance 6 Objective: 3914916.71\n",
      "  Running ILS on instance 7/7...\n",
      "\n",
      "ILS Iteration: 10 out of: 492\n",
      "\n",
      "ILS Iteration: 20 out of: 492\n",
      "\n",
      "ILS Iteration: 30 out of: 492\n"
     ]
    },
    {
     "name": "stderr",
     "output_type": "stream",
     "text": [
      "[I 2025-05-31 18:56:05,434] Trial 13 finished with value: 3108296.2396939495 and parameters: {'MAX_ILS_ITERATIONS': 492, 'MAX_NO_IMPROVEMENT_ILS': 34, 'MAX_LS_ITERS_PER_CALL': 18, 'PERTURBATION_STRENGTH': 0.39678480649940007, 'INITIAL_HEURISTIC': 'sa_fcfs'}. Best is trial 10 with value: 3081301.0674915365.\n"
     ]
    },
    {
     "name": "stdout",
     "output_type": "stream",
     "text": [
      "\n",
      "ILS finished in 627.76 seconds.\n",
      "Final best objective found by ILS: 4338061.72\n",
      "    Instance 7 Objective: 4338061.72\n",
      "Optuna Trial 13: Average Objective across 7 instances: 3108296.24\n",
      "\n",
      "Optuna Trial 14: Params: MaxIter=327, NoImprove=32, LS_Iter=27, PerturbStr=0.10\n",
      "  Running ILS on instance 1/7...\n",
      "\n",
      "ILS Iteration: 10 out of: 327\n",
      "\n",
      "ILS Iteration: 20 out of: 327\n",
      "\n",
      "ILS Iteration: 30 out of: 327\n",
      "\n",
      "ILS Iteration: 40 out of: 327\n",
      "\n",
      "ILS finished in 14.55 seconds.\n",
      "Final best objective found by ILS: 1294536.17\n",
      "    Instance 1 Objective: 1294536.17\n",
      "  Running ILS on instance 2/7...\n",
      "\n",
      "ILS Iteration: 10 out of: 327\n",
      "\n",
      "ILS Iteration: 20 out of: 327\n",
      "\n",
      "ILS Iteration: 30 out of: 327\n",
      "\n",
      "ILS finished in 22.76 seconds.\n",
      "Final best objective found by ILS: 2246082.99\n",
      "    Instance 2 Objective: 2246082.99\n",
      "  Running ILS on instance 3/7...\n",
      "\n",
      "ILS Iteration: 10 out of: 327\n",
      "\n",
      "ILS Iteration: 20 out of: 327\n",
      "\n",
      "ILS Iteration: 30 out of: 327\n",
      "\n",
      "ILS finished in 31.20 seconds.\n",
      "Final best objective found by ILS: 2617190.42\n",
      "    Instance 3 Objective: 2617190.42\n",
      "  Running ILS on instance 4/7...\n",
      "\n",
      "ILS Iteration: 10 out of: 327\n",
      "\n",
      "ILS Iteration: 20 out of: 327\n",
      "\n",
      "ILS Iteration: 30 out of: 327\n",
      "\n",
      "ILS finished in 68.97 seconds.\n",
      "Final best objective found by ILS: 3395072.32\n",
      "    Instance 4 Objective: 3395072.32\n",
      "  Running ILS on instance 5/7...\n",
      "\n",
      "ILS Iteration: 10 out of: 327\n",
      "\n",
      "ILS Iteration: 20 out of: 327\n",
      "\n",
      "ILS Iteration: 30 out of: 327\n",
      "\n",
      "ILS Iteration: 40 out of: 327\n",
      "\n",
      "ILS finished in 239.92 seconds.\n",
      "Final best objective found by ILS: 3773705.40\n",
      "    Instance 5 Objective: 3773705.40\n",
      "  Running ILS on instance 6/7...\n",
      "\n",
      "ILS Iteration: 10 out of: 327\n",
      "\n",
      "ILS Iteration: 20 out of: 327\n",
      "\n",
      "ILS Iteration: 30 out of: 327\n",
      "\n",
      "ILS finished in 364.94 seconds.\n",
      "Final best objective found by ILS: 3913509.95\n",
      "    Instance 6 Objective: 3913509.95\n",
      "  Running ILS on instance 7/7...\n",
      "\n",
      "ILS Iteration: 10 out of: 327\n",
      "\n",
      "ILS Iteration: 20 out of: 327\n",
      "\n",
      "ILS Iteration: 30 out of: 327\n"
     ]
    },
    {
     "name": "stderr",
     "output_type": "stream",
     "text": [
      "[I 2025-05-31 19:30:28,563] Trial 14 finished with value: 3082594.138017155 and parameters: {'MAX_ILS_ITERATIONS': 327, 'MAX_NO_IMPROVEMENT_ILS': 32, 'MAX_LS_ITERS_PER_CALL': 27, 'PERTURBATION_STRENGTH': 0.10134559311467703, 'INITIAL_HEURISTIC': 'sa_fcfs'}. Best is trial 10 with value: 3081301.0674915365.\n"
     ]
    },
    {
     "name": "stdout",
     "output_type": "stream",
     "text": [
      "\n",
      "ILS finished in 1320.76 seconds.\n",
      "Final best objective found by ILS: 4338061.72\n",
      "    Instance 7 Objective: 4338061.72\n",
      "Optuna Trial 14: Average Objective across 7 instances: 3082594.14\n",
      "\n",
      "Optuna Trial 15: Params: MaxIter=435, NoImprove=13, LS_Iter=5, PerturbStr=0.16\n",
      "  Running ILS on instance 1/7...\n",
      "\n",
      "ILS Iteration: 10 out of: 435\n",
      "\n",
      "ILS finished in 2.31 seconds.\n",
      "Final best objective found by ILS: 1295549.34\n",
      "    Instance 1 Objective: 1295549.34\n",
      "  Running ILS on instance 2/7...\n",
      "\n",
      "ILS Iteration: 10 out of: 435\n",
      "\n",
      "ILS finished in 4.90 seconds.\n",
      "Final best objective found by ILS: 2254233.90\n",
      "    Instance 2 Objective: 2254233.90\n",
      "  Running ILS on instance 3/7...\n",
      "\n",
      "ILS Iteration: 10 out of: 435\n",
      "\n",
      "ILS finished in 9.72 seconds.\n",
      "Final best objective found by ILS: 2608591.01\n",
      "    Instance 3 Objective: 2608591.01\n",
      "  Running ILS on instance 4/7...\n",
      "\n",
      "ILS Iteration: 10 out of: 435\n",
      "\n",
      "ILS finished in 18.72 seconds.\n",
      "Final best objective found by ILS: 3333408.04\n",
      "    Instance 4 Objective: 3333408.04\n",
      "  Running ILS on instance 5/7...\n",
      "\n",
      "ILS Iteration: 10 out of: 435\n",
      "\n",
      "ILS Iteration: 20 out of: 435\n",
      "\n",
      "ILS finished in 51.89 seconds.\n",
      "Final best objective found by ILS: 3721644.16\n",
      "    Instance 5 Objective: 3721644.16\n",
      "  Running ILS on instance 6/7...\n",
      "\n",
      "ILS Iteration: 10 out of: 435\n",
      "\n",
      "ILS finished in 69.38 seconds.\n",
      "Final best objective found by ILS: 3914916.71\n",
      "    Instance 6 Objective: 3914916.71\n",
      "  Running ILS on instance 7/7...\n",
      "\n",
      "ILS Iteration: 10 out of: 435\n"
     ]
    },
    {
     "name": "stderr",
     "output_type": "stream",
     "text": [
      "[I 2025-05-31 19:36:05,601] Trial 15 finished with value: 3066629.268805873 and parameters: {'MAX_ILS_ITERATIONS': 435, 'MAX_NO_IMPROVEMENT_ILS': 13, 'MAX_LS_ITERS_PER_CALL': 5, 'PERTURBATION_STRENGTH': 0.15570058557209682, 'INITIAL_HEURISTIC': 'sa_fcfs'}. Best is trial 15 with value: 3066629.268805873.\n"
     ]
    },
    {
     "name": "stdout",
     "output_type": "stream",
     "text": [
      "\n",
      "ILS finished in 180.10 seconds.\n",
      "Final best objective found by ILS: 4338061.72\n",
      "    Instance 7 Objective: 4338061.72\n",
      "Optuna Trial 15: Average Objective across 7 instances: 3066629.27\n",
      "\n",
      "Optuna Trial 16: Params: MaxIter=419, NoImprove=14, LS_Iter=6, PerturbStr=0.21\n",
      "  Running ILS on instance 1/7...\n",
      "\n",
      "ILS Iteration: 10 out of: 419\n",
      "\n",
      "ILS finished in 2.74 seconds.\n",
      "Final best objective found by ILS: 1295549.34\n",
      "    Instance 1 Objective: 1295549.34\n",
      "  Running ILS on instance 2/7...\n",
      "\n",
      "ILS Iteration: 10 out of: 419\n",
      "\n",
      "ILS finished in 6.12 seconds.\n",
      "Final best objective found by ILS: 2262454.11\n",
      "    Instance 2 Objective: 2262454.11\n",
      "  Running ILS on instance 3/7...\n",
      "\n",
      "ILS Iteration: 10 out of: 419\n",
      "\n",
      "ILS finished in 8.11 seconds.\n",
      "Final best objective found by ILS: 2674602.73\n",
      "    Instance 3 Objective: 2674602.73\n",
      "  Running ILS on instance 4/7...\n",
      "\n",
      "ILS Iteration: 10 out of: 419\n",
      "\n",
      "ILS finished in 22.27 seconds.\n",
      "Final best objective found by ILS: 3349349.63\n",
      "    Instance 4 Objective: 3349349.63\n",
      "  Running ILS on instance 5/7...\n",
      "\n",
      "ILS Iteration: 10 out of: 419\n",
      "\n",
      "ILS finished in 35.71 seconds.\n",
      "Final best objective found by ILS: 3779940.44\n",
      "    Instance 5 Objective: 3779940.44\n",
      "  Running ILS on instance 6/7...\n",
      "\n",
      "ILS Iteration: 10 out of: 419\n",
      "\n",
      "ILS finished in 79.33 seconds.\n",
      "Final best objective found by ILS: 3914916.71\n",
      "    Instance 6 Objective: 3914916.71\n",
      "  Running ILS on instance 7/7...\n",
      "\n",
      "ILS Iteration: 10 out of: 419\n"
     ]
    },
    {
     "name": "stderr",
     "output_type": "stream",
     "text": [
      "[I 2025-05-31 19:42:06,667] Trial 16 finished with value: 3087839.240494675 and parameters: {'MAX_ILS_ITERATIONS': 419, 'MAX_NO_IMPROVEMENT_ILS': 14, 'MAX_LS_ITERS_PER_CALL': 6, 'PERTURBATION_STRENGTH': 0.21377681803248016, 'INITIAL_HEURISTIC': 'sa_fcfs'}. Best is trial 15 with value: 3066629.268805873.\n"
     ]
    },
    {
     "name": "stdout",
     "output_type": "stream",
     "text": [
      "\n",
      "ILS finished in 206.75 seconds.\n",
      "Final best objective found by ILS: 4338061.72\n",
      "    Instance 7 Objective: 4338061.72\n",
      "Optuna Trial 16: Average Objective across 7 instances: 3087839.24\n",
      "\n",
      "Optuna Trial 17: Params: MaxIter=315, NoImprove=8, LS_Iter=12, PerturbStr=0.16\n",
      "  Running ILS on instance 1/7...\n",
      "\n",
      "ILS finished in 1.99 seconds.\n",
      "Final best objective found by ILS: 1295549.34\n",
      "    Instance 1 Objective: 1295549.34\n",
      "  Running ILS on instance 2/7...\n",
      "\n",
      "ILS finished in 4.29 seconds.\n",
      "Final best objective found by ILS: 2260268.28\n",
      "    Instance 2 Objective: 2260268.28\n",
      "  Running ILS on instance 3/7...\n",
      "\n",
      "ILS Iteration: 10 out of: 315\n",
      "\n",
      "ILS finished in 8.71 seconds.\n",
      "Final best objective found by ILS: 2616129.04\n",
      "    Instance 3 Objective: 2616129.04\n",
      "  Running ILS on instance 4/7...\n",
      "\n",
      "ILS finished in 11.87 seconds.\n",
      "Final best objective found by ILS: 3457845.43\n",
      "    Instance 4 Objective: 3457845.43\n",
      "  Running ILS on instance 5/7...\n",
      "\n",
      "ILS finished in 27.64 seconds.\n",
      "Final best objective found by ILS: 3779940.44\n",
      "    Instance 5 Objective: 3779940.44\n",
      "  Running ILS on instance 6/7...\n",
      "\n",
      "ILS Iteration: 10 out of: 315\n",
      "\n",
      "ILS finished in 86.92 seconds.\n",
      "Final best objective found by ILS: 3904211.06\n",
      "    Instance 6 Objective: 3904211.06\n",
      "  Running ILS on instance 7/7...\n"
     ]
    },
    {
     "name": "stderr",
     "output_type": "stream",
     "text": [
      "[I 2025-05-31 19:47:36,869] Trial 17 finished with value: 3093143.6163679264 and parameters: {'MAX_ILS_ITERATIONS': 315, 'MAX_NO_IMPROVEMENT_ILS': 8, 'MAX_LS_ITERS_PER_CALL': 12, 'PERTURBATION_STRENGTH': 0.15736752874808826, 'INITIAL_HEURISTIC': 'sa_fcfs'}. Best is trial 15 with value: 3066629.268805873.\n"
     ]
    },
    {
     "name": "stdout",
     "output_type": "stream",
     "text": [
      "\n",
      "ILS finished in 188.76 seconds.\n",
      "Final best objective found by ILS: 4338061.72\n",
      "    Instance 7 Objective: 4338061.72\n",
      "Optuna Trial 17: Average Objective across 7 instances: 3093143.62\n",
      "\n",
      "Optuna Trial 18: Params: MaxIter=384, NoImprove=17, LS_Iter=11, PerturbStr=0.22\n",
      "  Running ILS on instance 1/7...\n",
      "\n",
      "ILS Iteration: 10 out of: 384\n",
      "\n",
      "ILS finished in 3.84 seconds.\n",
      "Final best objective found by ILS: 1295549.34\n",
      "    Instance 1 Objective: 1295549.34\n",
      "  Running ILS on instance 2/7...\n",
      "\n",
      "ILS Iteration: 10 out of: 384\n",
      "\n",
      "ILS finished in 8.57 seconds.\n",
      "Final best objective found by ILS: 2287221.97\n",
      "    Instance 2 Objective: 2287221.97\n",
      "  Running ILS on instance 3/7...\n",
      "\n",
      "ILS Iteration: 10 out of: 384\n",
      "\n",
      "ILS Iteration: 20 out of: 384\n",
      "\n",
      "ILS finished in 15.04 seconds.\n",
      "Final best objective found by ILS: 2657052.51\n",
      "    Instance 3 Objective: 2657052.51\n",
      "  Running ILS on instance 4/7...\n",
      "\n",
      "ILS Iteration: 10 out of: 384\n",
      "\n",
      "ILS finished in 24.62 seconds.\n",
      "Final best objective found by ILS: 3457845.43\n",
      "    Instance 4 Objective: 3457845.43\n",
      "  Running ILS on instance 5/7...\n",
      "\n",
      "ILS Iteration: 10 out of: 384\n",
      "\n",
      "ILS finished in 53.20 seconds.\n",
      "Final best objective found by ILS: 3779940.44\n",
      "    Instance 5 Objective: 3779940.44\n",
      "  Running ILS on instance 6/7...\n",
      "\n",
      "ILS Iteration: 10 out of: 384\n",
      "\n",
      "ILS finished in 128.08 seconds.\n",
      "Final best objective found by ILS: 3914916.71\n",
      "    Instance 6 Objective: 3914916.71\n",
      "  Running ILS on instance 7/7...\n",
      "\n",
      "ILS Iteration: 10 out of: 384\n"
     ]
    },
    {
     "name": "stderr",
     "output_type": "stream",
     "text": [
      "[I 2025-05-31 19:56:59,811] Trial 18 finished with value: 3104369.7312309477 and parameters: {'MAX_ILS_ITERATIONS': 384, 'MAX_NO_IMPROVEMENT_ILS': 17, 'MAX_LS_ITERS_PER_CALL': 11, 'PERTURBATION_STRENGTH': 0.22350543390336863, 'INITIAL_HEURISTIC': 'sa_fcfs'}. Best is trial 15 with value: 3066629.268805873.\n"
     ]
    },
    {
     "name": "stdout",
     "output_type": "stream",
     "text": [
      "\n",
      "ILS finished in 329.56 seconds.\n",
      "Final best objective found by ILS: 4338061.72\n",
      "    Instance 7 Objective: 4338061.72\n",
      "Optuna Trial 18: Average Objective across 7 instances: 3104369.73\n",
      "\n",
      "Optuna Trial 19: Params: MaxIter=447, NoImprove=3, LS_Iter=15, PerturbStr=0.16\n",
      "  Running ILS on instance 1/7...\n",
      "\n",
      "ILS finished in 1.02 seconds.\n",
      "Final best objective found by ILS: 1295549.34\n",
      "    Instance 1 Objective: 1295549.34\n",
      "  Running ILS on instance 2/7...\n",
      "\n",
      "ILS finished in 2.41 seconds.\n",
      "Final best objective found by ILS: 2273914.64\n",
      "    Instance 2 Objective: 2273914.64\n",
      "  Running ILS on instance 3/7...\n",
      "\n",
      "ILS finished in 2.71 seconds.\n",
      "Final best objective found by ILS: 2674602.73\n",
      "    Instance 3 Objective: 2674602.73\n",
      "  Running ILS on instance 4/7...\n",
      "\n",
      "ILS finished in 5.71 seconds.\n",
      "Final best objective found by ILS: 3457845.43\n",
      "    Instance 4 Objective: 3457845.43\n",
      "  Running ILS on instance 5/7...\n",
      "\n",
      "ILS finished in 13.67 seconds.\n",
      "Final best objective found by ILS: 3779940.44\n",
      "    Instance 5 Objective: 3779940.44\n",
      "  Running ILS on instance 6/7...\n",
      "\n",
      "ILS finished in 34.63 seconds.\n",
      "Final best objective found by ILS: 3914916.71\n",
      "    Instance 6 Objective: 3914916.71\n",
      "  Running ILS on instance 7/7...\n"
     ]
    },
    {
     "name": "stderr",
     "output_type": "stream",
     "text": [
      "[I 2025-05-31 19:59:42,653] Trial 19 finished with value: 3104975.858866107 and parameters: {'MAX_ILS_ITERATIONS': 447, 'MAX_NO_IMPROVEMENT_ILS': 3, 'MAX_LS_ITERS_PER_CALL': 15, 'PERTURBATION_STRENGTH': 0.1649567039702099, 'INITIAL_HEURISTIC': 'sa_fcfs'}. Best is trial 15 with value: 3066629.268805873.\n"
     ]
    },
    {
     "name": "stdout",
     "output_type": "stream",
     "text": [
      "\n",
      "ILS finished in 102.64 seconds.\n",
      "Final best objective found by ILS: 4338061.72\n",
      "    Instance 7 Objective: 4338061.72\n",
      "Optuna Trial 19: Average Objective across 7 instances: 3104975.86\n",
      "\n",
      "Optuna Trial 20: Params: MaxIter=285, NoImprove=22, LS_Iter=5, PerturbStr=0.11\n",
      "  Running ILS on instance 1/7...\n",
      "\n",
      "ILS Iteration: 10 out of: 285\n",
      "\n",
      "ILS Iteration: 20 out of: 285\n",
      "\n",
      "ILS finished in 3.91 seconds.\n",
      "Final best objective found by ILS: 1295549.34\n",
      "    Instance 1 Objective: 1295549.34\n",
      "  Running ILS on instance 2/7...\n",
      "\n",
      "ILS Iteration: 10 out of: 285\n",
      "\n",
      "ILS Iteration: 20 out of: 285\n",
      "\n",
      "ILS finished in 8.77 seconds.\n",
      "Final best objective found by ILS: 2286859.73\n",
      "    Instance 2 Objective: 2286859.73\n",
      "  Running ILS on instance 3/7...\n",
      "\n",
      "ILS Iteration: 10 out of: 285\n",
      "\n",
      "ILS Iteration: 20 out of: 285\n",
      "\n",
      "ILS finished in 14.04 seconds.\n",
      "Final best objective found by ILS: 2569454.63\n",
      "    Instance 3 Objective: 2569454.63\n",
      "  Running ILS on instance 4/7...\n",
      "\n",
      "ILS Iteration: 10 out of: 285\n",
      "\n",
      "ILS Iteration: 20 out of: 285\n",
      "\n",
      "ILS finished in 34.37 seconds.\n",
      "Final best objective found by ILS: 3418125.09\n",
      "    Instance 4 Objective: 3418125.09\n",
      "  Running ILS on instance 5/7...\n",
      "\n",
      "ILS Iteration: 10 out of: 285\n",
      "\n",
      "ILS Iteration: 20 out of: 285\n",
      "\n",
      "ILS finished in 53.64 seconds.\n",
      "Final best objective found by ILS: 3774629.10\n",
      "    Instance 5 Objective: 3774629.10\n",
      "  Running ILS on instance 6/7...\n",
      "\n",
      "ILS Iteration: 10 out of: 285\n",
      "\n",
      "ILS Iteration: 20 out of: 285\n",
      "\n",
      "ILS finished in 145.86 seconds.\n",
      "Final best objective found by ILS: 3878362.31\n",
      "    Instance 6 Objective: 3878362.31\n",
      "  Running ILS on instance 7/7...\n",
      "\n",
      "ILS Iteration: 10 out of: 285\n",
      "\n",
      "ILS Iteration: 20 out of: 285\n"
     ]
    },
    {
     "name": "stderr",
     "output_type": "stream",
     "text": [
      "[I 2025-05-31 20:09:15,715] Trial 20 finished with value: 3080148.8462157473 and parameters: {'MAX_ILS_ITERATIONS': 285, 'MAX_NO_IMPROVEMENT_ILS': 22, 'MAX_LS_ITERS_PER_CALL': 5, 'PERTURBATION_STRENGTH': 0.10590227413641026, 'INITIAL_HEURISTIC': 'sa_fcfs'}. Best is trial 15 with value: 3066629.268805873.\n"
     ]
    },
    {
     "name": "stdout",
     "output_type": "stream",
     "text": [
      "\n",
      "ILS finished in 312.45 seconds.\n",
      "Final best objective found by ILS: 4338061.72\n",
      "    Instance 7 Objective: 4338061.72\n",
      "Optuna Trial 20: Average Objective across 7 instances: 3080148.85\n",
      "\n",
      "Optuna Trial 21: Params: MaxIter=291, NoImprove=23, LS_Iter=5, PerturbStr=0.10\n",
      "  Running ILS on instance 1/7...\n",
      "\n",
      "ILS Iteration: 10 out of: 291\n",
      "\n",
      "ILS Iteration: 20 out of: 291\n",
      "\n",
      "ILS Iteration: 30 out of: 291\n",
      "\n",
      "ILS Iteration: 40 out of: 291\n",
      "\n",
      "ILS Iteration: 50 out of: 291\n",
      "\n",
      "ILS finished in 9.52 seconds.\n",
      "Final best objective found by ILS: 1291091.23\n",
      "    Instance 1 Objective: 1291091.23\n",
      "  Running ILS on instance 2/7...\n",
      "\n",
      "ILS Iteration: 10 out of: 291\n",
      "\n",
      "ILS Iteration: 20 out of: 291\n",
      "\n",
      "ILS finished in 10.44 seconds.\n",
      "Final best objective found by ILS: 2266825.33\n",
      "    Instance 2 Objective: 2266825.33\n",
      "  Running ILS on instance 3/7...\n",
      "\n",
      "ILS Iteration: 10 out of: 291\n",
      "\n",
      "ILS Iteration: 20 out of: 291\n",
      "\n",
      "ILS finished in 15.88 seconds.\n",
      "Final best objective found by ILS: 2650949.17\n",
      "    Instance 3 Objective: 2650949.17\n",
      "  Running ILS on instance 4/7...\n",
      "\n",
      "ILS Iteration: 10 out of: 291\n",
      "\n",
      "ILS Iteration: 20 out of: 291\n",
      "\n",
      "ILS finished in 33.21 seconds.\n",
      "Final best objective found by ILS: 3452306.43\n",
      "    Instance 4 Objective: 3452306.43\n",
      "  Running ILS on instance 5/7...\n",
      "\n",
      "ILS Iteration: 10 out of: 291\n",
      "\n",
      "ILS Iteration: 20 out of: 291\n",
      "\n",
      "ILS finished in 61.85 seconds.\n",
      "Final best objective found by ILS: 3777285.97\n",
      "    Instance 5 Objective: 3777285.97\n",
      "  Running ILS on instance 6/7...\n",
      "\n",
      "ILS Iteration: 10 out of: 291\n",
      "\n",
      "ILS Iteration: 20 out of: 291\n",
      "\n",
      "ILS finished in 146.83 seconds.\n",
      "Final best objective found by ILS: 3902375.32\n",
      "    Instance 6 Objective: 3902375.32\n",
      "  Running ILS on instance 7/7...\n",
      "\n",
      "ILS Iteration: 10 out of: 291\n",
      "\n",
      "ILS Iteration: 20 out of: 291\n"
     ]
    },
    {
     "name": "stderr",
     "output_type": "stream",
     "text": [
      "[I 2025-05-31 20:19:20,940] Trial 21 finished with value: 3096985.0250192615 and parameters: {'MAX_ILS_ITERATIONS': 291, 'MAX_NO_IMPROVEMENT_ILS': 23, 'MAX_LS_ITERS_PER_CALL': 5, 'PERTURBATION_STRENGTH': 0.1015344602723092, 'INITIAL_HEURISTIC': 'sa_fcfs'}. Best is trial 15 with value: 3066629.268805873.\n"
     ]
    },
    {
     "name": "stdout",
     "output_type": "stream",
     "text": [
      "\n",
      "ILS finished in 327.47 seconds.\n",
      "Final best objective found by ILS: 4338061.72\n",
      "    Instance 7 Objective: 4338061.72\n",
      "Optuna Trial 21: Average Objective across 7 instances: 3096985.03\n",
      "\n",
      "Optuna Trial 22: Params: MaxIter=346, NoImprove=12, LS_Iter=9, PerturbStr=0.14\n",
      "  Running ILS on instance 1/7...\n",
      "\n",
      "ILS Iteration: 10 out of: 346\n",
      "\n",
      "ILS Iteration: 20 out of: 346\n",
      "\n",
      "ILS finished in 4.98 seconds.\n",
      "Final best objective found by ILS: 1292875.49\n",
      "    Instance 1 Objective: 1292875.49\n",
      "  Running ILS on instance 2/7...\n",
      "\n",
      "ILS Iteration: 10 out of: 346\n",
      "\n",
      "ILS finished in 6.15 seconds.\n",
      "Final best objective found by ILS: 2237937.26\n",
      "    Instance 2 Objective: 2237937.26\n",
      "  Running ILS on instance 3/7...\n",
      "\n",
      "ILS Iteration: 10 out of: 346\n",
      "\n",
      "ILS finished in 10.93 seconds.\n",
      "Final best objective found by ILS: 2669708.60\n",
      "    Instance 3 Objective: 2669708.60\n",
      "  Running ILS on instance 4/7...\n",
      "\n",
      "ILS Iteration: 10 out of: 346\n",
      "\n",
      "ILS finished in 16.36 seconds.\n",
      "Final best objective found by ILS: 3457845.43\n",
      "    Instance 4 Objective: 3457845.43\n",
      "  Running ILS on instance 5/7...\n",
      "\n",
      "ILS Iteration: 10 out of: 346\n",
      "\n",
      "ILS finished in 37.89 seconds.\n",
      "Final best objective found by ILS: 3779940.44\n",
      "    Instance 5 Objective: 3779940.44\n",
      "  Running ILS on instance 6/7...\n",
      "\n",
      "ILS Iteration: 10 out of: 346\n",
      "\n",
      "ILS Iteration: 20 out of: 346\n",
      "\n",
      "ILS finished in 144.22 seconds.\n",
      "Final best objective found by ILS: 3860356.94\n",
      "    Instance 6 Objective: 3860356.94\n",
      "  Running ILS on instance 7/7...\n",
      "\n",
      "ILS Iteration: 10 out of: 346\n"
     ]
    },
    {
     "name": "stderr",
     "output_type": "stream",
     "text": [
      "[I 2025-05-31 20:26:52,908] Trial 22 finished with value: 3090960.841943893 and parameters: {'MAX_ILS_ITERATIONS': 346, 'MAX_NO_IMPROVEMENT_ILS': 12, 'MAX_LS_ITERS_PER_CALL': 9, 'PERTURBATION_STRENGTH': 0.13681108014166607, 'INITIAL_HEURISTIC': 'sa_fcfs'}. Best is trial 15 with value: 3066629.268805873.\n"
     ]
    },
    {
     "name": "stdout",
     "output_type": "stream",
     "text": [
      "\n",
      "ILS finished in 231.42 seconds.\n",
      "Final best objective found by ILS: 4338061.72\n",
      "    Instance 7 Objective: 4338061.72\n",
      "Optuna Trial 22: Average Objective across 7 instances: 3090960.84\n",
      "\n",
      "Optuna Trial 23: Params: MaxIter=451, NoImprove=29, LS_Iter=5, PerturbStr=0.21\n",
      "  Running ILS on instance 1/7...\n",
      "\n",
      "ILS Iteration: 10 out of: 451\n",
      "\n",
      "ILS Iteration: 20 out of: 451\n",
      "\n",
      "ILS finished in 5.57 seconds.\n",
      "Final best objective found by ILS: 1295549.34\n",
      "    Instance 1 Objective: 1295549.34\n",
      "  Running ILS on instance 2/7...\n",
      "\n",
      "ILS Iteration: 10 out of: 451\n",
      "\n",
      "ILS Iteration: 20 out of: 451\n",
      "\n",
      "ILS Iteration: 30 out of: 451\n",
      "\n",
      "ILS finished in 11.32 seconds.\n",
      "Final best objective found by ILS: 2297045.16\n",
      "    Instance 2 Objective: 2297045.16\n",
      "  Running ILS on instance 3/7...\n",
      "\n",
      "ILS Iteration: 10 out of: 451\n",
      "\n",
      "ILS Iteration: 20 out of: 451\n",
      "\n",
      "ILS Iteration: 30 out of: 451\n",
      "\n",
      "ILS finished in 18.74 seconds.\n",
      "Final best objective found by ILS: 2609470.37\n",
      "    Instance 3 Objective: 2609470.37\n",
      "  Running ILS on instance 4/7...\n",
      "\n",
      "ILS Iteration: 10 out of: 451\n",
      "\n",
      "ILS Iteration: 20 out of: 451\n",
      "\n",
      "ILS Iteration: 30 out of: 451\n",
      "\n",
      "ILS finished in 38.74 seconds.\n",
      "Final best objective found by ILS: 3440450.21\n",
      "    Instance 4 Objective: 3440450.21\n",
      "  Running ILS on instance 5/7...\n",
      "\n",
      "ILS Iteration: 10 out of: 451\n",
      "\n",
      "ILS Iteration: 20 out of: 451\n",
      "\n",
      "ILS Iteration: 30 out of: 451\n",
      "\n",
      "ILS Iteration: 40 out of: 451\n",
      "\n",
      "ILS Iteration: 50 out of: 451\n",
      "\n",
      "ILS finished in 123.62 seconds.\n",
      "Final best objective found by ILS: 3751106.65\n",
      "    Instance 5 Objective: 3751106.65\n",
      "  Running ILS on instance 6/7...\n",
      "\n",
      "ILS Iteration: 10 out of: 451\n",
      "\n",
      "ILS Iteration: 20 out of: 451\n",
      "\n",
      "ILS finished in 147.30 seconds.\n",
      "Final best objective found by ILS: 3914916.71\n",
      "    Instance 6 Objective: 3914916.71\n",
      "  Running ILS on instance 7/7...\n",
      "\n",
      "ILS Iteration: 10 out of: 451\n",
      "\n",
      "ILS Iteration: 20 out of: 451\n"
     ]
    },
    {
     "name": "stderr",
     "output_type": "stream",
     "text": [
      "[I 2025-05-31 20:38:51,833] Trial 23 finished with value: 3092371.452112038 and parameters: {'MAX_ILS_ITERATIONS': 451, 'MAX_NO_IMPROVEMENT_ILS': 29, 'MAX_LS_ITERS_PER_CALL': 5, 'PERTURBATION_STRENGTH': 0.20724014858307882, 'INITIAL_HEURISTIC': 'sa_fcfs'}. Best is trial 15 with value: 3066629.268805873.\n"
     ]
    },
    {
     "name": "stdout",
     "output_type": "stream",
     "text": [
      "\n",
      "ILS finished in 373.62 seconds.\n",
      "Final best objective found by ILS: 4338061.72\n",
      "    Instance 7 Objective: 4338061.72\n",
      "Optuna Trial 23: Average Objective across 7 instances: 3092371.45\n",
      "\n",
      "Optuna Trial 24: Params: MaxIter=373, NoImprove=19, LS_Iter=20, PerturbStr=0.15\n",
      "  Running ILS on instance 1/7...\n",
      "\n",
      "ILS Iteration: 10 out of: 373\n",
      "\n",
      "ILS finished in 5.51 seconds.\n",
      "Final best objective found by ILS: 1295549.34\n",
      "    Instance 1 Objective: 1295549.34\n",
      "  Running ILS on instance 2/7...\n",
      "\n",
      "ILS Iteration: 10 out of: 373\n",
      "\n",
      "ILS finished in 10.79 seconds.\n",
      "Final best objective found by ILS: 2268768.21\n",
      "    Instance 2 Objective: 2268768.21\n",
      "  Running ILS on instance 3/7...\n",
      "\n",
      "ILS Iteration: 10 out of: 373\n",
      "\n",
      "ILS Iteration: 20 out of: 373\n",
      "\n",
      "ILS finished in 18.68 seconds.\n",
      "Final best objective found by ILS: 2576232.42\n",
      "    Instance 3 Objective: 2576232.42\n",
      "  Running ILS on instance 4/7...\n",
      "\n",
      "ILS Iteration: 10 out of: 373\n",
      "\n",
      "ILS Iteration: 20 out of: 373\n",
      "\n",
      "ILS finished in 52.83 seconds.\n",
      "Final best objective found by ILS: 3418838.29\n",
      "    Instance 4 Objective: 3418838.29\n",
      "  Running ILS on instance 5/7...\n",
      "\n",
      "ILS Iteration: 10 out of: 373\n",
      "\n",
      "ILS Iteration: 20 out of: 373\n",
      "\n",
      "ILS Iteration: 30 out of: 373\n",
      "\n",
      "ILS finished in 152.69 seconds.\n",
      "Final best objective found by ILS: 3764821.85\n",
      "    Instance 5 Objective: 3764821.85\n",
      "  Running ILS on instance 6/7...\n",
      "\n",
      "ILS Iteration: 10 out of: 373\n",
      "\n",
      "ILS Iteration: 20 out of: 373\n",
      "\n",
      "ILS finished in 280.35 seconds.\n",
      "Final best objective found by ILS: 3873125.10\n",
      "    Instance 6 Objective: 3873125.10\n",
      "  Running ILS on instance 7/7...\n",
      "\n",
      "ILS Iteration: 10 out of: 373\n"
     ]
    },
    {
     "name": "stderr",
     "output_type": "stream",
     "text": [
      "[I 2025-05-31 20:57:55,216] Trial 24 finished with value: 3076485.2770566726 and parameters: {'MAX_ILS_ITERATIONS': 373, 'MAX_NO_IMPROVEMENT_ILS': 19, 'MAX_LS_ITERS_PER_CALL': 20, 'PERTURBATION_STRENGTH': 0.1527763201377205, 'INITIAL_HEURISTIC': 'sa_fcfs'}. Best is trial 15 with value: 3066629.268805873.\n"
     ]
    },
    {
     "name": "stdout",
     "output_type": "stream",
     "text": [
      "\n",
      "ILS finished in 622.52 seconds.\n",
      "Final best objective found by ILS: 4338061.72\n",
      "    Instance 7 Objective: 4338061.72\n",
      "Optuna Trial 24: Average Objective across 7 instances: 3076485.28\n",
      "\n",
      "Optuna Trial 25: Params: MaxIter=368, NoImprove=20, LS_Iter=23, PerturbStr=0.12\n",
      "  Running ILS on instance 1/7...\n",
      "\n",
      "ILS Iteration: 10 out of: 368\n",
      "\n",
      "ILS finished in 5.98 seconds.\n",
      "Final best objective found by ILS: 1295549.34\n",
      "    Instance 1 Objective: 1295549.34\n",
      "  Running ILS on instance 2/7...\n",
      "\n",
      "ILS Iteration: 10 out of: 368\n",
      "\n",
      "ILS Iteration: 20 out of: 368\n",
      "\n",
      "ILS finished in 13.42 seconds.\n",
      "Final best objective found by ILS: 2308588.60\n",
      "    Instance 2 Objective: 2308588.60\n",
      "  Running ILS on instance 3/7...\n",
      "\n",
      "ILS Iteration: 10 out of: 368\n",
      "\n",
      "ILS Iteration: 20 out of: 368\n",
      "\n",
      "ILS Iteration: 30 out of: 368\n",
      "\n",
      "ILS finished in 30.50 seconds.\n",
      "Final best objective found by ILS: 2622080.92\n",
      "    Instance 3 Objective: 2622080.92\n",
      "  Running ILS on instance 4/7...\n",
      "\n",
      "ILS Iteration: 10 out of: 368\n",
      "\n",
      "ILS Iteration: 20 out of: 368\n",
      "\n",
      "ILS finished in 44.76 seconds.\n",
      "Final best objective found by ILS: 3438613.49\n",
      "    Instance 4 Objective: 3438613.49\n",
      "  Running ILS on instance 5/7...\n",
      "\n",
      "ILS Iteration: 10 out of: 368\n",
      "\n",
      "ILS Iteration: 20 out of: 368\n",
      "\n",
      "ILS Iteration: 30 out of: 368\n",
      "\n",
      "ILS finished in 145.87 seconds.\n",
      "Final best objective found by ILS: 3696424.92\n",
      "    Instance 5 Objective: 3696424.92\n",
      "  Running ILS on instance 6/7...\n",
      "\n",
      "ILS Iteration: 10 out of: 368\n",
      "\n",
      "ILS finished in 256.16 seconds.\n",
      "Final best objective found by ILS: 3914916.71\n",
      "    Instance 6 Objective: 3914916.71\n",
      "  Running ILS on instance 7/7...\n",
      "\n",
      "ILS Iteration: 10 out of: 368\n"
     ]
    },
    {
     "name": "stderr",
     "output_type": "stream",
     "text": [
      "[I 2025-05-31 21:18:34,498] Trial 25 finished with value: 3087747.9579131156 and parameters: {'MAX_ILS_ITERATIONS': 368, 'MAX_NO_IMPROVEMENT_ILS': 20, 'MAX_LS_ITERS_PER_CALL': 23, 'PERTURBATION_STRENGTH': 0.11598033696262101, 'INITIAL_HEURISTIC': 'sa_fcfs'}. Best is trial 15 with value: 3066629.268805873.\n"
     ]
    },
    {
     "name": "stdout",
     "output_type": "stream",
     "text": [
      "\n",
      "ILS finished in 742.54 seconds.\n",
      "Final best objective found by ILS: 4338061.72\n",
      "    Instance 7 Objective: 4338061.72\n",
      "Optuna Trial 25: Average Objective across 7 instances: 3087747.96\n",
      "\n",
      "Optuna Trial 26: Params: MaxIter=280, NoImprove=15, LS_Iter=9, PerturbStr=0.15\n",
      "  Running ILS on instance 1/7...\n",
      "\n",
      "ILS Iteration: 10 out of: 280\n",
      "\n",
      "ILS finished in 3.28 seconds.\n",
      "Final best objective found by ILS: 1307521.04\n",
      "    Instance 1 Objective: 1307521.04\n",
      "  Running ILS on instance 2/7...\n",
      "\n",
      "ILS Iteration: 10 out of: 280\n",
      "\n",
      "ILS finished in 7.00 seconds.\n",
      "Final best objective found by ILS: 2435975.14\n",
      "    Instance 2 Objective: 2435975.14\n",
      "  Running ILS on instance 3/7...\n",
      "\n",
      "ILS Iteration: 10 out of: 280\n",
      "\n",
      "ILS finished in 9.65 seconds.\n",
      "Final best objective found by ILS: 2775390.37\n",
      "    Instance 3 Objective: 2775390.37\n",
      "  Running ILS on instance 4/7...\n",
      "\n",
      "ILS Iteration: 10 out of: 280\n",
      "\n",
      "ILS Iteration: 20 out of: 280\n",
      "\n",
      "ILS finished in 23.65 seconds.\n",
      "Final best objective found by ILS: 4058861.10\n",
      "    Instance 4 Objective: 4058861.10\n",
      "  Running ILS on instance 5/7...\n",
      "\n",
      "ILS Iteration: 10 out of: 280\n",
      "\n",
      "ILS finished in 45.26 seconds.\n",
      "Final best objective found by ILS: 3867323.07\n",
      "    Instance 5 Objective: 3867323.07\n",
      "  Running ILS on instance 6/7...\n",
      "\n",
      "ILS Iteration: 10 out of: 280\n",
      "\n",
      "ILS finished in 99.95 seconds.\n",
      "Final best objective found by ILS: 4259682.60\n",
      "    Instance 6 Objective: 4259682.60\n",
      "  Running ILS on instance 7/7...\n",
      "\n",
      "ILS Iteration: 10 out of: 280\n"
     ]
    },
    {
     "name": "stderr",
     "output_type": "stream",
     "text": [
      "[I 2025-05-31 21:25:25,438] Trial 26 finished with value: 3423017.560417303 and parameters: {'MAX_ILS_ITERATIONS': 280, 'MAX_NO_IMPROVEMENT_ILS': 15, 'MAX_LS_ITERS_PER_CALL': 9, 'PERTURBATION_STRENGTH': 0.1517873929775107, 'INITIAL_HEURISTIC': 'pa_edf'}. Best is trial 15 with value: 3066629.268805873.\n"
     ]
    },
    {
     "name": "stdout",
     "output_type": "stream",
     "text": [
      "\n",
      "ILS finished in 222.12 seconds.\n",
      "Final best objective found by ILS: 5256369.61\n",
      "    Instance 7 Objective: 5256369.61\n",
      "Optuna Trial 26: Average Objective across 7 instances: 3423017.56\n",
      "\n",
      "Optuna Trial 27: Params: MaxIter=247, NoImprove=11, LS_Iter=20, PerturbStr=0.16\n",
      "  Running ILS on instance 1/7...\n",
      "\n",
      "ILS Iteration: 10 out of: 247\n",
      "\n",
      "ILS finished in 3.36 seconds.\n",
      "Final best objective found by ILS: 1295549.34\n",
      "    Instance 1 Objective: 1295549.34\n",
      "  Running ILS on instance 2/7...\n",
      "\n",
      "ILS Iteration: 10 out of: 247\n",
      "\n",
      "ILS finished in 7.66 seconds.\n",
      "Final best objective found by ILS: 2282195.40\n",
      "    Instance 2 Objective: 2282195.40\n",
      "  Running ILS on instance 3/7...\n",
      "\n",
      "ILS Iteration: 10 out of: 247\n",
      "\n",
      "ILS finished in 12.47 seconds.\n",
      "Final best objective found by ILS: 2672268.08\n",
      "    Instance 3 Objective: 2672268.08\n",
      "  Running ILS on instance 4/7...\n",
      "\n",
      "ILS Iteration: 10 out of: 247\n",
      "\n",
      "ILS finished in 22.54 seconds.\n",
      "Final best objective found by ILS: 3445790.49\n",
      "    Instance 4 Objective: 3445790.49\n",
      "  Running ILS on instance 5/7...\n",
      "\n",
      "ILS Iteration: 10 out of: 247\n",
      "\n",
      "ILS finished in 49.37 seconds.\n",
      "Final best objective found by ILS: 3779940.44\n",
      "    Instance 5 Objective: 3779940.44\n",
      "  Running ILS on instance 6/7...\n",
      "\n",
      "ILS Iteration: 10 out of: 247\n",
      "\n",
      "ILS finished in 120.43 seconds.\n",
      "Final best objective found by ILS: 3914916.71\n",
      "    Instance 6 Objective: 3914916.71\n",
      "  Running ILS on instance 7/7...\n",
      "\n",
      "ILS Iteration: 10 out of: 247\n"
     ]
    },
    {
     "name": "stderr",
     "output_type": "stream",
     "text": [
      "[I 2025-05-31 21:35:04,693] Trial 27 finished with value: 3104103.169468374 and parameters: {'MAX_ILS_ITERATIONS': 247, 'MAX_NO_IMPROVEMENT_ILS': 11, 'MAX_LS_ITERS_PER_CALL': 20, 'PERTURBATION_STRENGTH': 0.15898833517260635, 'INITIAL_HEURISTIC': 'sa_fcfs'}. Best is trial 15 with value: 3066629.268805873.\n"
     ]
    },
    {
     "name": "stdout",
     "output_type": "stream",
     "text": [
      "\n",
      "ILS finished in 363.42 seconds.\n",
      "Final best objective found by ILS: 4338061.72\n",
      "    Instance 7 Objective: 4338061.72\n",
      "Optuna Trial 27: Average Objective across 7 instances: 3104103.17\n",
      "\n",
      "Optuna Trial 28: Params: MaxIter=430, NoImprove=6, LS_Iter=14, PerturbStr=0.11\n",
      "  Running ILS on instance 1/7...\n",
      "\n",
      "ILS finished in 1.60 seconds.\n",
      "Final best objective found by ILS: 1295549.34\n",
      "    Instance 1 Objective: 1295549.34\n",
      "  Running ILS on instance 2/7...\n",
      "\n",
      "ILS finished in 3.88 seconds.\n",
      "Final best objective found by ILS: 2280313.71\n",
      "    Instance 2 Objective: 2280313.71\n",
      "  Running ILS on instance 3/7...\n",
      "\n",
      "ILS finished in 7.73 seconds.\n",
      "Final best objective found by ILS: 2571508.45\n",
      "    Instance 3 Objective: 2571508.45\n",
      "  Running ILS on instance 4/7...\n",
      "\n",
      "ILS finished in 10.21 seconds.\n",
      "Final best objective found by ILS: 3457845.43\n",
      "    Instance 4 Objective: 3457845.43\n",
      "  Running ILS on instance 5/7...\n",
      "\n",
      "ILS finished in 23.96 seconds.\n",
      "Final best objective found by ILS: 3779940.44\n",
      "    Instance 5 Objective: 3779940.44\n",
      "  Running ILS on instance 6/7...\n",
      "\n",
      "ILS finished in 62.49 seconds.\n",
      "Final best objective found by ILS: 3914916.71\n",
      "    Instance 6 Objective: 3914916.71\n",
      "  Running ILS on instance 7/7...\n"
     ]
    },
    {
     "name": "stderr",
     "output_type": "stream",
     "text": [
      "[I 2025-05-31 21:39:52,015] Trial 28 finished with value: 3091162.257106662 and parameters: {'MAX_ILS_ITERATIONS': 430, 'MAX_NO_IMPROVEMENT_ILS': 6, 'MAX_LS_ITERS_PER_CALL': 14, 'PERTURBATION_STRENGTH': 0.11286454729057002, 'INITIAL_HEURISTIC': 'sa_fcfs'}. Best is trial 15 with value: 3066629.268805873.\n"
     ]
    },
    {
     "name": "stdout",
     "output_type": "stream",
     "text": [
      "\n",
      "ILS finished in 177.43 seconds.\n",
      "Final best objective found by ILS: 4338061.72\n",
      "    Instance 7 Objective: 4338061.72\n",
      "Optuna Trial 28: Average Objective across 7 instances: 3091162.26\n",
      "\n",
      "Optuna Trial 29: Params: MaxIter=391, NoImprove=2, LS_Iter=40, PerturbStr=0.26\n",
      "  Running ILS on instance 1/7...\n",
      "\n",
      "ILS finished in 0.95 seconds.\n",
      "Final best objective found by ILS: 1307521.04\n",
      "    Instance 1 Objective: 1307521.04\n",
      "  Running ILS on instance 2/7...\n",
      "\n",
      "ILS finished in 1.86 seconds.\n",
      "Final best objective found by ILS: 2466673.06\n",
      "    Instance 2 Objective: 2466673.06\n",
      "  Running ILS on instance 3/7...\n",
      "\n",
      "ILS finished in 3.37 seconds.\n",
      "Final best objective found by ILS: 2724364.84\n",
      "    Instance 3 Objective: 2724364.84\n",
      "  Running ILS on instance 4/7...\n",
      "\n",
      "ILS finished in 6.04 seconds.\n",
      "Final best objective found by ILS: 4019842.28\n",
      "    Instance 4 Objective: 4019842.28\n",
      "  Running ILS on instance 5/7...\n",
      "\n",
      "ILS finished in 14.15 seconds.\n",
      "Final best objective found by ILS: 3932988.53\n",
      "    Instance 5 Objective: 3932988.53\n",
      "  Running ILS on instance 6/7...\n",
      "\n",
      "ILS finished in 28.43 seconds.\n",
      "Final best objective found by ILS: 4262781.95\n",
      "    Instance 6 Objective: 4262781.95\n",
      "  Running ILS on instance 7/7...\n"
     ]
    },
    {
     "name": "stderr",
     "output_type": "stream",
     "text": [
      "[I 2025-05-31 21:42:03,636] Trial 29 finished with value: 3424363.0450692875 and parameters: {'MAX_ILS_ITERATIONS': 391, 'MAX_NO_IMPROVEMENT_ILS': 2, 'MAX_LS_ITERS_PER_CALL': 40, 'PERTURBATION_STRENGTH': 0.2616130776236747, 'INITIAL_HEURISTIC': 'pa_edf'}. Best is trial 15 with value: 3066629.268805873.\n"
     ]
    },
    {
     "name": "stdout",
     "output_type": "stream",
     "text": [
      "\n",
      "ILS finished in 76.78 seconds.\n",
      "Final best objective found by ILS: 5256369.61\n",
      "    Instance 7 Objective: 5256369.61\n",
      "Optuna Trial 29: Average Objective across 7 instances: 3424363.05\n",
      "\n",
      "Optuna Study Summary:\n",
      "Number of finished trials: 30\n",
      "\n",
      "Best hyperparameters found by Optuna:\n",
      "  MAX_ILS_ITERATIONS: 435\n",
      "  MAX_NO_IMPROVEMENT_ILS: 13\n",
      "  MAX_LS_ITERS_PER_CALL: 5\n",
      "  PERTURBATION_STRENGTH: 0.15570058557209682\n",
      "  INITIAL_HEURISTIC: sa_fcfs\n",
      "Optuna's best average objective value: 3066629.27\n",
      "\n",
      "Re-running ILS with best hyperparameters to collect final KPIs...\n",
      "  Re-running ILS on instance: test_system_1.json with best hyperparameters...\n",
      "\n",
      "ILS Iteration: 10 out of: 435\n",
      "\n",
      "ILS finished in 2.54 seconds.\n",
      "Final best objective found by ILS: 1295549.34\n",
      "    Instance test_system_1.json Objective: 1,295,549.34, Energy: 826.29 kWh, Time: 2.54s\n",
      "  Re-running ILS on instance: test_system_2.json with best hyperparameters...\n",
      "\n",
      "ILS Iteration: 10 out of: 435\n",
      "\n",
      "ILS finished in 5.41 seconds.\n",
      "Final best objective found by ILS: 2305210.95\n",
      "    Instance test_system_2.json Objective: 2,305,210.95, Energy: 1558.54 kWh, Time: 5.41s\n",
      "  Re-running ILS on instance: test_system_3.json with best hyperparameters...\n",
      "\n",
      "ILS Iteration: 10 out of: 435\n",
      "\n",
      "ILS finished in 7.98 seconds.\n",
      "Final best objective found by ILS: 2552117.83\n",
      "    Instance test_system_3.json Objective: 2,552,117.83, Energy: 2745.47 kWh, Time: 7.98s\n",
      "  Re-running ILS on instance: test_system_4.json with best hyperparameters...\n",
      "\n",
      "ILS Iteration: 10 out of: 435\n",
      "\n",
      "ILS finished in 22.00 seconds.\n",
      "Final best objective found by ILS: 3431365.81\n",
      "    Instance test_system_4.json Objective: 3,431,365.81, Energy: 4044.70 kWh, Time: 22.00s\n",
      "  Re-running ILS on instance: test_system_5.json with best hyperparameters...\n",
      "\n",
      "ILS Iteration: 10 out of: 435\n",
      "\n",
      "ILS finished in 32.09 seconds.\n",
      "Final best objective found by ILS: 3779940.44\n",
      "    Instance test_system_5.json Objective: 3,779,940.44, Energy: 5937.99 kWh, Time: 32.09s\n",
      "  Re-running ILS on instance: test_system_6.json with best hyperparameters...\n",
      "\n",
      "ILS Iteration: 10 out of: 435\n",
      "\n",
      "ILS finished in 91.94 seconds.\n",
      "Final best objective found by ILS: 3912382.80\n",
      "    Instance test_system_6.json Objective: 3,912,382.80, Energy: 7799.24 kWh, Time: 91.94s\n",
      "  Re-running ILS on instance: test_system_7.json with best hyperparameters...\n",
      "\n",
      "ILS Iteration: 10 out of: 435\n",
      "\n",
      "ILS finished in 182.06 seconds.\n",
      "Final best objective found by ILS: 4338061.72\n",
      "    Instance test_system_7.json Objective: 4,338,061.72, Energy: 11899.36 kWh, Time: 182.06s\n",
      "\n",
      "Successfully saved results and KPIs to results_and_kpis_3a.json\n",
      "\n",
      "--- Summary of Final Run with Best Hyperparameters ---\n",
      "Total Execution Time: 344.02 seconds\n",
      "Average Objective (on re-run): 3087804.13\n",
      "Total Energy Supplied (all instances): 34811.58 kWh\n",
      "Successful runs / Total instances: 7/7\n"
     ]
    }
   ],
   "source": [
    "# Main execution block (after loading all_problem_instances_data):\n",
    "\n",
    "if all_problem_instances_data: # Proceed only if instances were loaded\n",
    "    #create Optuna Study\n",
    "    study = optuna.create_study(direction='minimize',sampler=optuna.samplers.TPESampler(seed=seed))\n",
    "\n",
    "    objective_with_all_instances = partial(optuna_objective_for_ils,list_of_problem_data_sets=all_problem_instances_data)\n",
    "\n",
    "    n_trials=30\n",
    "    try:\n",
    "        study.optimize(objective_with_all_instances, n_trials=n_trials) \n",
    "    except KeyboardInterrupt:\n",
    "        print(\"Optuna study interrupted by user.\")\n",
    "    except Exception as e:\n",
    "        print(f\"An error occurred during Optuna optimization: {e}\")\n",
    "        import traceback\n",
    "        traceback.print_exc()\n",
    "\n",
    "    # Print the best results\n",
    "    print(\"\\nOptuna Study Summary:\")\n",
    "    print(f\"Number of finished trials: {len(study.trials)}\")\n",
    "\n",
    "    if study.best_trial: # Check if any trial completed successfully\n",
    "        best_hyperparams = study.best_trial.params\n",
    "        optuna_minimized_objective = study.best_trial.value # This is the avg obj Optuna worked with\n",
    "\n",
    "        print(\"\\nBest hyperparameters found by Optuna:\")\n",
    "        for key, value in best_hyperparams.items():\n",
    "            print(f\"  {key}: {value}\")\n",
    "        print(f\"Optuna's best average objective value: {optuna_minimized_objective:.2f}\")\n",
    "\n",
    "        print(\"\\nRe-running ILS with best hyperparameters to collect final KPIs...\")\n",
    "        # Assuming 'all_problem_instances_data' is your list of preprocessed data for all instances\n",
    "        # And 'instance_files' is the corresponding list of filenames\n",
    "        final_run_kpis = run_ils_and_collect_kpis(all_problem_instances_data, best_hyperparams, instance_files)\n",
    "\n",
    "        # Combine all information to save\n",
    "        results_to_store = {\n",
    "            \"best_hyperparameters_from_optuna\": best_hyperparams,\n",
    "            \"optuna_objective_for_best_params\": optuna_minimized_objective,\n",
    "            \"final_run_aggregated_kpis\": final_run_kpis\n",
    "        }\n",
    "\n",
    "        # Store in a JSON file\n",
    "        output_filename = \"results_and_kpis_3a.json\"\n",
    "        try:\n",
    "            with open(output_filename, 'w') as f:\n",
    "                json.dump(results_to_store, f, indent=4)\n",
    "            print(f\"\\nSuccessfully saved results and KPIs to {output_filename}\")\n",
    "        except Exception as e:\n",
    "            print(f\"Error saving results to JSON: {e}\")\n",
    "            \n",
    "        # Print a summary of final run KPIs\n",
    "        print(\"\\n--- Summary of Final Run with Best Hyperparameters ---\")\n",
    "        print(f\"Total Execution Time: {final_run_kpis['total_execution_time_seconds']:.2f} seconds\")\n",
    "        print(f\"Average Objective (on re-run): {final_run_kpis['average_objective_on_rerun']:.2f}\")\n",
    "        print(f\"Total Energy Supplied (all instances): {final_run_kpis['total_energy_supplied_kwh_all_instances']:.2f} kWh\")\n",
    "        print(f\"Successful runs / Total instances: {final_run_kpis['number_of_successful_runs']}/{final_run_kpis['number_of_instances_processed']}\")\n",
    "\n",
    "    else:\n",
    "        print(\"Optuna study did not find a best trial. No KPIs to calculate or save.\")\n"
   ]
  },
  {
   "cell_type": "code",
   "execution_count": null,
   "metadata": {},
   "outputs": [],
   "source": []
  },
  {
   "cell_type": "code",
   "execution_count": null,
   "metadata": {},
   "outputs": [
    {
     "data": {
      "application/vnd.plotly.v1+json": {
       "config": {
        "plotlyServerURL": "https://plot.ly"
       },
       "data": [
        {
         "mode": "markers",
         "name": "Objective Value",
         "type": "scatter",
         "x": [
          0,
          1,
          2,
          3,
          4,
          5,
          6,
          7,
          8,
          9,
          10,
          11,
          12,
          13,
          14,
          15,
          16,
          17,
          18,
          19,
          20,
          21,
          22,
          23,
          24,
          25,
          26,
          27,
          28,
          29
         ],
         "y": [
          3436112.9561864384,
          3087685.9946853956,
          3412622.250742341,
          3082136.4229613286,
          3422706.4860996464,
          3091369.5570286927,
          3103005.2593983794,
          3103623.820918508,
          3415987.1950994073,
          3428725.419769732,
          3081301.0674915365,
          3091736.3312146985,
          3104157.931448261,
          3108296.2396939495,
          3082594.138017155,
          3066629.268805873,
          3087839.240494675,
          3093143.6163679264,
          3104369.7312309477,
          3104975.858866107,
          3080148.8462157473,
          3096985.0250192615,
          3090960.841943893,
          3092371.452112038,
          3076485.2770566726,
          3087747.9579131156,
          3423017.560417303,
          3104103.169468374,
          3091162.257106662,
          3424363.0450692875
         ]
        },
        {
         "mode": "lines",
         "name": "Best Value",
         "type": "scatter",
         "x": [
          0,
          1,
          2,
          3,
          4,
          5,
          6,
          7,
          8,
          9,
          10,
          11,
          12,
          13,
          14,
          15,
          16,
          17,
          18,
          19,
          20,
          21,
          22,
          23,
          24,
          25,
          26,
          27,
          28,
          29
         ],
         "y": [
          3436112.9561864384,
          3087685.9946853956,
          3087685.9946853956,
          3082136.4229613286,
          3082136.4229613286,
          3082136.4229613286,
          3082136.4229613286,
          3082136.4229613286,
          3082136.4229613286,
          3082136.4229613286,
          3081301.0674915365,
          3081301.0674915365,
          3081301.0674915365,
          3081301.0674915365,
          3081301.0674915365,
          3066629.268805873,
          3066629.268805873,
          3066629.268805873,
          3066629.268805873,
          3066629.268805873,
          3066629.268805873,
          3066629.268805873,
          3066629.268805873,
          3066629.268805873,
          3066629.268805873,
          3066629.268805873,
          3066629.268805873,
          3066629.268805873,
          3066629.268805873,
          3066629.268805873
         ]
        },
        {
         "marker": {
          "color": "#cccccc"
         },
         "mode": "markers",
         "name": "Infeasible Trial",
         "showlegend": false,
         "type": "scatter",
         "x": [],
         "y": []
        }
       ],
       "layout": {
        "template": {
         "data": {
          "bar": [
           {
            "error_x": {
             "color": "#2a3f5f"
            },
            "error_y": {
             "color": "#2a3f5f"
            },
            "marker": {
             "line": {
              "color": "#E5ECF6",
              "width": 0.5
             },
             "pattern": {
              "fillmode": "overlay",
              "size": 10,
              "solidity": 0.2
             }
            },
            "type": "bar"
           }
          ],
          "barpolar": [
           {
            "marker": {
             "line": {
              "color": "#E5ECF6",
              "width": 0.5
             },
             "pattern": {
              "fillmode": "overlay",
              "size": 10,
              "solidity": 0.2
             }
            },
            "type": "barpolar"
           }
          ],
          "carpet": [
           {
            "aaxis": {
             "endlinecolor": "#2a3f5f",
             "gridcolor": "white",
             "linecolor": "white",
             "minorgridcolor": "white",
             "startlinecolor": "#2a3f5f"
            },
            "baxis": {
             "endlinecolor": "#2a3f5f",
             "gridcolor": "white",
             "linecolor": "white",
             "minorgridcolor": "white",
             "startlinecolor": "#2a3f5f"
            },
            "type": "carpet"
           }
          ],
          "choropleth": [
           {
            "colorbar": {
             "outlinewidth": 0,
             "ticks": ""
            },
            "type": "choropleth"
           }
          ],
          "contour": [
           {
            "colorbar": {
             "outlinewidth": 0,
             "ticks": ""
            },
            "colorscale": [
             [
              0,
              "#0d0887"
             ],
             [
              0.1111111111111111,
              "#46039f"
             ],
             [
              0.2222222222222222,
              "#7201a8"
             ],
             [
              0.3333333333333333,
              "#9c179e"
             ],
             [
              0.4444444444444444,
              "#bd3786"
             ],
             [
              0.5555555555555556,
              "#d8576b"
             ],
             [
              0.6666666666666666,
              "#ed7953"
             ],
             [
              0.7777777777777778,
              "#fb9f3a"
             ],
             [
              0.8888888888888888,
              "#fdca26"
             ],
             [
              1,
              "#f0f921"
             ]
            ],
            "type": "contour"
           }
          ],
          "contourcarpet": [
           {
            "colorbar": {
             "outlinewidth": 0,
             "ticks": ""
            },
            "type": "contourcarpet"
           }
          ],
          "heatmap": [
           {
            "colorbar": {
             "outlinewidth": 0,
             "ticks": ""
            },
            "colorscale": [
             [
              0,
              "#0d0887"
             ],
             [
              0.1111111111111111,
              "#46039f"
             ],
             [
              0.2222222222222222,
              "#7201a8"
             ],
             [
              0.3333333333333333,
              "#9c179e"
             ],
             [
              0.4444444444444444,
              "#bd3786"
             ],
             [
              0.5555555555555556,
              "#d8576b"
             ],
             [
              0.6666666666666666,
              "#ed7953"
             ],
             [
              0.7777777777777778,
              "#fb9f3a"
             ],
             [
              0.8888888888888888,
              "#fdca26"
             ],
             [
              1,
              "#f0f921"
             ]
            ],
            "type": "heatmap"
           }
          ],
          "heatmapgl": [
           {
            "colorbar": {
             "outlinewidth": 0,
             "ticks": ""
            },
            "colorscale": [
             [
              0,
              "#0d0887"
             ],
             [
              0.1111111111111111,
              "#46039f"
             ],
             [
              0.2222222222222222,
              "#7201a8"
             ],
             [
              0.3333333333333333,
              "#9c179e"
             ],
             [
              0.4444444444444444,
              "#bd3786"
             ],
             [
              0.5555555555555556,
              "#d8576b"
             ],
             [
              0.6666666666666666,
              "#ed7953"
             ],
             [
              0.7777777777777778,
              "#fb9f3a"
             ],
             [
              0.8888888888888888,
              "#fdca26"
             ],
             [
              1,
              "#f0f921"
             ]
            ],
            "type": "heatmapgl"
           }
          ],
          "histogram": [
           {
            "marker": {
             "pattern": {
              "fillmode": "overlay",
              "size": 10,
              "solidity": 0.2
             }
            },
            "type": "histogram"
           }
          ],
          "histogram2d": [
           {
            "colorbar": {
             "outlinewidth": 0,
             "ticks": ""
            },
            "colorscale": [
             [
              0,
              "#0d0887"
             ],
             [
              0.1111111111111111,
              "#46039f"
             ],
             [
              0.2222222222222222,
              "#7201a8"
             ],
             [
              0.3333333333333333,
              "#9c179e"
             ],
             [
              0.4444444444444444,
              "#bd3786"
             ],
             [
              0.5555555555555556,
              "#d8576b"
             ],
             [
              0.6666666666666666,
              "#ed7953"
             ],
             [
              0.7777777777777778,
              "#fb9f3a"
             ],
             [
              0.8888888888888888,
              "#fdca26"
             ],
             [
              1,
              "#f0f921"
             ]
            ],
            "type": "histogram2d"
           }
          ],
          "histogram2dcontour": [
           {
            "colorbar": {
             "outlinewidth": 0,
             "ticks": ""
            },
            "colorscale": [
             [
              0,
              "#0d0887"
             ],
             [
              0.1111111111111111,
              "#46039f"
             ],
             [
              0.2222222222222222,
              "#7201a8"
             ],
             [
              0.3333333333333333,
              "#9c179e"
             ],
             [
              0.4444444444444444,
              "#bd3786"
             ],
             [
              0.5555555555555556,
              "#d8576b"
             ],
             [
              0.6666666666666666,
              "#ed7953"
             ],
             [
              0.7777777777777778,
              "#fb9f3a"
             ],
             [
              0.8888888888888888,
              "#fdca26"
             ],
             [
              1,
              "#f0f921"
             ]
            ],
            "type": "histogram2dcontour"
           }
          ],
          "mesh3d": [
           {
            "colorbar": {
             "outlinewidth": 0,
             "ticks": ""
            },
            "type": "mesh3d"
           }
          ],
          "parcoords": [
           {
            "line": {
             "colorbar": {
              "outlinewidth": 0,
              "ticks": ""
             }
            },
            "type": "parcoords"
           }
          ],
          "pie": [
           {
            "automargin": true,
            "type": "pie"
           }
          ],
          "scatter": [
           {
            "fillpattern": {
             "fillmode": "overlay",
             "size": 10,
             "solidity": 0.2
            },
            "type": "scatter"
           }
          ],
          "scatter3d": [
           {
            "line": {
             "colorbar": {
              "outlinewidth": 0,
              "ticks": ""
             }
            },
            "marker": {
             "colorbar": {
              "outlinewidth": 0,
              "ticks": ""
             }
            },
            "type": "scatter3d"
           }
          ],
          "scattercarpet": [
           {
            "marker": {
             "colorbar": {
              "outlinewidth": 0,
              "ticks": ""
             }
            },
            "type": "scattercarpet"
           }
          ],
          "scattergeo": [
           {
            "marker": {
             "colorbar": {
              "outlinewidth": 0,
              "ticks": ""
             }
            },
            "type": "scattergeo"
           }
          ],
          "scattergl": [
           {
            "marker": {
             "colorbar": {
              "outlinewidth": 0,
              "ticks": ""
             }
            },
            "type": "scattergl"
           }
          ],
          "scattermapbox": [
           {
            "marker": {
             "colorbar": {
              "outlinewidth": 0,
              "ticks": ""
             }
            },
            "type": "scattermapbox"
           }
          ],
          "scatterpolar": [
           {
            "marker": {
             "colorbar": {
              "outlinewidth": 0,
              "ticks": ""
             }
            },
            "type": "scatterpolar"
           }
          ],
          "scatterpolargl": [
           {
            "marker": {
             "colorbar": {
              "outlinewidth": 0,
              "ticks": ""
             }
            },
            "type": "scatterpolargl"
           }
          ],
          "scatterternary": [
           {
            "marker": {
             "colorbar": {
              "outlinewidth": 0,
              "ticks": ""
             }
            },
            "type": "scatterternary"
           }
          ],
          "surface": [
           {
            "colorbar": {
             "outlinewidth": 0,
             "ticks": ""
            },
            "colorscale": [
             [
              0,
              "#0d0887"
             ],
             [
              0.1111111111111111,
              "#46039f"
             ],
             [
              0.2222222222222222,
              "#7201a8"
             ],
             [
              0.3333333333333333,
              "#9c179e"
             ],
             [
              0.4444444444444444,
              "#bd3786"
             ],
             [
              0.5555555555555556,
              "#d8576b"
             ],
             [
              0.6666666666666666,
              "#ed7953"
             ],
             [
              0.7777777777777778,
              "#fb9f3a"
             ],
             [
              0.8888888888888888,
              "#fdca26"
             ],
             [
              1,
              "#f0f921"
             ]
            ],
            "type": "surface"
           }
          ],
          "table": [
           {
            "cells": {
             "fill": {
              "color": "#EBF0F8"
             },
             "line": {
              "color": "white"
             }
            },
            "header": {
             "fill": {
              "color": "#C8D4E3"
             },
             "line": {
              "color": "white"
             }
            },
            "type": "table"
           }
          ]
         },
         "layout": {
          "annotationdefaults": {
           "arrowcolor": "#2a3f5f",
           "arrowhead": 0,
           "arrowwidth": 1
          },
          "autotypenumbers": "strict",
          "coloraxis": {
           "colorbar": {
            "outlinewidth": 0,
            "ticks": ""
           }
          },
          "colorscale": {
           "diverging": [
            [
             0,
             "#8e0152"
            ],
            [
             0.1,
             "#c51b7d"
            ],
            [
             0.2,
             "#de77ae"
            ],
            [
             0.3,
             "#f1b6da"
            ],
            [
             0.4,
             "#fde0ef"
            ],
            [
             0.5,
             "#f7f7f7"
            ],
            [
             0.6,
             "#e6f5d0"
            ],
            [
             0.7,
             "#b8e186"
            ],
            [
             0.8,
             "#7fbc41"
            ],
            [
             0.9,
             "#4d9221"
            ],
            [
             1,
             "#276419"
            ]
           ],
           "sequential": [
            [
             0,
             "#0d0887"
            ],
            [
             0.1111111111111111,
             "#46039f"
            ],
            [
             0.2222222222222222,
             "#7201a8"
            ],
            [
             0.3333333333333333,
             "#9c179e"
            ],
            [
             0.4444444444444444,
             "#bd3786"
            ],
            [
             0.5555555555555556,
             "#d8576b"
            ],
            [
             0.6666666666666666,
             "#ed7953"
            ],
            [
             0.7777777777777778,
             "#fb9f3a"
            ],
            [
             0.8888888888888888,
             "#fdca26"
            ],
            [
             1,
             "#f0f921"
            ]
           ],
           "sequentialminus": [
            [
             0,
             "#0d0887"
            ],
            [
             0.1111111111111111,
             "#46039f"
            ],
            [
             0.2222222222222222,
             "#7201a8"
            ],
            [
             0.3333333333333333,
             "#9c179e"
            ],
            [
             0.4444444444444444,
             "#bd3786"
            ],
            [
             0.5555555555555556,
             "#d8576b"
            ],
            [
             0.6666666666666666,
             "#ed7953"
            ],
            [
             0.7777777777777778,
             "#fb9f3a"
            ],
            [
             0.8888888888888888,
             "#fdca26"
            ],
            [
             1,
             "#f0f921"
            ]
           ]
          },
          "colorway": [
           "#636efa",
           "#EF553B",
           "#00cc96",
           "#ab63fa",
           "#FFA15A",
           "#19d3f3",
           "#FF6692",
           "#B6E880",
           "#FF97FF",
           "#FECB52"
          ],
          "font": {
           "color": "#2a3f5f"
          },
          "geo": {
           "bgcolor": "white",
           "lakecolor": "white",
           "landcolor": "#E5ECF6",
           "showlakes": true,
           "showland": true,
           "subunitcolor": "white"
          },
          "hoverlabel": {
           "align": "left"
          },
          "hovermode": "closest",
          "mapbox": {
           "style": "light"
          },
          "paper_bgcolor": "white",
          "plot_bgcolor": "#E5ECF6",
          "polar": {
           "angularaxis": {
            "gridcolor": "white",
            "linecolor": "white",
            "ticks": ""
           },
           "bgcolor": "#E5ECF6",
           "radialaxis": {
            "gridcolor": "white",
            "linecolor": "white",
            "ticks": ""
           }
          },
          "scene": {
           "xaxis": {
            "backgroundcolor": "#E5ECF6",
            "gridcolor": "white",
            "gridwidth": 2,
            "linecolor": "white",
            "showbackground": true,
            "ticks": "",
            "zerolinecolor": "white"
           },
           "yaxis": {
            "backgroundcolor": "#E5ECF6",
            "gridcolor": "white",
            "gridwidth": 2,
            "linecolor": "white",
            "showbackground": true,
            "ticks": "",
            "zerolinecolor": "white"
           },
           "zaxis": {
            "backgroundcolor": "#E5ECF6",
            "gridcolor": "white",
            "gridwidth": 2,
            "linecolor": "white",
            "showbackground": true,
            "ticks": "",
            "zerolinecolor": "white"
           }
          },
          "shapedefaults": {
           "line": {
            "color": "#2a3f5f"
           }
          },
          "ternary": {
           "aaxis": {
            "gridcolor": "white",
            "linecolor": "white",
            "ticks": ""
           },
           "baxis": {
            "gridcolor": "white",
            "linecolor": "white",
            "ticks": ""
           },
           "bgcolor": "#E5ECF6",
           "caxis": {
            "gridcolor": "white",
            "linecolor": "white",
            "ticks": ""
           }
          },
          "title": {
           "x": 0.05
          },
          "xaxis": {
           "automargin": true,
           "gridcolor": "white",
           "linecolor": "white",
           "ticks": "",
           "title": {
            "standoff": 15
           },
           "zerolinecolor": "white",
           "zerolinewidth": 2
          },
          "yaxis": {
           "automargin": true,
           "gridcolor": "white",
           "linecolor": "white",
           "ticks": "",
           "title": {
            "standoff": 15
           },
           "zerolinecolor": "white",
           "zerolinewidth": 2
          }
         }
        },
        "title": {
         "text": "Optimization History Plot"
        },
        "xaxis": {
         "title": {
          "text": "Trial"
         }
        },
        "yaxis": {
         "title": {
          "text": "Objective Value"
         }
        }
       }
      }
     },
     "metadata": {},
     "output_type": "display_data"
    },
    {
     "data": {
      "application/vnd.plotly.v1+json": {
       "config": {
        "plotlyServerURL": "https://plot.ly"
       },
       "data": [
        {
         "cliponaxis": false,
         "hovertemplate": [
          "MAX_LS_ITERS_PER_CALL (IntDistribution): 9.076087382642113e-05<extra></extra>",
          "MAX_NO_IMPROVEMENT_ILS (IntDistribution): 0.0001004497829532836<extra></extra>",
          "MAX_ILS_ITERATIONS (IntDistribution): 0.0003163318176331357<extra></extra>",
          "PERTURBATION_STRENGTH (FloatDistribution): 0.0004992538661486013<extra></extra>",
          "INITIAL_HEURISTIC (CategoricalDistribution): 0.9989932036594386<extra></extra>"
         ],
         "name": "Objective Value",
         "orientation": "h",
         "text": [
          "<0.01",
          "<0.01",
          "<0.01",
          "<0.01",
          "1.00"
         ],
         "textposition": "outside",
         "type": "bar",
         "x": [
          0.00009076087382642113,
          0.0001004497829532836,
          0.0003163318176331357,
          0.0004992538661486013,
          0.9989932036594386
         ],
         "y": [
          "MAX_LS_ITERS_PER_CALL",
          "MAX_NO_IMPROVEMENT_ILS",
          "MAX_ILS_ITERATIONS",
          "PERTURBATION_STRENGTH",
          "INITIAL_HEURISTIC"
         ]
        }
       ],
       "layout": {
        "template": {
         "data": {
          "bar": [
           {
            "error_x": {
             "color": "#2a3f5f"
            },
            "error_y": {
             "color": "#2a3f5f"
            },
            "marker": {
             "line": {
              "color": "#E5ECF6",
              "width": 0.5
             },
             "pattern": {
              "fillmode": "overlay",
              "size": 10,
              "solidity": 0.2
             }
            },
            "type": "bar"
           }
          ],
          "barpolar": [
           {
            "marker": {
             "line": {
              "color": "#E5ECF6",
              "width": 0.5
             },
             "pattern": {
              "fillmode": "overlay",
              "size": 10,
              "solidity": 0.2
             }
            },
            "type": "barpolar"
           }
          ],
          "carpet": [
           {
            "aaxis": {
             "endlinecolor": "#2a3f5f",
             "gridcolor": "white",
             "linecolor": "white",
             "minorgridcolor": "white",
             "startlinecolor": "#2a3f5f"
            },
            "baxis": {
             "endlinecolor": "#2a3f5f",
             "gridcolor": "white",
             "linecolor": "white",
             "minorgridcolor": "white",
             "startlinecolor": "#2a3f5f"
            },
            "type": "carpet"
           }
          ],
          "choropleth": [
           {
            "colorbar": {
             "outlinewidth": 0,
             "ticks": ""
            },
            "type": "choropleth"
           }
          ],
          "contour": [
           {
            "colorbar": {
             "outlinewidth": 0,
             "ticks": ""
            },
            "colorscale": [
             [
              0,
              "#0d0887"
             ],
             [
              0.1111111111111111,
              "#46039f"
             ],
             [
              0.2222222222222222,
              "#7201a8"
             ],
             [
              0.3333333333333333,
              "#9c179e"
             ],
             [
              0.4444444444444444,
              "#bd3786"
             ],
             [
              0.5555555555555556,
              "#d8576b"
             ],
             [
              0.6666666666666666,
              "#ed7953"
             ],
             [
              0.7777777777777778,
              "#fb9f3a"
             ],
             [
              0.8888888888888888,
              "#fdca26"
             ],
             [
              1,
              "#f0f921"
             ]
            ],
            "type": "contour"
           }
          ],
          "contourcarpet": [
           {
            "colorbar": {
             "outlinewidth": 0,
             "ticks": ""
            },
            "type": "contourcarpet"
           }
          ],
          "heatmap": [
           {
            "colorbar": {
             "outlinewidth": 0,
             "ticks": ""
            },
            "colorscale": [
             [
              0,
              "#0d0887"
             ],
             [
              0.1111111111111111,
              "#46039f"
             ],
             [
              0.2222222222222222,
              "#7201a8"
             ],
             [
              0.3333333333333333,
              "#9c179e"
             ],
             [
              0.4444444444444444,
              "#bd3786"
             ],
             [
              0.5555555555555556,
              "#d8576b"
             ],
             [
              0.6666666666666666,
              "#ed7953"
             ],
             [
              0.7777777777777778,
              "#fb9f3a"
             ],
             [
              0.8888888888888888,
              "#fdca26"
             ],
             [
              1,
              "#f0f921"
             ]
            ],
            "type": "heatmap"
           }
          ],
          "heatmapgl": [
           {
            "colorbar": {
             "outlinewidth": 0,
             "ticks": ""
            },
            "colorscale": [
             [
              0,
              "#0d0887"
             ],
             [
              0.1111111111111111,
              "#46039f"
             ],
             [
              0.2222222222222222,
              "#7201a8"
             ],
             [
              0.3333333333333333,
              "#9c179e"
             ],
             [
              0.4444444444444444,
              "#bd3786"
             ],
             [
              0.5555555555555556,
              "#d8576b"
             ],
             [
              0.6666666666666666,
              "#ed7953"
             ],
             [
              0.7777777777777778,
              "#fb9f3a"
             ],
             [
              0.8888888888888888,
              "#fdca26"
             ],
             [
              1,
              "#f0f921"
             ]
            ],
            "type": "heatmapgl"
           }
          ],
          "histogram": [
           {
            "marker": {
             "pattern": {
              "fillmode": "overlay",
              "size": 10,
              "solidity": 0.2
             }
            },
            "type": "histogram"
           }
          ],
          "histogram2d": [
           {
            "colorbar": {
             "outlinewidth": 0,
             "ticks": ""
            },
            "colorscale": [
             [
              0,
              "#0d0887"
             ],
             [
              0.1111111111111111,
              "#46039f"
             ],
             [
              0.2222222222222222,
              "#7201a8"
             ],
             [
              0.3333333333333333,
              "#9c179e"
             ],
             [
              0.4444444444444444,
              "#bd3786"
             ],
             [
              0.5555555555555556,
              "#d8576b"
             ],
             [
              0.6666666666666666,
              "#ed7953"
             ],
             [
              0.7777777777777778,
              "#fb9f3a"
             ],
             [
              0.8888888888888888,
              "#fdca26"
             ],
             [
              1,
              "#f0f921"
             ]
            ],
            "type": "histogram2d"
           }
          ],
          "histogram2dcontour": [
           {
            "colorbar": {
             "outlinewidth": 0,
             "ticks": ""
            },
            "colorscale": [
             [
              0,
              "#0d0887"
             ],
             [
              0.1111111111111111,
              "#46039f"
             ],
             [
              0.2222222222222222,
              "#7201a8"
             ],
             [
              0.3333333333333333,
              "#9c179e"
             ],
             [
              0.4444444444444444,
              "#bd3786"
             ],
             [
              0.5555555555555556,
              "#d8576b"
             ],
             [
              0.6666666666666666,
              "#ed7953"
             ],
             [
              0.7777777777777778,
              "#fb9f3a"
             ],
             [
              0.8888888888888888,
              "#fdca26"
             ],
             [
              1,
              "#f0f921"
             ]
            ],
            "type": "histogram2dcontour"
           }
          ],
          "mesh3d": [
           {
            "colorbar": {
             "outlinewidth": 0,
             "ticks": ""
            },
            "type": "mesh3d"
           }
          ],
          "parcoords": [
           {
            "line": {
             "colorbar": {
              "outlinewidth": 0,
              "ticks": ""
             }
            },
            "type": "parcoords"
           }
          ],
          "pie": [
           {
            "automargin": true,
            "type": "pie"
           }
          ],
          "scatter": [
           {
            "fillpattern": {
             "fillmode": "overlay",
             "size": 10,
             "solidity": 0.2
            },
            "type": "scatter"
           }
          ],
          "scatter3d": [
           {
            "line": {
             "colorbar": {
              "outlinewidth": 0,
              "ticks": ""
             }
            },
            "marker": {
             "colorbar": {
              "outlinewidth": 0,
              "ticks": ""
             }
            },
            "type": "scatter3d"
           }
          ],
          "scattercarpet": [
           {
            "marker": {
             "colorbar": {
              "outlinewidth": 0,
              "ticks": ""
             }
            },
            "type": "scattercarpet"
           }
          ],
          "scattergeo": [
           {
            "marker": {
             "colorbar": {
              "outlinewidth": 0,
              "ticks": ""
             }
            },
            "type": "scattergeo"
           }
          ],
          "scattergl": [
           {
            "marker": {
             "colorbar": {
              "outlinewidth": 0,
              "ticks": ""
             }
            },
            "type": "scattergl"
           }
          ],
          "scattermapbox": [
           {
            "marker": {
             "colorbar": {
              "outlinewidth": 0,
              "ticks": ""
             }
            },
            "type": "scattermapbox"
           }
          ],
          "scatterpolar": [
           {
            "marker": {
             "colorbar": {
              "outlinewidth": 0,
              "ticks": ""
             }
            },
            "type": "scatterpolar"
           }
          ],
          "scatterpolargl": [
           {
            "marker": {
             "colorbar": {
              "outlinewidth": 0,
              "ticks": ""
             }
            },
            "type": "scatterpolargl"
           }
          ],
          "scatterternary": [
           {
            "marker": {
             "colorbar": {
              "outlinewidth": 0,
              "ticks": ""
             }
            },
            "type": "scatterternary"
           }
          ],
          "surface": [
           {
            "colorbar": {
             "outlinewidth": 0,
             "ticks": ""
            },
            "colorscale": [
             [
              0,
              "#0d0887"
             ],
             [
              0.1111111111111111,
              "#46039f"
             ],
             [
              0.2222222222222222,
              "#7201a8"
             ],
             [
              0.3333333333333333,
              "#9c179e"
             ],
             [
              0.4444444444444444,
              "#bd3786"
             ],
             [
              0.5555555555555556,
              "#d8576b"
             ],
             [
              0.6666666666666666,
              "#ed7953"
             ],
             [
              0.7777777777777778,
              "#fb9f3a"
             ],
             [
              0.8888888888888888,
              "#fdca26"
             ],
             [
              1,
              "#f0f921"
             ]
            ],
            "type": "surface"
           }
          ],
          "table": [
           {
            "cells": {
             "fill": {
              "color": "#EBF0F8"
             },
             "line": {
              "color": "white"
             }
            },
            "header": {
             "fill": {
              "color": "#C8D4E3"
             },
             "line": {
              "color": "white"
             }
            },
            "type": "table"
           }
          ]
         },
         "layout": {
          "annotationdefaults": {
           "arrowcolor": "#2a3f5f",
           "arrowhead": 0,
           "arrowwidth": 1
          },
          "autotypenumbers": "strict",
          "coloraxis": {
           "colorbar": {
            "outlinewidth": 0,
            "ticks": ""
           }
          },
          "colorscale": {
           "diverging": [
            [
             0,
             "#8e0152"
            ],
            [
             0.1,
             "#c51b7d"
            ],
            [
             0.2,
             "#de77ae"
            ],
            [
             0.3,
             "#f1b6da"
            ],
            [
             0.4,
             "#fde0ef"
            ],
            [
             0.5,
             "#f7f7f7"
            ],
            [
             0.6,
             "#e6f5d0"
            ],
            [
             0.7,
             "#b8e186"
            ],
            [
             0.8,
             "#7fbc41"
            ],
            [
             0.9,
             "#4d9221"
            ],
            [
             1,
             "#276419"
            ]
           ],
           "sequential": [
            [
             0,
             "#0d0887"
            ],
            [
             0.1111111111111111,
             "#46039f"
            ],
            [
             0.2222222222222222,
             "#7201a8"
            ],
            [
             0.3333333333333333,
             "#9c179e"
            ],
            [
             0.4444444444444444,
             "#bd3786"
            ],
            [
             0.5555555555555556,
             "#d8576b"
            ],
            [
             0.6666666666666666,
             "#ed7953"
            ],
            [
             0.7777777777777778,
             "#fb9f3a"
            ],
            [
             0.8888888888888888,
             "#fdca26"
            ],
            [
             1,
             "#f0f921"
            ]
           ],
           "sequentialminus": [
            [
             0,
             "#0d0887"
            ],
            [
             0.1111111111111111,
             "#46039f"
            ],
            [
             0.2222222222222222,
             "#7201a8"
            ],
            [
             0.3333333333333333,
             "#9c179e"
            ],
            [
             0.4444444444444444,
             "#bd3786"
            ],
            [
             0.5555555555555556,
             "#d8576b"
            ],
            [
             0.6666666666666666,
             "#ed7953"
            ],
            [
             0.7777777777777778,
             "#fb9f3a"
            ],
            [
             0.8888888888888888,
             "#fdca26"
            ],
            [
             1,
             "#f0f921"
            ]
           ]
          },
          "colorway": [
           "#636efa",
           "#EF553B",
           "#00cc96",
           "#ab63fa",
           "#FFA15A",
           "#19d3f3",
           "#FF6692",
           "#B6E880",
           "#FF97FF",
           "#FECB52"
          ],
          "font": {
           "color": "#2a3f5f"
          },
          "geo": {
           "bgcolor": "white",
           "lakecolor": "white",
           "landcolor": "#E5ECF6",
           "showlakes": true,
           "showland": true,
           "subunitcolor": "white"
          },
          "hoverlabel": {
           "align": "left"
          },
          "hovermode": "closest",
          "mapbox": {
           "style": "light"
          },
          "paper_bgcolor": "white",
          "plot_bgcolor": "#E5ECF6",
          "polar": {
           "angularaxis": {
            "gridcolor": "white",
            "linecolor": "white",
            "ticks": ""
           },
           "bgcolor": "#E5ECF6",
           "radialaxis": {
            "gridcolor": "white",
            "linecolor": "white",
            "ticks": ""
           }
          },
          "scene": {
           "xaxis": {
            "backgroundcolor": "#E5ECF6",
            "gridcolor": "white",
            "gridwidth": 2,
            "linecolor": "white",
            "showbackground": true,
            "ticks": "",
            "zerolinecolor": "white"
           },
           "yaxis": {
            "backgroundcolor": "#E5ECF6",
            "gridcolor": "white",
            "gridwidth": 2,
            "linecolor": "white",
            "showbackground": true,
            "ticks": "",
            "zerolinecolor": "white"
           },
           "zaxis": {
            "backgroundcolor": "#E5ECF6",
            "gridcolor": "white",
            "gridwidth": 2,
            "linecolor": "white",
            "showbackground": true,
            "ticks": "",
            "zerolinecolor": "white"
           }
          },
          "shapedefaults": {
           "line": {
            "color": "#2a3f5f"
           }
          },
          "ternary": {
           "aaxis": {
            "gridcolor": "white",
            "linecolor": "white",
            "ticks": ""
           },
           "baxis": {
            "gridcolor": "white",
            "linecolor": "white",
            "ticks": ""
           },
           "bgcolor": "#E5ECF6",
           "caxis": {
            "gridcolor": "white",
            "linecolor": "white",
            "ticks": ""
           }
          },
          "title": {
           "x": 0.05
          },
          "xaxis": {
           "automargin": true,
           "gridcolor": "white",
           "linecolor": "white",
           "ticks": "",
           "title": {
            "standoff": 15
           },
           "zerolinecolor": "white",
           "zerolinewidth": 2
          },
          "yaxis": {
           "automargin": true,
           "gridcolor": "white",
           "linecolor": "white",
           "ticks": "",
           "title": {
            "standoff": 15
           },
           "zerolinecolor": "white",
           "zerolinewidth": 2
          }
         }
        },
        "title": {
         "text": "Hyperparameter Importances"
        },
        "xaxis": {
         "title": {
          "text": "Hyperparameter Importance"
         }
        },
        "yaxis": {
         "title": {
          "text": "Hyperparameter"
         }
        }
       }
      }
     },
     "metadata": {},
     "output_type": "display_data"
    }
   ],
   "source": [
    "# You can also explore other Optuna features like visualization:\n",
    "if optuna.visualization.is_available():\n",
    "    fig = optuna.visualization.plot_optimization_history(study)\n",
    "    fig.show()\n",
    "    fig_params = optuna.visualization.plot_param_importances(study)\n",
    "    fig_params.show()"
   ]
  },
  {
   "cell_type": "code",
   "execution_count": null,
   "metadata": {},
   "outputs": [],
   "source": [
    "import pickle\n",
    "\n",
    "# Save the sampler with pickle to be loaded later.\n",
    "with open(\"sampler.pkl\", \"wb\") as fout:\n",
    "    pickle.dump(study.sampler, fout)"
   ]
  }
 ],
 "metadata": {
  "kernelspec": {
   "display_name": "base",
   "language": "python",
   "name": "python3"
  },
  "language_info": {
   "codemirror_mode": {
    "name": "ipython",
    "version": 3
   },
   "file_extension": ".py",
   "mimetype": "text/x-python",
   "name": "python",
   "nbconvert_exporter": "python",
   "pygments_lexer": "ipython3",
   "version": "3.11.8"
  }
 },
 "nbformat": 4,
 "nbformat_minor": 2
}
