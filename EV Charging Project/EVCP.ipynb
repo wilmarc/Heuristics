{
 "cells": [
  {
   "cell_type": "markdown",
   "metadata": {},
   "source": [
    "# Project: Electric Vehicle Charging Scheduling Problem (EVCS)\n",
    "## First deliverable\n",
    "## Prescriptive Analytics: Heuristics for Decision Making\n",
    "### Wilmar Calderón - 201630701"
   ]
  },
  {
   "cell_type": "markdown",
   "metadata": {},
   "source": [
    "### **Mathematical Formulation of the Electric Vehicle Charging Scheduling (EVCS) Problem**\n",
    "\n",
    "The **EV Charging Scheduling -EVCS-** can be mathematically formulated as follows:\n",
    "\n",
    "#### **Decision Variables**  \n",
    "\n",
    "\n",
    "#### **Objective Function**\n",
    "\n",
    "\n",
    "#### **Parameters**\n",
    "\n",
    "\n",
    "#### **Constraints**\n",
    "\n"
   ]
  },
  {
   "cell_type": "code",
   "execution_count": 20,
   "metadata": {},
   "outputs": [
    {
     "name": "stdout",
     "output_type": "stream",
     "text": [
      "\n",
      "File: test_system_1.json\n",
      "Number of spots: 10\n",
      "Transformer limit: 35\n",
      "\n",
      "energy_prices:\n",
      "   time      price\n",
      "0  0.00  21.484523\n",
      "1  0.25  20.922122\n",
      "2  0.50  23.742786\n",
      "3  0.75  26.573193\n",
      "4  1.00  32.732944\n",
      "\n",
      "arrivals:\n",
      "   id  arrival_time  departure_time  required_energy\n",
      "0   0      0.310147        3.291565        26.478437\n",
      "1   1      0.507253        4.708498        14.873750\n",
      "2   2      0.764221        5.364167        10.525725\n",
      "3   3      1.988622        5.325897        21.743116\n",
      "4   4      1.770625        6.461921        12.450088\n",
      "\n",
      "parking_lot:\n",
      "   charger_id  power\n",
      "0           0      7\n",
      "1           1      7\n",
      "2           2      7\n",
      "3           3      7\n",
      "4           4      7\n"
     ]
    }
   ],
   "source": [
    "import json\n",
    "import pandas as pd\n",
    "from typing import Dict, Tuple\n",
    "\n",
    "def load_json_to_dfs(file_path: str) -> Tuple[Dict[str, pd.DataFrame], int, int]:\n",
    "    \"\"\"\n",
    "    Carga un archivo JSON y lo convierte en múltiples DataFrames de pandas.\n",
    "    También extrae el número de puestos de parqueo (n_spot) y el límite del transformador.\n",
    "    \"\"\"\n",
    "    with open(file_path, 'r') as file:\n",
    "        data = json.load(file)\n",
    "    \n",
    "    dfs = {}\n",
    "\n",
    "# Extraer información del parking_config\n",
    "    parking_config = data.get('parking_config', {})\n",
    "    n_spot = parking_config['n_spots']\n",
    "    transformer_limit =parking_config['transformer_limit'] \n",
    "\n",
    "    dfs['energy_prices'] = pd.DataFrame(data['energy_prices'], columns=['time', 'price'])\n",
    "    dfs['arrivals'] = pd.DataFrame(data['arrivals'], columns=['id', 'arrival_time', 'departure_time', 'required_energy'])\n",
    "    dfs['parking_lot'] = pd.DataFrame(parking_config['chargers'],columns=[\"charger_id\",\"power\"])\n",
    "    \n",
    "    return dfs, n_spot, transformer_limit\n",
    "\n",
    "# Ejemplo de uso\n",
    "file_paths = ['test_system_1.json']\n",
    "for file_path in file_paths:\n",
    "    dfs, n_spot, transformer_limit = load_json_to_dfs(file_path)\n",
    "    print(f\"\\nFile: {file_path}\")\n",
    "    print(f\"Number of spots: {n_spot}\")\n",
    "    print(f\"Transformer limit: {transformer_limit}\")\n",
    "    for name, df in dfs.items():\n",
    "        print(f\"\\n{name}:\")\n",
    "        print(df.head())\n"
   ]
  },
  {
   "cell_type": "code",
   "execution_count": null,
   "metadata": {},
   "outputs": [],
   "source": []
  }
 ],
 "metadata": {
  "kernelspec": {
   "display_name": "base",
   "language": "python",
   "name": "python3"
  },
  "language_info": {
   "codemirror_mode": {
    "name": "ipython",
    "version": 3
   },
   "file_extension": ".py",
   "mimetype": "text/x-python",
   "name": "python",
   "nbconvert_exporter": "python",
   "pygments_lexer": "ipython3",
   "version": "3.11.8"
  }
 },
 "nbformat": 4,
 "nbformat_minor": 2
}
